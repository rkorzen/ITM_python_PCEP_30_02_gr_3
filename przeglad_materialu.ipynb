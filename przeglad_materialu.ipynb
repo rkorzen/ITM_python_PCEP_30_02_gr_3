{
 "cells": [
  {
   "cell_type": "markdown",
   "id": "f5bfe489",
   "metadata": {},
   "source": []
  },
  {
   "cell_type": "markdown",
   "id": "bbdae0d9",
   "metadata": {},
   "source": [
    "# Python Fundamentals\n",
    "\n",
    "Język obiektowy, wspierający różne paradygmaty programowania. O szerokich zastosowaniach. Interpretowany. Z dużą społecznością. Bardzo popularny.\n",
    "\n",
    "Python to popularny język programowania wysokiego poziomu, który po raz pierwszy został wydany w 1991 roku przez Guido van Rossuma, holenderskiego programistę komputerowego. Oto krótka historia Pythona: Van Rossum rozpoczął pracę nad Pythonem w grudniu 1989 roku, kiedy pracował w Narodowym Instytucie Badawczym Matematyki i Informatyki w Holandii. Zainspirował go szereg innych języków programowania, w tym ABC, Modula-3 i C.\n",
    "\n",
    "Python został oficjalnie wydany 20 lutego 1991 roku. Jego nazwa została zainspirowana brytyjską grupą komediową Monty Python.\n",
    "\n",
    "Na początku lat 90. Python był używany głównie do zadań związanych z administrowaniem systemem oraz jako język skryptowy dla większych projektów programistycznych.\n",
    "\n",
    "Pod koniec lat 90. Python zyskał popularność jako język programowania ogólnego przeznaczenia i zaczął być używany w wielu zastosowaniach, w tym w obliczeniach naukowych, analizie danych i tworzeniu stron internetowych.\n",
    "\n",
    "W 2000 roku wydano Python 2.0, który wprowadził szereg nowych funkcji, w tym obsługę Unicode i system wyrzucania elementów bezużytecznych.\n",
    "\n",
    "W 2008 roku wydano Python 3.0, który wprowadził istotne zmiany w składni języka i standardowej bibliotece. Python 3.0 nie był wstecznie kompatybilny z wcześniejszymi wersjami Pythona, co spowodowało pewne zamieszanie wśród użytkowników i spowolniło jego wdrażanie.\n",
    "\n",
    "Obecnie Python jest jednym z najpopularniejszych języków programowania na świecie i jest używany w wielu dziedzinach, w tym w tworzeniu stron internetowych, nauce o danych, uczeniu maszynowym i obliczeniach naukowych."
   ]
  },
  {
   "cell_type": "markdown",
   "id": "a01d7f60",
   "metadata": {},
   "source": [
    "## PCEP-30-02 1.1 – Understand fundamental terms and definitions\n",
    "\n",
    "### interpreting and the interpreter, compilation and the compiler\n",
    "\n",
    "*Interpretacja*: W przypadku interpretacji, kod źródłowy jest czytany i wykonywany linijka po linijce przez interpreter. Interpreter analizuje i tłumaczy kod na bieżąco, co oznacza, że ​​nie ma konieczności wcześniejszego przekształcenia go w postać wykonywalną. Ten proces jest często bardziej elastyczny i pozwala na natychmiastową identyfikację błędów w kodzie, ponieważ interpreter zatrzymuje wykonanie programu w momencie napotkania błędu. Jednym z popularnych języków programowania, który korzysta z tego podejścia, jest Python.\n",
    "\n",
    "*Kompilacja*: W przeciwieństwie do interpretacji, proces kompilacji polega na przekształceniu kodu źródłowego w postać wykonywalną, znaną jako kod maszynowy, przed jego uruchomieniem. Kompilator analizuje cały kod źródłowy i przekształca go na instrukcje zrozumiałe dla komputera. Wynikiem tego procesu jest plik wykonywalny, który może być uruchomiony bez potrzeby dostępu do oryginalnego kodu źródłowego. Przykładem języka programowania, który wykorzystuje kompilację, jest C++.\n",
    "\n",
    "\n",
    "Python to język interpretowany, aczkolwiek w czasie uruchamiania skryptów pythona zachodzi proces ich kompilacji do postaci bytecode. I ta postać jest potem interpretowana. "
   ]
  },
  {
   "cell_type": "markdown",
   "id": "8a6aa05a",
   "metadata": {},
   "source": [
    "#### Interpreter\n",
    "\n",
    "Interpreter Pythona to program, który jest odpowiedzialny za wykonywanie kodu napisanego w języku Python. Gdy chcesz uruchomić kod Pythona, musisz go zapisać w pliku z rozszerzeniem \".py\" i następnie uruchomić interpreter Pythona za pomocą polecenia \"python\" w wierszu poleceń.\n",
    "\n",
    "Interpreter Pythona działa w następujący sposób:\n",
    "\n",
    "* Wczytuje plik z kodem Pythona i przechodzi przez go linia po linii, analizując go i tworząc odpowiedni model danych w pamięci i kompiluje go do bytecode, który jest zoptymalizowany pod kątem wydajności.\n",
    "\n",
    "* Gdy interpreter napotka instrukcję, wykonuje ją. Może to być np. instrukcja przypisania wartości do zmiennej, wywołanie funkcji lub instrukcja warunkowa (np. if).\n",
    "\n",
    "* Jeśli interpreter napotka błąd podczas analizy lub wykonywania kodu, wyświetli komunikat o błędzie i zatrzyma wykonywanie kodu.\n",
    "\n",
    "* Gdy interpreter dojdzie do końca kodu, zakończy działanie.\n",
    "\n",
    "Ponieważ bytecode jest zoptymalizowany pod kątem wydajności, interpreter Pythona jest w stanie szybciej wykonywać kod niż interpreter innych języków programowania, które nie wykorzystują kompilacji do bytecode.\n",
    "\n",
    "Interpreter Pythona umożliwia wykonywanie kodu w trybie interaktywnym, co pozwala na testowanie i debugowanie kodu linijka po linijce. Możesz to zrobić, uruchamiając interpreter Pythona bez podawania nazwy pliku, np. poprzez wpisanie polecenia \"python\" w wierszu poleceń.\n",
    "\n",
    "##### Dodatkowe parametry przy uruchamianiu skryptów:\n",
    "\n",
    "Przy uruchamianiu skryptów Pythona możesz używać różnych dodatkowych parametrów, które pozwalają na zmianę sposobu działania interpretera lub skryptu. Oto kilka przykładów takich parametrów:\n",
    "\n",
    "*    `-d`: Służy do włączenia opcji debugowania. Dzięki temu interpreter wyświetli dodatkowe informacje, takie jak nazwy zmiennych i wartości, które mogą pomóc w debugowaniu kodu.\n",
    "\n",
    "*    `-O`: Służy do włączenia optymalizacji kodu. Dzięki temu interpreter zoptymalizuje bytecode, co może przyspieszyć wykonywanie kodu.\n",
    "\n",
    "*    `-i`: Służy do uruchomienia skryptu w trybie interaktywnym po jego zakończeniu. Po wykonaniu skryptu interpreter pozostanie aktywny, co pozwala na testowanie i debugowanie kodu linijka po linijce.\n",
    "\n",
    "*    `-m` module: Służy do uruchomienia modułu Pythona jako skrypt. Pozwala to na uruchamianie modułów bez konieczności importowania ich do innych skryptów.\n",
    "\n",
    "*    `-c` command: Służy do wykonania polecenia Pythona z linii poleceń. Pozwala to na wykonywanie pojedynczych poleceń bez konieczności tworzenia osobnego pliku skryptu.\n",
    "\n",
    "\n",
    "    $ python nazwa.py\n",
    "\n",
    "    $ python\n",
    "    \n",
    "    $ python -i nazwa.py\n",
    "    "
   ]
  },
  {
   "cell_type": "markdown",
   "id": "4e64a937",
   "metadata": {},
   "source": [
    "  \n",
    "\n",
    "\n",
    "### lexis, syntax, and semantics\n",
    "\n",
    "W kontekście języka programowania Python, leksyka (lexis), składnia (syntax) i semantyka (semantics) odnoszą się do trzech fundamentalnych aspektów, które razem definiują, jak kod jest pisany, interpretowany i jakie działanie reprezentuje. Oto krótkie wyjaśnienie każdego z tych pojęć:\n",
    "\n",
    "#### Lexis (Leksyka)\n",
    "\n",
    "Leksyka w Pythonie odnosi się do zbioru słów i symboli, które są uznawane przez język jako poprawne. W kontekście programowania, te \"słowa\" i \"symbole\" to identyfikatory (np. nazwy zmiennych, nazwy funkcji), typy danych, literały (np. wartości liczbowe, ciągi znaków), operatory (np. `+`, `-`, `*`, `/`) i inne tokeny językowe. Leksyka określa podstawowe \"budulce\", z których składany jest kod źródłowy. Python ma ściśle określony zbiór słów kluczowych (np. `if`, `for`, `def`), które mają specjalne znaczenie i nie mogą być używane jako identyfikatory.\n",
    "\n",
    "#### Syntax (Składnia)\n",
    "\n",
    "Składnia w Pythonie to zbiór reguł, które określają, jak tokeny leksykalne mogą być połączone, aby utworzyć poprawne struktury językowe, takie jak wyrażenia, instrukcje i definicje funkcji. Składnia definiuje \"gramatykę\" języka Python, określając, na przykład, jak należy pisać instrukcję warunkową (`if`), jak definiować funkcję (`def nazwa_funkcji(parametry):`) czy jak tworzyć pętle (`for`, `while`). Poprawna składnia jest niezbędna, aby interpreter Pythona mógł zrozumieć i wykonanie kodu.\n",
    "\n",
    "#### Semantics (Semantyka)\n",
    "\n",
    "Semantyka w Pythonie odnosi się do znaczenia i zachowania konstrukcji językowych zdefiniowanych przez leksykę i składnię. Innymi słowy, semantyka opisuje, co konkretnie dzieje się, gdy kod jest wykonany przez interpreter Pythona. Semantyka obejmuje działanie operacji, przepływ sterowania programu (jak program reaguje na instrukcje warunkowe, pętle, wyjątki), sposób, w jaki funkcje są wywoływane i zwracają wartości, jak są przechowywane i manipulowane dane, i tak dalej. Semantyka jest tym, co decyduje o działaniu programu - jej zrozumienie jest kluczowe dla efektywnego programowania i rozwiązywania problemów.\n",
    "\n",
    "Podsumowując, leksyka, składnia i semantyka są trzema kolumnami, na których opiera się każdy język programowania, w tym Python. Razem definiują, jak pisać kod, jak ten kod jest interpretowany przez maszynę, i co ostatecznie ten kod robi.\n",
    "\n",
    "## PCEP-30-02 1.2 – Understand Python’s logic and structure\n",
    "\n",
    "### keywords\n",
    "\n",
    "Słowa kluczowe w języku Python to zdefiniowane wcześniej słowa, które mają specjalne znaczenie i są zarezerwowane dla konkretnych zastosowań w języku programowania. Słowa kluczowe nie mogą być używane jako nazwy zmiennych ani identyfikatorów w kodzie programu, ponieważ są one integralną częścią składni Pythona. \n",
    "    \n",
    "    \n",
    "\n",
    "\n",
    "\n",
    "    keywords"
   ]
  },
  {
   "cell_type": "code",
   "execution_count": 1,
   "id": "e1383c03",
   "metadata": {},
   "outputs": [
    {
     "name": "stdout",
     "output_type": "stream",
     "text": [
      "\n",
      "Here is a list of the Python keywords.  Enter any keyword to get more help.\n",
      "\n",
      "False               class               from                or\n",
      "None                continue            global              pass\n",
      "True                def                 if                  raise\n",
      "and                 del                 import              return\n",
      "as                  elif                in                  try\n",
      "assert              else                is                  while\n",
      "async               except              lambda              with\n",
      "await               finally             nonlocal            yield\n",
      "break               for                 not                 \n",
      "\n"
     ]
    }
   ],
   "source": [
    "help(\"keywords\")"
   ]
  },
  {
   "cell_type": "markdown",
   "id": "160057a0",
   "metadata": {},
   "source": [
    "False, True, None"
   ]
  },
  {
   "cell_type": "markdown",
   "id": "87e2c1ec",
   "metadata": {},
   "source": [
    "and, or, not, is, in, if, elif, else"
   ]
  },
  {
   "cell_type": "markdown",
   "id": "c4436d12",
   "metadata": {},
   "source": [
    "async, await"
   ]
  },
  {
   "cell_type": "markdown",
   "id": "b857c884",
   "metadata": {},
   "source": [
    "def, class, return, yield, pass, lambda"
   ]
  },
  {
   "cell_type": "markdown",
   "id": "8dfe811b",
   "metadata": {},
   "source": [
    "assert"
   ]
  },
  {
   "cell_type": "markdown",
   "id": "767101aa",
   "metadata": {},
   "source": [
    "for, while, else, break, continue"
   ]
  },
  {
   "cell_type": "markdown",
   "id": "36df2e22",
   "metadata": {},
   "source": [
    "raise, try, except, finally"
   ]
  },
  {
   "cell_type": "markdown",
   "id": "0a7df442",
   "metadata": {},
   "source": [
    "global, nonlocal, del"
   ]
  },
  {
   "cell_type": "markdown",
   "id": "40b895f6",
   "metadata": {},
   "source": [
    "import, from, as"
   ]
  },
  {
   "cell_type": "markdown",
   "id": "44b1edcd",
   "metadata": {},
   "source": [
    "with, as"
   ]
  },
  {
   "cell_type": "code",
   "execution_count": null,
   "id": "86744144",
   "metadata": {},
   "outputs": [],
   "source": [
    "\"\"\"\n",
    "To jest jakiś\n",
    "długi komentarz\n",
    "\"\"\""
   ]
  },
  {
   "cell_type": "markdown",
   "id": "f7e38b7d",
   "metadata": {},
   "source": [
    "### instructions\n",
    "    "
   ]
  },
  {
   "cell_type": "code",
   "execution_count": null,
   "id": "49064459",
   "metadata": {},
   "outputs": [],
   "source": [
    "x = 1 # przypisanie\n",
    "print() # wywołanie\n",
    "\n",
    "# definicje\n",
    "def foo():\n",
    "    pass\n",
    "\n",
    "class Foo():\n",
    "    pass\n",
    "\n",
    "foo(), Foo()\n",
    "\n",
    "# instrukcje sterujace\n",
    "\n",
    "if x == 1:\n",
    "    for i in range(10): print(i)\n",
    "else:\n",
    "    print(\"cos innego\")"
   ]
  },
  {
   "cell_type": "markdown",
   "id": "1d740eae",
   "metadata": {},
   "source": [
    "    \n",
    "### indentation\n",
    "\n",
    "Przykład z jakiegoś innego hipotetycznego języka:"
   ]
  },
  {
   "cell_type": "markdown",
   "id": "485dce3f",
   "metadata": {},
   "source": [
    "\n",
    "```\n",
    "if (wyrazenie) {inst1; instr2;} else {print(\"a\"); print(\"b\")}\n",
    "\n",
    "\n",
    "if (wyrazenie) \n",
    "{\n",
    "  inst1; \n",
    "  instr2;\n",
    "} \n",
    "else \n",
    "{\n",
    "  print(\"a\"); \n",
    "  print(\"b\");\n",
    "}\n",
    "```"
   ]
  },
  {
   "cell_type": "markdown",
   "id": "1e7faa21",
   "metadata": {},
   "source": [
    "przykład z Pythona"
   ]
  },
  {
   "cell_type": "code",
   "execution_count": 2,
   "id": "f6dec5b6",
   "metadata": {},
   "outputs": [
    {
     "name": "stdout",
     "output_type": "stream",
     "text": [
      "przed wyrażeniem\n",
      "a 10\n",
      "b\n",
      "jeste po wyrażeniu\n"
     ]
    }
   ],
   "source": [
    "wyrazenie = 1 > 2\n",
    "a = 10\n",
    "print(\"przed wyrażeniem\")\n",
    "\n",
    "if wyrazenie:\n",
    "    # blok instrukcji\n",
    "    instr1\n",
    "    instr2\n",
    "    \n",
    "else:\n",
    "    if a > 5:\n",
    "        print(\"a\", a)\n",
    "    print(\"b\")\n",
    "    \n",
    "print(\"jeste po wyrażeniu\")"
   ]
  },
  {
   "cell_type": "code",
   "execution_count": null,
   "id": "ef995438",
   "metadata": {},
   "outputs": [],
   "source": [
    "def jakas_funkcja():\n",
    "    \"\"\"napis\"\"\""
   ]
  },
  {
   "cell_type": "markdown",
   "id": "42628290",
   "metadata": {},
   "source": [
    "### comments"
   ]
  },
  {
   "cell_type": "code",
   "execution_count": null,
   "id": "47b26e8a",
   "metadata": {},
   "outputs": [],
   "source": [
    "# komentarz\n",
    "# linia 2\n",
    "# ctrl + /\n",
    "\n",
    "x = 1  # parameter x "
   ]
  },
  {
   "cell_type": "code",
   "execution_count": null,
   "id": "094868f3",
   "metadata": {},
   "outputs": [],
   "source": [
    "\"\"\"\n",
    "komentarz\n",
    "linia 2\n",
    "ctrl + /\n",
    "\"\"\""
   ]
  },
  {
   "cell_type": "markdown",
   "id": "0029cc7a",
   "metadata": {},
   "source": [
    "## PCEP-30-02 1.3 – Introduce literals and variables into code and use different numeral systems"
   ]
  },
  {
   "cell_type": "markdown",
   "id": "bb6eb149",
   "metadata": {},
   "source": [
    "### Boolean, \n",
    "    \n",
    "    "
   ]
  },
  {
   "cell_type": "code",
   "execution_count": null,
   "id": "3ac15514",
   "metadata": {},
   "outputs": [],
   "source": []
  },
  {
   "cell_type": "markdown",
   "id": "a72c781a",
   "metadata": {},
   "source": [
    "### integers, "
   ]
  },
  {
   "cell_type": "code",
   "execution_count": null,
   "id": "e9a6e5b2",
   "metadata": {},
   "outputs": [],
   "source": []
  },
  {
   "cell_type": "markdown",
   "id": "f0146873",
   "metadata": {},
   "source": [
    "### floating-point numbers"
   ]
  },
  {
   "cell_type": "code",
   "execution_count": null,
   "id": "7d2a1cf3",
   "metadata": {},
   "outputs": [],
   "source": []
  },
  {
   "cell_type": "markdown",
   "id": "3328af89",
   "metadata": {},
   "source": [
    "### scientific notation"
   ]
  },
  {
   "cell_type": "code",
   "execution_count": null,
   "id": "88616981",
   "metadata": {},
   "outputs": [],
   "source": []
  },
  {
   "cell_type": "markdown",
   "id": "95746b12",
   "metadata": {},
   "source": [
    "### binary, octal, decimal, and hexadecimal numeral systems"
   ]
  },
  {
   "cell_type": "code",
   "execution_count": null,
   "id": "ae0d7031",
   "metadata": {},
   "outputs": [],
   "source": []
  },
  {
   "cell_type": "markdown",
   "id": "bdd7bfbe",
   "metadata": {},
   "source": [
    "### variables"
   ]
  },
  {
   "cell_type": "code",
   "execution_count": null,
   "id": "5331b6d7",
   "metadata": {},
   "outputs": [],
   "source": []
  },
  {
   "cell_type": "markdown",
   "id": "32c532d9",
   "metadata": {},
   "source": [
    "### variables\n",
    "    \n",
    "    - nazwa zmiennej nie może byc keywordem\n",
    "    - nazwa zmiennejskłada się z liter, cyfr i znaku _\n",
    "    - nazwa zmiennej nie może się zaczynać od cyfry"
   ]
  },
  {
   "cell_type": "markdown",
   "id": "289263fe",
   "metadata": {},
   "source": [
    "### naming conventions\n",
    "    \n",
    "    - małe litery, słowa rozdzielane _. - snake_case\n",
    "    - DUZE_LITERY - jak chcemy podkreślić, że to jest stała \n",
    "    - _ - nazwa zmiennej, która nie jest dla nas istotna\n",
    "    \n",
    "    naming conventions \n",
    "  \n",
    "    note: camelCase, PascalCase, snake_case\n",
    "    "
   ]
  },
  {
   "cell_type": "code",
   "execution_count": null,
   "id": "5b441aef",
   "metadata": {},
   "outputs": [],
   "source": []
  },
  {
   "cell_type": "markdown",
   "id": "bc2e8902",
   "metadata": {},
   "source": [
    "### implementing PEP-8 recommendations\n",
    "\n",
    "https://peps.python.org/pep-0008/\n",
    "\n",
    "przykład lintera:\n",
    "https://flake8.pycqa.org/en/latest/\n",
    "\n",
    "SonarLint\n",
    "\n",
    "przykład formattera:\n",
    "\n",
    "https://github.com/psf/black"
   ]
  },
  {
   "cell_type": "code",
   "execution_count": null,
   "id": "55660ff3",
   "metadata": {},
   "outputs": [],
   "source": []
  },
  {
   "cell_type": "markdown",
   "id": "3256a7fc",
   "metadata": {},
   "source": [
    "## PCEP-30-02 1.4 – Choose operators and data types adequate to the problem\n",
    "\n",
    "### numeric operatos: +, -, *, /, //, %, **  \n",
    "\n",
    "\n",
    "\n",
    "| operator | nazwa               | przykład      | wynik |\n",
    "| -------- | ------------------- | --------      | ----- |\n",
    "| +        | dodawanie           | 5 + 3         | 8     |\n",
    "| -        | odejmowanie         | 5 - 3         | 2     |\n",
    "| /        | dzielenie           | 5 / 2         | 2.5   |\n",
    "| //       | dzielenie całkowite | 5 // 2        | 2     |\n",
    "| *        | mnożenie            | 5 * 3         | 15    |\n",
    "| **       | potęgowanie         | 5 ** 2        | 25    |\n",
    "| %        | dzielenie modulo    | 5 % 2         | 1     |\n",
    "| @        | mnożenie macierzy   | [[2]] @ [[3]] | [[6]] |\n",
    "\n",
    "Uwaga: Operator `@` do mnożenia macierzy został wprowadzony w Pythonie 3.5 i jest często używany z bibliotekami takimi jak NumPy. W samym Pythonie nie ma jeszcze wbudowanych typów, które wykorzystują ten operator.\n",
    "\n",
    "https://peps.python.org/pep-0465/"
   ]
  },
  {
   "cell_type": "code",
   "execution_count": null,
   "id": "e65ba04a",
   "metadata": {},
   "outputs": [],
   "source": []
  },
  {
   "cell_type": "markdown",
   "id": "2bdb4721",
   "metadata": {},
   "source": [
    "### string operators: * +"
   ]
  },
  {
   "cell_type": "code",
   "execution_count": null,
   "id": "fd316398",
   "metadata": {},
   "outputs": [],
   "source": []
  },
  {
   "cell_type": "markdown",
   "id": "a4ebc8a6",
   "metadata": {},
   "source": [
    "### assignment and shortcut operators\n",
    "\n",
    "| operator | przykład    | równoważność   |\n",
    "| :------: | ----------- | -------------- |\n",
    "| =        | x = 5       | x = 5          |\n",
    "| +=       | x += 3      | x = x + 3      |\n",
    "| -=       | x -= 3      | x = x - 3      |\n",
    "| *=       | x *= 3      | x = x * 3      |\n",
    "| /=       | x /= 3      | x = x / 3      |\n",
    "| %=       | x %= 3      | x = x % 3      |\n",
    "| //=      | x //= 3     | x = x // 3     |\n",
    "| **=      | x **= 3     | x = x ** 3     |\n",
    "| &=       | x &= 3      | x = x & 3      |\n",
    "| &#124;=  | x &#124;= 3 | x = x &#124; 3 |\n",
    "| ^=       | x ^= 3      | x = x ^ 3      |\n",
    "| >>=      | x >>= 3     | x = x >> 3     |\n",
    "| <<=      | x <<= 3     | x = x << 3     |\n",
    "    "
   ]
  },
  {
   "cell_type": "code",
   "execution_count": null,
   "id": "4db4070f",
   "metadata": {},
   "outputs": [],
   "source": []
  },
  {
   "cell_type": "markdown",
   "id": "88f66c60",
   "metadata": {},
   "source": [
    "### unary and binary operators\n",
    "    "
   ]
  },
  {
   "cell_type": "code",
   "execution_count": null,
   "id": "63ab4c4c",
   "metadata": {},
   "outputs": [],
   "source": []
  },
  {
   "cell_type": "markdown",
   "id": "f903206c",
   "metadata": {},
   "source": [
    "### priorities and binding\n",
    "    \n",
    "    https://pythonflood.com/python-operator-precedence-simplifying-complex-expressions-22eb46b334"
   ]
  },
  {
   "cell_type": "code",
   "execution_count": null,
   "id": "35381fe6",
   "metadata": {},
   "outputs": [],
   "source": []
  },
  {
   "cell_type": "markdown",
   "id": "43b5b813",
   "metadata": {},
   "source": [
    "### bitwise operators: ~ & ^ | << >>\n",
    "\n",
    "\n",
    "| operator | nazwa                | opis | przykład               | wynik      |\n",
    "| :------: | -------------------- | ---- | :--------------------: | ---------- |\n",
    "| &        | AND                  |      | bin(0b10  & 0b01)      | 0b0        |\n",
    "| &#124;   | OR                   |      | bin(0b10  &#124; 0b01) | 0b11       |\n",
    "| ^        | XOR                  |      | bin(0b10 ^ 0b01)       | 0b11       |\n",
    "|          |                      |      | bin(0b10 ^ 0b10)       | 0b0        |\n",
    "| ~        | NOT                  |      | ~0b1                   | -2         |\n",
    "|          |                      |      | bin(~0b1)              | -0b10      |\n",
    "| <<       | Zero fill left shift |      | bin(0b00111100 << 2)   | 0b11110000 |\n",
    "| >>       | Signed right shift   |      | bin(0b00111100 >> 2)   | 0b1111     |"
   ]
  },
  {
   "cell_type": "code",
   "execution_count": null,
   "id": "58542133",
   "metadata": {},
   "outputs": [],
   "source": []
  },
  {
   "cell_type": "markdown",
   "id": "26ad887a",
   "metadata": {},
   "source": [
    "###  Boolean operators: not, and, or\n",
    "\n",
    "\n",
    "| operator | nazwa                                         | przykład              |\n",
    "| :------: | --------------------------------------------- | --------------------- |\n",
    "| and      | Returns True if both statements are true      | x < 5 and  x < 10     |\n",
    "| or       | Returns True if one of the statements is true | x < 5 or x < 4        |\n",
    "| not      | Reverse the result                            | not(x < 5 and x < 10) |"
   ]
  },
  {
   "cell_type": "code",
   "execution_count": null,
   "id": "477ba5f6",
   "metadata": {},
   "outputs": [],
   "source": []
  },
  {
   "cell_type": "markdown",
   "id": "1b3b77ae",
   "metadata": {},
   "source": [
    "### Boolean expressions\n",
    "\n",
    "Wyrażenia boolowskie (Boolean expressions) w Pythonie to wyrażenia, które oceniane są jako prawda (True) lub fałsz (False). Są one kluczowe dla kontroli przepływu w programach, umożliwiając podejmowanie decyzji i wykonywanie różnych działań w zależności od spełnienia określonych warunków. Oto kilka podstawowych typów wyrażeń boolowskich w Pythonie:\n",
    "\n",
    "1. **Porównania**: Możesz porównywać wartości za pomocą operatorów takich jak `==` (równe), `!=` (różne), `>` (większe), `<` (mniejsze), `>=` (większe lub równe), `<=` (mniejsze lub równe).\n",
    "   ```python\n",
    "   5 > 3  # Zwraca True\n",
    "   5 == 10  # Zwraca False\n",
    "   ```\n",
    "\n",
    "2. **Operatory logiczne**: Umożliwiają łączenie wyrażeń boolowskich za pomocą `and`, `or`, `not`.\n",
    "   ```python\n",
    "   (5 > 3) and (6 <= 12)  # Zwraca True, bo obie części są prawdziwe\n",
    "   not (5 > 10)  # Zwraca True, ponieważ 5 nie jest większe od 10\n",
    "   ```\n",
    "\n",
    "3. **Przynależność i tożsamość**: Operator `in` sprawdza, czy element znajduje się w sekwencji (takiej jak lista lub krotka), a `is` sprawdza, czy dwie zmienne wskazują ten sam obiekt.\n",
    "   ```python\n",
    "   'a' in 'abc'  # Zwraca True\n",
    "   'x' not in ['x', 'y', 'z']  # Zwraca False\n",
    "   x = y = [1, 2, 3]\n",
    "   x is y  # Zwraca True\n",
    "   ```\n",
    "\n",
    "Wyrażenia boolowskie są podstawą instrukcji warunkowych takich jak `if`, `elif` i `else`, a także pętli `while`, które wykonują kod, dopóki wyrażenie boolowskie jest prawdziwe."
   ]
  },
  {
   "cell_type": "code",
   "execution_count": null,
   "id": "0ab5272e",
   "metadata": {},
   "outputs": [],
   "source": []
  },
  {
   "cell_type": "markdown",
   "id": "f3a5be3c",
   "metadata": {},
   "source": [
    "### relational operators ( == != > >= < <= )\n",
    "\n",
    "| operator | nazwa                    | przykład            |\n",
    "| :------: | ------------------------ | ------------------- |\n",
    "| ==       | Equal                    | x == y              |\n",
    "| !=       | Not equal                | x != y              |\n",
    "| >        | Greater than             | x > y               |\n",
    "| <        | Less than                | x < y               |\n",
    "| >=       | Greater than or equal to | x >= y              |\n",
    "| <=       | Less than or equal to    | x <= y              |\n",
    "| :=       | Walrus operator          | if x := 2 < 3: pass |"
   ]
  },
  {
   "cell_type": "code",
   "execution_count": null,
   "id": "88a1b2ef",
   "metadata": {},
   "outputs": [],
   "source": []
  },
  {
   "cell_type": "markdown",
   "id": "a8017046",
   "metadata": {},
   "source": [
    "### operatory algebry zbiorów\n",
    "\n",
    "Działają na obiektach typu `set`\n",
    "\n",
    "| operator | przykład             | wynik     |\n",
    "| -------- | -------------------- | --------- |\n",
    "| &        | {1, 2} & {2, 3}      | {2}       |\n",
    "| &#124;   | {1, 2} &#124; {2, 3} | {1, 2, 3} |\n",
    "| ^        | {1, 2} ^ {2, 3}      | {1, 3}    |\n",
    "| -        | {1, 2} - {2, 3}      | {1}       |"
   ]
  },
  {
   "cell_type": "markdown",
   "id": "b23e3c29",
   "metadata": {},
   "source": [
    "### operatory identyczności, tożsamości\n",
    "\n",
    "| operator | nazwa                                                  | przykład   |\n",
    "| :------: | ------------------------------------------------------ | ---------- |\n",
    "| is       | Returns True if both variables are the same object     | x is y     |\n",
    "| is not   | Returns True if both variables are not the same object | x is not y |"
   ]
  },
  {
   "cell_type": "markdown",
   "id": "b364c7a5",
   "metadata": {},
   "source": [
    "### operatory przynależnośći\n",
    "\n",
    "| operator | nazwa                                                                            | przykład   |\n",
    "| :------: | -------------------------------------------------------------------------------- | ---------- |\n",
    "| in       | Returns True if a sequence with the specified value is present in the object     | x in y     |\n",
    "| not in   | Returns True if a sequence with the specified value is not present in the object | x not in y |"
   ]
  },
  {
   "cell_type": "code",
   "execution_count": null,
   "id": "86afd2fb",
   "metadata": {},
   "outputs": [],
   "source": []
  },
  {
   "cell_type": "markdown",
   "id": "bac3e9a8",
   "metadata": {},
   "source": [
    "### the accuracy of floating-point numbers\n",
    "\n",
    "Dokładność liczb zmiennoprzecinkowych w Pythonie, tak jak w większości języków programowania, jest ograniczona z powodu sposobu ich reprezentacji w pamięci komputera. Python używa liczb zmiennoprzecinkowych w formacie IEEE 754, który jest standardem dla arytmetyki zmiennoprzecinkowej.\n",
    "\n",
    "Liczby zmiennoprzecinkowe w Pythonie są zazwyczaj reprezentowane jako 64-bitowe liczby dwójkowe (typ `float`), co zapewnia pewien poziom precyzji, ale nie jest wystarczające do doskonałego odwzorowania wszystkich wartości dziesiętnych. Przykładowo, próba dokładnego przedstawienia bardzo prostych dziesiętnych wartości, takich jak 0.1, w systemie binarnym jest niemożliwa, co prowadzi do nieoczekiwanych błędów zaokrągleń:\n",
    "\n",
    "```python\n",
    "0.1 + 0.2 == 0.3  # Często zwraca False z powodu błędów zaokrąglenia\n",
    "```\n",
    "\n",
    "Oto główne problemy związane z dokładnością liczb zmiennoprzecinkowych w Pythonie:\n",
    "\n",
    "1. **Błąd zaokrąglenia**: Niektóre wartości dziesiętne nie mogą być dokładnie przedstawione jako liczby binarne, co prowadzi do małych błędów zaokrąglenia przy operacjach arytmetycznych.\n",
    "\n",
    "2. **Ograniczenia zakresu**: Liczby zmiennoprzecinkowe mają ograniczony zakres. W przypadku przekroczenia tego zakresu może wystąpić przepełnienie (overflow) lub niedomiar (underflow)."
   ]
  },
  {
   "cell_type": "code",
   "execution_count": 3,
   "id": "2a479018",
   "metadata": {},
   "outputs": [
    {
     "name": "stdout",
     "output_type": "stream",
     "text": [
      "inf\n"
     ]
    }
   ],
   "source": [
    "\n",
    "import sys\n",
    "huge_number = sys.float_info.max\n",
    "overflow_example = huge_number * 2\n",
    "print(overflow_example)  # Wynik to inf\n"
   ]
  },
  {
   "cell_type": "code",
   "execution_count": 17,
   "id": "2e18ec41",
   "metadata": {},
   "outputs": [
    {
     "name": "stdout",
     "output_type": "stream",
     "text": [
      "0.0\n"
     ]
    }
   ],
   "source": [
    "\n",
    "tiny_number = sys.float_info.min\n",
    "underflow_example = tiny_number / 1e100\n",
    "print(underflow_example)  # Wynik to 0.0\n"
   ]
  },
  {
   "cell_type": "markdown",
   "id": "c1493dbe",
   "metadata": {},
   "source": [
    "\n",
    "3. **Strata precyzji przy operacjach**: Operacje na dużych liczbach zmiennoprzecinkowych mogą prowadzić do straty znaczących cyfr, szczególnie w wyniku dodawania lub odejmowania wartości o dużo różniących się wielkościach.\n",
    "\n",
    "Dla zadań wymagających bardzo wysokiej precyzji, jak operacje finansowe czy naukowe, zaleca się stosowanie typu `decimal` z modułu `decimal` w Pythonie. Moduł ten pozwala na dokładniejsze zarządzanie precyzją i eliminuje wiele problemów związanych z błędami zaokrągleń, które występują w standardowym typie `float`."
   ]
  },
  {
   "cell_type": "code",
   "execution_count": null,
   "id": "c18b9854",
   "metadata": {},
   "outputs": [],
   "source": []
  },
  {
   "cell_type": "markdown",
   "id": "2d0493da",
   "metadata": {},
   "source": [
    "### type casting\n",
    "\n",
    "Type casting w Pythonie to proces konwersji wartości z jednego typu danych na inny, co pozwala na manipulację typami danych w różnych sytuacjach. W Pythonie casting może być jawnie wykonywany przy pomocy funkcji takich jak `int()`, `float()`, i `str()`, które konwertują wartości do odpowiednich typów. Na przykład:\n",
    "\n",
    "- `int('123')` przekształci ciąg znaków `'123'` na liczbę całkowitą `123`.\n",
    "- `float(5)` przekształci liczbę całkowitą `5` na liczbę zmiennoprzecinkową `5.0`.\n",
    "- `str(10)` przekształci liczbę całkowitą `10` na ciąg znaków `'10'`.\n",
    "\n",
    "Type casting jest użyteczny do konwersji typów danych, gdy operacje wymagają określonych typów danych, na przykład w operacjach matematycznych, interakcjach z bazami danych, czy w operacjach wejścia/wyjścia."
   ]
  },
  {
   "cell_type": "markdown",
   "id": "0d86e633",
   "metadata": {},
   "source": []
  },
  {
   "cell_type": "markdown",
   "id": "26d04c30",
   "metadata": {},
   "source": [
    "## PCEP-30-02 1.5 – Perform Input/Output console operations\n",
    "\n",
    "### the print() and input() functions"
   ]
  },
  {
   "cell_type": "code",
   "execution_count": null,
   "id": "8f2bc39c",
   "metadata": {},
   "outputs": [],
   "source": []
  },
  {
   "cell_type": "markdown",
   "id": "8fe78e97",
   "metadata": {},
   "source": [
    "### the sep= and end= keyword parameters"
   ]
  },
  {
   "cell_type": "code",
   "execution_count": null,
   "id": "f8c5a324",
   "metadata": {},
   "outputs": [],
   "source": []
  },
  {
   "cell_type": "markdown",
   "id": "b2943954",
   "metadata": {},
   "source": [
    "### the int() and float() functions"
   ]
  },
  {
   "cell_type": "code",
   "execution_count": null,
   "id": "b55a674b",
   "metadata": {},
   "outputs": [],
   "source": []
  },
  {
   "cell_type": "markdown",
   "id": "e28499e0",
   "metadata": {},
   "source": [
    "# Control Flow - Conditional Blocks and Loops\n",
    "\n",
    "## PCEP-30-02 2.1 – Make decisions and branch the flow with the if instruction\n",
    "\n",
    "###    conditional statements: if, if-else, if-elif, if-elif-else"
   ]
  },
  {
   "cell_type": "code",
   "execution_count": null,
   "id": "657e5385",
   "metadata": {},
   "outputs": [],
   "source": []
  },
  {
   "cell_type": "markdown",
   "id": "faf88265",
   "metadata": {},
   "source": [
    "###    multiple conditional statements"
   ]
  },
  {
   "cell_type": "code",
   "execution_count": null,
   "id": "a5f1f32a",
   "metadata": {},
   "outputs": [],
   "source": []
  },
  {
   "cell_type": "markdown",
   "id": "e8af1f9e",
   "metadata": {},
   "source": [
    "###    nesting conditional statements    "
   ]
  },
  {
   "cell_type": "code",
   "execution_count": null,
   "id": "026366c0",
   "metadata": {},
   "outputs": [],
   "source": []
  },
  {
   "cell_type": "markdown",
   "id": "7db1ae01",
   "metadata": {},
   "source": [
    "## PCEP-30-02 2.2 – Perform different types of iterations\n",
    "\n",
    "###    the pass instruction"
   ]
  },
  {
   "cell_type": "code",
   "execution_count": null,
   "id": "0f128f0a",
   "metadata": {},
   "outputs": [],
   "source": []
  },
  {
   "cell_type": "markdown",
   "id": "e6851920",
   "metadata": {},
   "source": [
    "### building loops with while, for, range(), and in"
   ]
  },
  {
   "cell_type": "code",
   "execution_count": null,
   "id": "27eafa22",
   "metadata": {},
   "outputs": [],
   "source": []
  },
  {
   "cell_type": "markdown",
   "id": "d3035c0e",
   "metadata": {},
   "source": [
    "### iterating through sequences"
   ]
  },
  {
   "cell_type": "code",
   "execution_count": null,
   "id": "dcca33a9",
   "metadata": {},
   "outputs": [],
   "source": []
  },
  {
   "cell_type": "markdown",
   "id": "f5eea2af",
   "metadata": {},
   "source": [
    "### expanding loops with while-else and for-else"
   ]
  },
  {
   "cell_type": "code",
   "execution_count": null,
   "id": "c71f5b5d",
   "metadata": {},
   "outputs": [],
   "source": []
  },
  {
   "cell_type": "markdown",
   "id": "3e466368",
   "metadata": {},
   "source": [
    "### nesting loops and conditional statements"
   ]
  },
  {
   "cell_type": "code",
   "execution_count": null,
   "id": "97a0dc2f",
   "metadata": {},
   "outputs": [],
   "source": []
  },
  {
   "cell_type": "markdown",
   "id": "428397c1",
   "metadata": {},
   "source": [
    "### controlling loop execution with break and continue"
   ]
  },
  {
   "cell_type": "markdown",
   "id": "ddc5b925",
   "metadata": {},
   "source": [
    "\n",
    "    "
   ]
  },
  {
   "cell_type": "markdown",
   "id": "425f9132",
   "metadata": {},
   "source": [
    "# Data structures\n",
    "\n",
    "## PCEP-30-02 3.1 – Collect and process data using lists\n",
    "\n",
    "###    constructing vectors"
   ]
  },
  {
   "cell_type": "code",
   "execution_count": null,
   "id": "f67a72d9",
   "metadata": {},
   "outputs": [],
   "source": []
  },
  {
   "cell_type": "markdown",
   "id": "29e6070d",
   "metadata": {},
   "source": [
    "### indexing and slicing"
   ]
  },
  {
   "cell_type": "code",
   "execution_count": null,
   "id": "1cf2f01c",
   "metadata": {},
   "outputs": [],
   "source": []
  },
  {
   "cell_type": "markdown",
   "id": "c992e139",
   "metadata": {},
   "source": [
    "###    the len() function\n",
    "    "
   ]
  },
  {
   "cell_type": "code",
   "execution_count": null,
   "id": "7109d8fe",
   "metadata": {},
   "outputs": [],
   "source": []
  },
  {
   "cell_type": "markdown",
   "id": "9d94d0ad",
   "metadata": {},
   "source": [
    "### list methods: append(), insert(), index(), etc."
   ]
  },
  {
   "cell_type": "code",
   "execution_count": null,
   "id": "419068d9",
   "metadata": {},
   "outputs": [],
   "source": []
  },
  {
   "cell_type": "markdown",
   "id": "49064437",
   "metadata": {},
   "source": [
    "### functions: len(), sorted()"
   ]
  },
  {
   "cell_type": "code",
   "execution_count": null,
   "id": "9b55dc02",
   "metadata": {},
   "outputs": [],
   "source": []
  },
  {
   "cell_type": "markdown",
   "id": "1b2a3110",
   "metadata": {},
   "source": [
    "### the del instruction    "
   ]
  },
  {
   "cell_type": "code",
   "execution_count": null,
   "id": "f2bcd17f",
   "metadata": {},
   "outputs": [],
   "source": []
  },
  {
   "cell_type": "markdown",
   "id": "cc36e30e",
   "metadata": {},
   "source": [
    "### iterating through lists with the for loop"
   ]
  },
  {
   "cell_type": "code",
   "execution_count": null,
   "id": "ed42a2a2",
   "metadata": {},
   "outputs": [],
   "source": []
  },
  {
   "cell_type": "markdown",
   "id": "42a78bbf",
   "metadata": {},
   "source": [
    "### initializing loops"
   ]
  },
  {
   "cell_type": "code",
   "execution_count": null,
   "id": "cba3405b",
   "metadata": {},
   "outputs": [],
   "source": []
  },
  {
   "cell_type": "markdown",
   "id": "55fe7d29",
   "metadata": {},
   "source": [
    "### the in and not in operators\n",
    "    "
   ]
  },
  {
   "cell_type": "code",
   "execution_count": null,
   "id": "4e828f05",
   "metadata": {},
   "outputs": [],
   "source": []
  },
  {
   "cell_type": "markdown",
   "id": "ff8409ea",
   "metadata": {},
   "source": [
    "### list comprehensions\n",
    "    "
   ]
  },
  {
   "cell_type": "code",
   "execution_count": null,
   "id": "e0448af1",
   "metadata": {},
   "outputs": [],
   "source": []
  },
  {
   "cell_type": "markdown",
   "id": "1aee7d99",
   "metadata": {},
   "source": [
    "### copying and cloning (shallow and deep copy)"
   ]
  },
  {
   "cell_type": "code",
   "execution_count": null,
   "id": "ec9f5054",
   "metadata": {},
   "outputs": [],
   "source": []
  },
  {
   "cell_type": "markdown",
   "id": "1fb0a398",
   "metadata": {},
   "source": [
    "### lists in lists: matrices and cubes"
   ]
  },
  {
   "cell_type": "markdown",
   "id": "eb894ab3",
   "metadata": {},
   "source": [
    "## PCEP-30-02 3.2 – Collect and process data using tuples\n",
    "\n",
    "### tuples: indexing, slicing, building, immutability"
   ]
  },
  {
   "cell_type": "code",
   "execution_count": null,
   "id": "0228b2be",
   "metadata": {},
   "outputs": [],
   "source": []
  },
  {
   "cell_type": "markdown",
   "id": "411d5b8d",
   "metadata": {},
   "source": [
    "### tuples vs. lists: similarities and differences "
   ]
  },
  {
   "cell_type": "code",
   "execution_count": null,
   "id": "f4de2369",
   "metadata": {},
   "outputs": [],
   "source": []
  },
  {
   "cell_type": "markdown",
   "id": "fc0f8c40",
   "metadata": {},
   "source": [
    "### lists inside tuples and tuples inside lists"
   ]
  },
  {
   "cell_type": "code",
   "execution_count": null,
   "id": "e9571a22",
   "metadata": {},
   "outputs": [],
   "source": []
  },
  {
   "cell_type": "markdown",
   "id": "9165096e",
   "metadata": {},
   "source": [
    "## PCEP-30-02 3.3 Collect and process data using dictionaries\n",
    "\n",
    "### dictionaries: building, indexing, adding and removing keys"
   ]
  },
  {
   "cell_type": "code",
   "execution_count": null,
   "id": "71361989",
   "metadata": {},
   "outputs": [],
   "source": []
  },
  {
   "cell_type": "markdown",
   "id": "0e5066c4",
   "metadata": {},
   "source": [
    "### iterating through dictionaries and their keys and values"
   ]
  },
  {
   "cell_type": "code",
   "execution_count": null,
   "id": "3416c722",
   "metadata": {},
   "outputs": [],
   "source": []
  },
  {
   "cell_type": "markdown",
   "id": "5116a86e",
   "metadata": {},
   "source": [
    "### checking the existence of keys"
   ]
  },
  {
   "cell_type": "code",
   "execution_count": null,
   "id": "db985dca",
   "metadata": {},
   "outputs": [],
   "source": []
  },
  {
   "cell_type": "markdown",
   "id": "50eb3d46",
   "metadata": {},
   "source": [
    "### methods: keys(), items(), and values()    "
   ]
  },
  {
   "cell_type": "code",
   "execution_count": null,
   "id": "d16aece4",
   "metadata": {},
   "outputs": [],
   "source": []
  },
  {
   "cell_type": "markdown",
   "id": "7d0ba909",
   "metadata": {},
   "source": [
    "## PCEP-30-02 3.4 Operate with strings\n",
    "\n",
    "### constructing strings"
   ]
  },
  {
   "cell_type": "code",
   "execution_count": null,
   "id": "0101c135",
   "metadata": {},
   "outputs": [],
   "source": []
  },
  {
   "cell_type": "markdown",
   "id": "c0cacb28",
   "metadata": {},
   "source": [
    "### indexing, slicing, immutability"
   ]
  },
  {
   "cell_type": "code",
   "execution_count": null,
   "id": "7e5da83b",
   "metadata": {},
   "outputs": [],
   "source": []
  },
  {
   "cell_type": "markdown",
   "id": "4e31b6e7",
   "metadata": {},
   "source": [
    "### escaping using the \\ character"
   ]
  },
  {
   "cell_type": "code",
   "execution_count": null,
   "id": "3816921c",
   "metadata": {},
   "outputs": [],
   "source": []
  },
  {
   "cell_type": "markdown",
   "id": "45718c0d",
   "metadata": {},
   "source": [
    "### quotes and apostrophes inside strings"
   ]
  },
  {
   "cell_type": "code",
   "execution_count": null,
   "id": "60f32b12",
   "metadata": {},
   "outputs": [],
   "source": []
  },
  {
   "cell_type": "markdown",
   "id": "a6f33440",
   "metadata": {},
   "source": [
    "### multi-line strings"
   ]
  },
  {
   "cell_type": "code",
   "execution_count": null,
   "id": "e66c4271",
   "metadata": {},
   "outputs": [],
   "source": []
  },
  {
   "cell_type": "markdown",
   "id": "0630f93e",
   "metadata": {},
   "source": [
    "### basic string functions and methods"
   ]
  },
  {
   "cell_type": "code",
   "execution_count": null,
   "id": "ac359d7f",
   "metadata": {},
   "outputs": [],
   "source": []
  },
  {
   "cell_type": "markdown",
   "id": "e0837356",
   "metadata": {},
   "source": [
    "# Functions and Exceptions\n",
    "\n",
    "## PCEP-30-02 4.1 – Decompose the code using functions"
   ]
  },
  {
   "cell_type": "code",
   "execution_count": null,
   "id": "c6eaee0f",
   "metadata": {},
   "outputs": [],
   "source": []
  },
  {
   "cell_type": "markdown",
   "id": "4d2e2b00",
   "metadata": {},
   "source": [
    "### defining and invoking user-defined functions and generators"
   ]
  },
  {
   "cell_type": "code",
   "execution_count": null,
   "id": "5130b583",
   "metadata": {},
   "outputs": [],
   "source": []
  },
  {
   "cell_type": "markdown",
   "id": "dd00ba40",
   "metadata": {},
   "source": [
    "### the return keyword, returning results"
   ]
  },
  {
   "cell_type": "code",
   "execution_count": null,
   "id": "aa5904ac",
   "metadata": {},
   "outputs": [],
   "source": []
  },
  {
   "cell_type": "markdown",
   "id": "4f7ca007",
   "metadata": {},
   "source": [
    "### the None keyword"
   ]
  },
  {
   "cell_type": "code",
   "execution_count": null,
   "id": "0c2a6d12",
   "metadata": {},
   "outputs": [],
   "source": []
  },
  {
   "cell_type": "markdown",
   "id": "1641cc70",
   "metadata": {},
   "source": [
    "### recursion\n",
    "    "
   ]
  },
  {
   "cell_type": "code",
   "execution_count": null,
   "id": "baaeb00d",
   "metadata": {},
   "outputs": [],
   "source": []
  },
  {
   "cell_type": "markdown",
   "id": "5543aa65",
   "metadata": {},
   "source": [
    "## PCEP-30-02 4.2 – Organize interaction between the function and its environment\n",
    "\n",
    "### parameters vs. arguments"
   ]
  },
  {
   "cell_type": "code",
   "execution_count": null,
   "id": "4b026611",
   "metadata": {},
   "outputs": [],
   "source": []
  },
  {
   "cell_type": "markdown",
   "id": "63c06ce7",
   "metadata": {},
   "source": [
    "### positional, keyword, and mixed argument passing"
   ]
  },
  {
   "cell_type": "code",
   "execution_count": null,
   "id": "57fa4b05",
   "metadata": {},
   "outputs": [],
   "source": []
  },
  {
   "cell_type": "markdown",
   "id": "38f4bff4",
   "metadata": {},
   "source": [
    "### default parameter values"
   ]
  },
  {
   "cell_type": "code",
   "execution_count": null,
   "id": "ff193da5",
   "metadata": {},
   "outputs": [],
   "source": []
  },
  {
   "cell_type": "markdown",
   "id": "f9613e64",
   "metadata": {},
   "source": [
    "### name scopes, name hiding (shadowing), and the global keyword"
   ]
  },
  {
   "cell_type": "code",
   "execution_count": null,
   "id": "76aa4f62",
   "metadata": {},
   "outputs": [],
   "source": []
  },
  {
   "cell_type": "markdown",
   "id": "502605e9",
   "metadata": {},
   "source": [
    "## PCEP-30-02 4.3 – Python Built-In Exceptions Hierarchy\n",
    "\n",
    "    BaseException\n",
    "    Exception\n",
    "    SystemExit\n",
    "    KeyboardInterrupt\n",
    "    abstract exceptions\n",
    "    ArithmeticError\n",
    "    LookupError\n",
    "    IndexError\n",
    "    KeyError\n",
    "    TypeError\n",
    "    ValueError"
   ]
  },
  {
   "cell_type": "markdown",
   "id": "016f663a",
   "metadata": {},
   "source": [
    "## PCEP-30-02 4.4 – Basics of Python Exception Handling"
   ]
  },
  {
   "cell_type": "code",
   "execution_count": null,
   "id": "006331d4",
   "metadata": {},
   "outputs": [],
   "source": []
  },
  {
   "cell_type": "markdown",
   "id": "bd8d9452",
   "metadata": {},
   "source": [
    "### try-except / the try-except Exception"
   ]
  },
  {
   "cell_type": "code",
   "execution_count": null,
   "id": "e910da35",
   "metadata": {},
   "outputs": [],
   "source": []
  },
  {
   "cell_type": "markdown",
   "id": "e8dc7417",
   "metadata": {},
   "source": [
    "### ordering the except branches"
   ]
  },
  {
   "cell_type": "code",
   "execution_count": null,
   "id": "a3e7a78a",
   "metadata": {},
   "outputs": [],
   "source": []
  },
  {
   "cell_type": "markdown",
   "id": "33bb3ef9",
   "metadata": {},
   "source": [
    "### propagating exceptions through function boundaries"
   ]
  },
  {
   "cell_type": "code",
   "execution_count": null,
   "id": "2055328b",
   "metadata": {},
   "outputs": [],
   "source": []
  },
  {
   "cell_type": "markdown",
   "id": "d241a58e",
   "metadata": {},
   "source": [
    "### delegating responsibility for handling exceptions"
   ]
  },
  {
   "cell_type": "code",
   "execution_count": null,
   "id": "bfd02e18",
   "metadata": {},
   "outputs": [],
   "source": []
  },
  {
   "cell_type": "code",
   "execution_count": null,
   "id": "66c26763",
   "metadata": {},
   "outputs": [],
   "source": []
  }
 ],
 "metadata": {
  "kernelspec": {
   "display_name": "Python 3 (ipykernel)",
   "language": "python",
   "name": "python3"
  },
  "language_info": {
   "codemirror_mode": {
    "name": "ipython",
    "version": 3
   },
   "file_extension": ".py",
   "mimetype": "text/x-python",
   "name": "python",
   "nbconvert_exporter": "python",
   "pygments_lexer": "ipython3",
   "version": "3.10.7"
  },
  "toc": {
   "base_numbering": 1,
   "nav_menu": {},
   "number_sections": true,
   "sideBar": true,
   "skip_h1_title": false,
   "title_cell": "Table of Contents",
   "title_sidebar": "Contents",
   "toc_cell": false,
   "toc_position": {},
   "toc_section_display": true,
   "toc_window_display": false
  }
 },
 "nbformat": 4,
 "nbformat_minor": 5
}
