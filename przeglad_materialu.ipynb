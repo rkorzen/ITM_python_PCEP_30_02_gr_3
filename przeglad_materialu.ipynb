{
 "cells": [
  {
   "cell_type": "markdown",
   "id": "f5bfe489",
   "metadata": {},
   "source": []
  },
  {
   "cell_type": "code",
   "execution_count": 2,
   "id": "f89abcee",
   "metadata": {},
   "outputs": [
    {
     "name": "stdout",
     "output_type": "stream",
     "text": [
      "Hello Python\n"
     ]
    }
   ],
   "source": [
    "x = 1\n",
    "\n",
    "print(\"Hello Python\")"
   ]
  },
  {
   "cell_type": "markdown",
   "id": "09132a87",
   "metadata": {},
   "source": [
    "1. Zainstalowany python (python.org)\n",
    "2. pip install jypyter\n",
    "3. jupyter notebook"
   ]
  },
  {
   "cell_type": "markdown",
   "id": "93645d63",
   "metadata": {},
   "source": [
    "https://pythoninstitute.org/pcep-exam-syllabus|"
   ]
  },
  {
   "cell_type": "markdown",
   "id": "bbdae0d9",
   "metadata": {},
   "source": [
    "# Python Fundamentals\n",
    "\n",
    "Język obiektowy, wspierający różne paradygmaty programowania. O szerokich zastosowaniach. Interpretowany. Z dużą społecznością. Bardzo popularny.\n",
    "\n",
    "Python to popularny język programowania wysokiego poziomu, który po raz pierwszy został wydany w 1991 roku przez Guido van Rossuma, holenderskiego programistę komputerowego. Oto krótka historia Pythona: Van Rossum rozpoczął pracę nad Pythonem w grudniu 1989 roku, kiedy pracował w Narodowym Instytucie Badawczym Matematyki i Informatyki w Holandii. Zainspirował go szereg innych języków programowania, w tym ABC, Modula-3 i C.\n",
    "\n",
    "Python został oficjalnie wydany 20 lutego 1991 roku. Jego nazwa została zainspirowana brytyjską grupą komediową Monty Python.\n",
    "\n",
    "Na początku lat 90. Python był używany głównie do zadań związanych z administrowaniem systemem oraz jako język skryptowy dla większych projektów programistycznych.\n",
    "\n",
    "Pod koniec lat 90. Python zyskał popularność jako język programowania ogólnego przeznaczenia i zaczął być używany w wielu zastosowaniach, w tym w obliczeniach naukowych, analizie danych i tworzeniu stron internetowych.\n",
    "\n",
    "W 2000 roku wydano Python 2.0, który wprowadził szereg nowych funkcji, w tym obsługę Unicode i system wyrzucania elementów bezużytecznych.\n",
    "\n",
    "W 2008 roku wydano Python 3.0, który wprowadził istotne zmiany w składni języka i standardowej bibliotece. Python 3.0 nie był wstecznie kompatybilny z wcześniejszymi wersjami Pythona, co spowodowało pewne zamieszanie wśród użytkowników i spowolniło jego wdrażanie.\n",
    "\n",
    "Obecnie Python jest jednym z najpopularniejszych języków programowania na świecie i jest używany w wielu dziedzinach, w tym w tworzeniu stron internetowych, nauce o danych, uczeniu maszynowym i obliczeniach naukowych."
   ]
  },
  {
   "cell_type": "markdown",
   "id": "a01d7f60",
   "metadata": {},
   "source": [
    "## PCEP-30-02 1.1 – Understand fundamental terms and definitions\n",
    "\n",
    "### interpreting and the interpreter, compilation and the compiler\n",
    "\n",
    "*Interpretacja*: W przypadku interpretacji, kod źródłowy jest czytany i wykonywany linijka po linijce przez interpreter. Interpreter analizuje i tłumaczy kod na bieżąco, co oznacza, że ​​nie ma konieczności wcześniejszego przekształcenia go w postać wykonywalną. Ten proces jest często bardziej elastyczny i pozwala na natychmiastową identyfikację błędów w kodzie, ponieważ interpreter zatrzymuje wykonanie programu w momencie napotkania błędu. Jednym z popularnych języków programowania, który korzysta z tego podejścia, jest Python.\n",
    "\n",
    "*Kompilacja*: W przeciwieństwie do interpretacji, proces kompilacji polega na przekształceniu kodu źródłowego w postać wykonywalną, znaną jako kod maszynowy, przed jego uruchomieniem. Kompilator analizuje cały kod źródłowy i przekształca go na instrukcje zrozumiałe dla komputera. Wynikiem tego procesu jest plik wykonywalny, który może być uruchomiony bez potrzeby dostępu do oryginalnego kodu źródłowego. Przykładem języka programowania, który wykorzystuje kompilację, jest C++.\n",
    "\n",
    "\n",
    "Python to język interpretowany, aczkolwiek w czasie uruchamiania skryptów pythona zachodzi proces ich kompilacji do postaci bytecode. I ta postać jest potem interpretowana. "
   ]
  },
  {
   "cell_type": "markdown",
   "id": "8a6aa05a",
   "metadata": {},
   "source": [
    "#### Interpreter\n",
    "\n",
    "Interpreter Pythona to program, który jest odpowiedzialny za wykonywanie kodu napisanego w języku Python. Gdy chcesz uruchomić kod Pythona, musisz go zapisać w pliku z rozszerzeniem \".py\" i następnie uruchomić interpreter Pythona za pomocą polecenia \"python\" w wierszu poleceń.\n",
    "\n",
    "Interpreter Pythona działa w następujący sposób:\n",
    "\n",
    "* Wczytuje plik z kodem Pythona i przechodzi przez go linia po linii, analizując go i tworząc odpowiedni model danych w pamięci i kompiluje go do bytecode, który jest zoptymalizowany pod kątem wydajności.\n",
    "\n",
    "* Gdy interpreter napotka instrukcję, wykonuje ją. Może to być np. instrukcja przypisania wartości do zmiennej, wywołanie funkcji lub instrukcja warunkowa (np. if).\n",
    "\n",
    "* Jeśli interpreter napotka błąd podczas analizy lub wykonywania kodu, wyświetli komunikat o błędzie i zatrzyma wykonywanie kodu.\n",
    "\n",
    "* Gdy interpreter dojdzie do końca kodu, zakończy działanie.\n",
    "\n",
    "Ponieważ bytecode jest zoptymalizowany pod kątem wydajności, interpreter Pythona jest w stanie szybciej wykonywać kod niż interpreter innych języków programowania, które nie wykorzystują kompilacji do bytecode.\n",
    "\n",
    "Interpreter Pythona umożliwia wykonywanie kodu w trybie interaktywnym, co pozwala na testowanie i debugowanie kodu linijka po linijce. Możesz to zrobić, uruchamiając interpreter Pythona bez podawania nazwy pliku, np. poprzez wpisanie polecenia \"python\" w wierszu poleceń.\n",
    "\n",
    "##### Dodatkowe parametry przy uruchamianiu skryptów:\n",
    "\n",
    "Przy uruchamianiu skryptów Pythona możesz używać różnych dodatkowych parametrów, które pozwalają na zmianę sposobu działania interpretera lub skryptu. Oto kilka przykładów takich parametrów:\n",
    "\n",
    "*    `-d`: Służy do włączenia opcji debugowania. Dzięki temu interpreter wyświetli dodatkowe informacje, takie jak nazwy zmiennych i wartości, które mogą pomóc w debugowaniu kodu.\n",
    "\n",
    "*    `-O`: Służy do włączenia optymalizacji kodu. Dzięki temu interpreter zoptymalizuje bytecode, co może przyspieszyć wykonywanie kodu.\n",
    "\n",
    "*    `-i`: Służy do uruchomienia skryptu w trybie interaktywnym po jego zakończeniu. Po wykonaniu skryptu interpreter pozostanie aktywny, co pozwala na testowanie i debugowanie kodu linijka po linijce.\n",
    "\n",
    "*    `-m` module: Służy do uruchomienia modułu Pythona jako skrypt. Pozwala to na uruchamianie modułów bez konieczności importowania ich do innych skryptów.\n",
    "\n",
    "*    `-c` command: Służy do wykonania polecenia Pythona z linii poleceń. Pozwala to na wykonywanie pojedynczych poleceń bez konieczności tworzenia osobnego pliku skryptu.\n",
    "\n",
    "\n",
    "    $ python nazwa.py\n",
    "\n",
    "    $ python\n",
    "    \n",
    "    $ python -i nazwa.py\n",
    "    "
   ]
  },
  {
   "cell_type": "markdown",
   "id": "4e64a937",
   "metadata": {},
   "source": [
    "  \n",
    "\n",
    "\n",
    "### lexis, syntax, and semantics\n",
    "\n",
    "W kontekście języka programowania Python, leksyka (lexis), składnia (syntax) i semantyka (semantics) odnoszą się do trzech fundamentalnych aspektów, które razem definiują, jak kod jest pisany, interpretowany i jakie działanie reprezentuje. Oto krótkie wyjaśnienie każdego z tych pojęć:\n",
    "\n",
    "#### Lexis (Leksyka)\n",
    "\n",
    "Leksyka w Pythonie odnosi się do zbioru słów i symboli, które są uznawane przez język jako poprawne. W kontekście programowania, te \"słowa\" i \"symbole\" to identyfikatory (np. nazwy zmiennych, nazwy funkcji), typy danych, literały (np. wartości liczbowe, ciągi znaków), operatory (np. `+`, `-`, `*`, `/`) i inne tokeny językowe. Leksyka określa podstawowe \"budulce\", z których składany jest kod źródłowy. Python ma ściśle określony zbiór słów kluczowych (np. `if`, `for`, `def`), które mają specjalne znaczenie i nie mogą być używane jako identyfikatory.\n",
    "\n",
    "#### Syntax (Składnia)\n",
    "\n",
    "Składnia w Pythonie to zbiór reguł, które określają, jak tokeny leksykalne mogą być połączone, aby utworzyć poprawne struktury językowe, takie jak wyrażenia, instrukcje i definicje funkcji. Składnia definiuje \"gramatykę\" języka Python, określając, na przykład, jak należy pisać instrukcję warunkową (`if`), jak definiować funkcję (`def nazwa_funkcji(parametry):`) czy jak tworzyć pętle (`for`, `while`). Poprawna składnia jest niezbędna, aby interpreter Pythona mógł zrozumieć i wykonanie kodu.\n",
    "\n",
    "#### Semantics (Semantyka)\n",
    "\n",
    "Semantyka w Pythonie odnosi się do znaczenia i zachowania konstrukcji językowych zdefiniowanych przez leksykę i składnię. Innymi słowy, semantyka opisuje, co konkretnie dzieje się, gdy kod jest wykonany przez interpreter Pythona. Semantyka obejmuje działanie operacji, przepływ sterowania programu (jak program reaguje na instrukcje warunkowe, pętle, wyjątki), sposób, w jaki funkcje są wywoływane i zwracają wartości, jak są przechowywane i manipulowane dane, i tak dalej. Semantyka jest tym, co decyduje o działaniu programu - jej zrozumienie jest kluczowe dla efektywnego programowania i rozwiązywania problemów.\n",
    "\n",
    "Podsumowując, leksyka, składnia i semantyka są trzema kolumnami, na których opiera się każdy język programowania, w tym Python. Razem definiują, jak pisać kod, jak ten kod jest interpretowany przez maszynę, i co ostatecznie ten kod robi.\n",
    "\n",
    "## PCEP-30-02 1.2 – Understand Python’s logic and structure\n",
    "\n",
    "### keywords\n",
    "\n",
    "Słowa kluczowe w języku Python to zdefiniowane wcześniej słowa, które mają specjalne znaczenie i są zarezerwowane dla konkretnych zastosowań w języku programowania. Słowa kluczowe nie mogą być używane jako nazwy zmiennych ani identyfikatorów w kodzie programu, ponieważ są one integralną częścią składni Pythona. \n",
    "    \n",
    "    \n",
    "\n",
    "\n",
    "\n",
    "    keywords"
   ]
  },
  {
   "cell_type": "code",
   "execution_count": 1,
   "id": "e1383c03",
   "metadata": {},
   "outputs": [
    {
     "name": "stdout",
     "output_type": "stream",
     "text": [
      "\n",
      "Here is a list of the Python keywords.  Enter any keyword to get more help.\n",
      "\n",
      "False               class               from                or\n",
      "None                continue            global              pass\n",
      "True                def                 if                  raise\n",
      "and                 del                 import              return\n",
      "as                  elif                in                  try\n",
      "assert              else                is                  while\n",
      "async               except              lambda              with\n",
      "await               finally             nonlocal            yield\n",
      "break               for                 not                 \n",
      "\n"
     ]
    }
   ],
   "source": [
    "help(\"keywords\")"
   ]
  },
  {
   "cell_type": "code",
   "execution_count": 2,
   "id": "3165ad2d",
   "metadata": {},
   "outputs": [
    {
     "name": "stdout",
     "output_type": "stream",
     "text": [
      "\n",
      "Here is a list of the punctuation symbols which Python assigns special meaning\n",
      "to. Enter any symbol to get more help.\n",
      "\n",
      "!=                  +                   <=                  __\n",
      "\"                   +=                  <>                  `\n",
      "\"\"\"                 ,                   ==                  b\"\n",
      "%                   -                   >                   b'\n",
      "%=                  -=                  >=                  f\"\n",
      "&                   .                   >>                  f'\n",
      "&=                  ...                 >>=                 j\n",
      "'                   /                   @                   r\"\n",
      "'''                 //                  J                   r'\n",
      "(                   //=                 [                   u\"\n",
      ")                   /=                  \\                   u'\n",
      "*                   :                   ]                   |\n",
      "**                  <                   ^                   |=\n",
      "**=                 <<                  ^=                  ~\n",
      "*=                  <<=                 _                   \n",
      "\n"
     ]
    }
   ],
   "source": [
    "help(\"symbols\")"
   ]
  },
  {
   "cell_type": "code",
   "execution_count": 3,
   "id": "28b91f67",
   "metadata": {},
   "outputs": [
    {
     "name": "stdout",
     "output_type": "stream",
     "text": [
      "Help on built-in function print in module builtins:\n",
      "\n",
      "print(...)\n",
      "    print(value, ..., sep=' ', end='\\n', file=sys.stdout, flush=False)\n",
      "    \n",
      "    Prints the values to a stream, or to sys.stdout by default.\n",
      "    Optional keyword arguments:\n",
      "    file:  a file-like object (stream); defaults to the current sys.stdout.\n",
      "    sep:   string inserted between values, default a space.\n",
      "    end:   string appended after the last value, default a newline.\n",
      "    flush: whether to forcibly flush the stream.\n",
      "\n"
     ]
    }
   ],
   "source": [
    "help(print)"
   ]
  },
  {
   "cell_type": "markdown",
   "id": "160057a0",
   "metadata": {},
   "source": [
    "False, True, None"
   ]
  },
  {
   "cell_type": "markdown",
   "id": "87e2c1ec",
   "metadata": {},
   "source": [
    "and, or, not, is, in, if, elif, else"
   ]
  },
  {
   "cell_type": "markdown",
   "id": "c4436d12",
   "metadata": {},
   "source": [
    "async, await"
   ]
  },
  {
   "cell_type": "markdown",
   "id": "b857c884",
   "metadata": {},
   "source": [
    "def, class, return, yield, pass, lambda"
   ]
  },
  {
   "cell_type": "markdown",
   "id": "8dfe811b",
   "metadata": {},
   "source": [
    "assert"
   ]
  },
  {
   "cell_type": "code",
   "execution_count": 7,
   "id": "52d51ad1",
   "metadata": {},
   "outputs": [],
   "source": [
    "assert 1 < 2"
   ]
  },
  {
   "cell_type": "markdown",
   "id": "767101aa",
   "metadata": {},
   "source": [
    "for, while, else, break, continue"
   ]
  },
  {
   "cell_type": "markdown",
   "id": "36df2e22",
   "metadata": {},
   "source": [
    "raise, try, except, finally"
   ]
  },
  {
   "cell_type": "markdown",
   "id": "0a7df442",
   "metadata": {},
   "source": [
    "global, nonlocal, del"
   ]
  },
  {
   "cell_type": "markdown",
   "id": "40b895f6",
   "metadata": {},
   "source": [
    "import, from, as"
   ]
  },
  {
   "cell_type": "markdown",
   "id": "44b1edcd",
   "metadata": {},
   "source": [
    "with, as"
   ]
  },
  {
   "cell_type": "markdown",
   "id": "f7e38b7d",
   "metadata": {},
   "source": [
    "### instructions\n",
    "    "
   ]
  },
  {
   "cell_type": "code",
   "execution_count": null,
   "id": "49064459",
   "metadata": {},
   "outputs": [],
   "source": [
    "x = 1 # przypisanie\n",
    "print() # wywołanie\n",
    "\n",
    "# definicje\n",
    "def foo():\n",
    "    pass\n",
    "\n",
    "class Foo():\n",
    "    pass\n",
    "\n",
    "foo(), Foo()\n",
    "\n",
    "# instrukcje sterujace\n",
    "\n",
    "if x == 1:\n",
    "    for i in range(10): print(i)\n",
    "else:\n",
    "    print(\"cos innego\")"
   ]
  },
  {
   "cell_type": "markdown",
   "id": "1d740eae",
   "metadata": {},
   "source": [
    "    \n",
    "### indentation\n",
    "\n",
    "Przykład z jakiegoś innego hipotetycznego języka:"
   ]
  },
  {
   "cell_type": "markdown",
   "id": "485dce3f",
   "metadata": {},
   "source": [
    "\n",
    "```\n",
    "if (wyrazenie) {inst1; instr2;} else {print(\"a\"); print(\"b\")}\n",
    "\n",
    "\n",
    "if (wyrazenie) \n",
    "{\n",
    "  inst1; \n",
    "  instr2;\n",
    "} \n",
    "else \n",
    "{\n",
    "  print(\"a\"); \n",
    "  print(\"b\");\n",
    "}\n",
    "```"
   ]
  },
  {
   "cell_type": "markdown",
   "id": "1e7faa21",
   "metadata": {},
   "source": [
    "przykład z Pythona"
   ]
  },
  {
   "cell_type": "code",
   "execution_count": 2,
   "id": "f6dec5b6",
   "metadata": {},
   "outputs": [
    {
     "name": "stdout",
     "output_type": "stream",
     "text": [
      "przed wyrażeniem\n",
      "a 10\n",
      "b\n",
      "jeste po wyrażeniu\n"
     ]
    }
   ],
   "source": [
    "wyrazenie = 1 > 2\n",
    "a = 10\n",
    "print(\"przed wyrażeniem\")\n",
    "\n",
    "if wyrazenie:\n",
    "    # blok instrukcji\n",
    "    instr1\n",
    "    instr2\n",
    "    \n",
    "else:\n",
    "    if a > 5:\n",
    "        print(\"a\", a)\n",
    "    print(\"b\")\n",
    "    \n",
    "print(\"jeste po wyrażeniu\")"
   ]
  },
  {
   "cell_type": "code",
   "execution_count": 14,
   "id": "175f03fe",
   "metadata": {},
   "outputs": [
    {
     "name": "stdout",
     "output_type": "stream",
     "text": [
      "aa\n",
      "bb\n"
     ]
    }
   ],
   "source": [
    "x = 15\n",
    "\n",
    "if x < 10:   \n",
    "    print(\"a\")\n",
    "    print(\"b\")\n",
    "    print(\"c\")\n",
    "else:\n",
    "    print(\"aa\")\n",
    "    print(\"bb\")"
   ]
  },
  {
   "cell_type": "code",
   "execution_count": null,
   "id": "ef995438",
   "metadata": {},
   "outputs": [],
   "source": [
    "def jakas_funkcja():\n",
    "    \"\"\"napis\"\"\""
   ]
  },
  {
   "cell_type": "markdown",
   "id": "42628290",
   "metadata": {},
   "source": [
    "### comments"
   ]
  },
  {
   "cell_type": "code",
   "execution_count": null,
   "id": "47b26e8a",
   "metadata": {},
   "outputs": [],
   "source": [
    "# komentarz\n",
    "# linia 2\n",
    "# ctrl + /\n",
    "\n",
    "x = 1  # parameter x"
   ]
  },
  {
   "cell_type": "code",
   "execution_count": null,
   "id": "094868f3",
   "metadata": {},
   "outputs": [],
   "source": [
    "\"\"\"\n",
    "komentarz\n",
    "linia 2\n",
    "ctrl + /\n",
    "\"\"\""
   ]
  },
  {
   "cell_type": "code",
   "execution_count": 19,
   "id": "27c4b92a",
   "metadata": {},
   "outputs": [
    {
     "ename": "SyntaxError",
     "evalue": "incomplete input (608338610.py, line 2)",
     "output_type": "error",
     "traceback": [
      "\u001b[0;36m  Cell \u001b[0;32mIn[19], line 2\u001b[0;36m\u001b[0m\n\u001b[0;31m    # \"\"\"To jest dokumentacja funkcji foo\"\"\"\u001b[0m\n\u001b[0m                                            ^\u001b[0m\n\u001b[0;31mSyntaxError\u001b[0m\u001b[0;31m:\u001b[0m incomplete input\n"
     ]
    }
   ],
   "source": [
    "def foo():\n",
    "    \"\"\"To jest dokumentacja funkcji foo\"\"\""
   ]
  },
  {
   "cell_type": "code",
   "execution_count": 18,
   "id": "4b46e4a1",
   "metadata": {},
   "outputs": [
    {
     "name": "stdout",
     "output_type": "stream",
     "text": [
      "Help on function foo in module __main__:\n",
      "\n",
      "foo()\n",
      "\n"
     ]
    }
   ],
   "source": [
    "help(foo)"
   ]
  },
  {
   "cell_type": "markdown",
   "id": "0029cc7a",
   "metadata": {},
   "source": [
    "## PCEP-30-02 1.3 – Introduce literals and variables into code and use different numeral systems"
   ]
  },
  {
   "cell_type": "markdown",
   "id": "bb6eb149",
   "metadata": {},
   "source": [
    "### Boolean, \n",
    "    \n",
    "    "
   ]
  },
  {
   "cell_type": "code",
   "execution_count": 21,
   "id": "3ac15514",
   "metadata": {},
   "outputs": [
    {
     "data": {
      "text/plain": [
       "bool"
      ]
     },
     "execution_count": 21,
     "metadata": {},
     "output_type": "execute_result"
    }
   ],
   "source": [
    "bool"
   ]
  },
  {
   "cell_type": "code",
   "execution_count": 23,
   "id": "a403858a",
   "metadata": {},
   "outputs": [],
   "source": [
    "# help(bool)"
   ]
  },
  {
   "cell_type": "code",
   "execution_count": 24,
   "id": "4163f159",
   "metadata": {},
   "outputs": [
    {
     "data": {
      "text/plain": [
       "(False, True)"
      ]
     },
     "execution_count": 24,
     "metadata": {},
     "output_type": "execute_result"
    }
   ],
   "source": [
    "False, True"
   ]
  },
  {
   "cell_type": "code",
   "execution_count": 31,
   "id": "ff4a304c",
   "metadata": {},
   "outputs": [
    {
     "data": {
      "text/plain": [
       "True"
      ]
     },
     "execution_count": 31,
     "metadata": {},
     "output_type": "execute_result"
    }
   ],
   "source": [
    "bool(-1)"
   ]
  },
  {
   "cell_type": "code",
   "execution_count": 32,
   "id": "30ee5d79",
   "metadata": {},
   "outputs": [
    {
     "data": {
      "text/plain": [
       "2"
      ]
     },
     "execution_count": 32,
     "metadata": {},
     "output_type": "execute_result"
    }
   ],
   "source": [
    "True + 1"
   ]
  },
  {
   "cell_type": "code",
   "execution_count": 34,
   "id": "937409cb",
   "metadata": {},
   "outputs": [
    {
     "ename": "ZeroDivisionError",
     "evalue": "division by zero",
     "output_type": "error",
     "traceback": [
      "\u001b[0;31m---------------------------------------------------------------------------\u001b[0m",
      "\u001b[0;31mZeroDivisionError\u001b[0m                         Traceback (most recent call last)",
      "Cell \u001b[0;32mIn[34], line 1\u001b[0m\n\u001b[0;32m----> 1\u001b[0m \u001b[38;5;241;43m1\u001b[39;49m\u001b[43m \u001b[49m\u001b[38;5;241;43m/\u001b[39;49m\u001b[43m \u001b[49m\u001b[38;5;28;43;01mFalse\u001b[39;49;00m\n",
      "\u001b[0;31mZeroDivisionError\u001b[0m: division by zero"
     ]
    }
   ],
   "source": [
    "1 / False"
   ]
  },
  {
   "cell_type": "code",
   "execution_count": 36,
   "id": "2ac0c5a8",
   "metadata": {},
   "outputs": [
    {
     "data": {
      "text/plain": [
       "True"
      ]
     },
     "execution_count": 36,
     "metadata": {},
     "output_type": "execute_result"
    }
   ],
   "source": [
    "1 == True"
   ]
  },
  {
   "cell_type": "code",
   "execution_count": 42,
   "id": "403aec81",
   "metadata": {},
   "outputs": [
    {
     "data": {
      "text/plain": [
       "False"
      ]
     },
     "execution_count": 42,
     "metadata": {},
     "output_type": "execute_result"
    }
   ],
   "source": [
    "x = 1\n",
    "x is True"
   ]
  },
  {
   "cell_type": "code",
   "execution_count": 44,
   "id": "d9b71d32",
   "metadata": {},
   "outputs": [
    {
     "name": "stderr",
     "output_type": "stream",
     "text": [
      "<>:1: SyntaxWarning: \"is\" with a literal. Did you mean \"==\"?\n",
      "<>:1: SyntaxWarning: \"is\" with a literal. Did you mean \"==\"?\n",
      "/var/folders/8l/t3zs7y694s5g088bzybz9czc0000gn/T/ipykernel_2828/2921712945.py:1: SyntaxWarning: \"is\" with a literal. Did you mean \"==\"?\n",
      "  \"1\" is True\n"
     ]
    },
    {
     "data": {
      "text/plain": [
       "False"
      ]
     },
     "execution_count": 44,
     "metadata": {},
     "output_type": "execute_result"
    }
   ],
   "source": [
    "\"1\" is True"
   ]
  },
  {
   "cell_type": "code",
   "execution_count": 45,
   "id": "75a07bae",
   "metadata": {},
   "outputs": [
    {
     "data": {
      "text/plain": [
       "False"
      ]
     },
     "execution_count": 45,
     "metadata": {},
     "output_type": "execute_result"
    }
   ],
   "source": [
    "\"1\" == True"
   ]
  },
  {
   "cell_type": "code",
   "execution_count": 43,
   "id": "5d66d579",
   "metadata": {},
   "outputs": [
    {
     "data": {
      "text/plain": [
       "True"
      ]
     },
     "execution_count": 43,
     "metadata": {},
     "output_type": "execute_result"
    }
   ],
   "source": [
    "x == True"
   ]
  },
  {
   "cell_type": "code",
   "execution_count": 54,
   "id": "40e014d8",
   "metadata": {},
   "outputs": [
    {
     "data": {
      "text/plain": [
       "True"
      ]
     },
     "execution_count": 54,
     "metadata": {},
     "output_type": "execute_result"
    }
   ],
   "source": [
    "x = 253\n",
    "y = 253\n",
    "\n",
    "x == y"
   ]
  },
  {
   "cell_type": "code",
   "execution_count": 55,
   "id": "372f777c",
   "metadata": {},
   "outputs": [
    {
     "data": {
      "text/plain": [
       "True"
      ]
     },
     "execution_count": 55,
     "metadata": {},
     "output_type": "execute_result"
    }
   ],
   "source": [
    "x is y"
   ]
  },
  {
   "cell_type": "markdown",
   "id": "a72c781a",
   "metadata": {},
   "source": [
    "### integers, "
   ]
  },
  {
   "cell_type": "code",
   "execution_count": null,
   "id": "e9a6e5b2",
   "metadata": {},
   "outputs": [],
   "source": [
    "int"
   ]
  },
  {
   "cell_type": "code",
   "execution_count": 56,
   "id": "b3e556b7",
   "metadata": {},
   "outputs": [
    {
     "data": {
      "text/plain": [
       "(0, 1, -1, -100000, 2000000)"
      ]
     },
     "execution_count": 56,
     "metadata": {},
     "output_type": "execute_result"
    }
   ],
   "source": [
    "0, 1, -1, -100000, 2000000"
   ]
  },
  {
   "cell_type": "code",
   "execution_count": 57,
   "id": "b54a7f7f",
   "metadata": {},
   "outputs": [
    {
     "data": {
      "text/plain": [
       "0"
      ]
     },
     "execution_count": 57,
     "metadata": {},
     "output_type": "execute_result"
    }
   ],
   "source": [
    "int(False)"
   ]
  },
  {
   "cell_type": "code",
   "execution_count": 69,
   "id": "66d4677f",
   "metadata": {},
   "outputs": [
    {
     "data": {
      "text/plain": [
       "1341"
      ]
     },
     "execution_count": 69,
     "metadata": {},
     "output_type": "execute_result"
    }
   ],
   "source": [
    "int(\"100a\", 11)"
   ]
  },
  {
   "cell_type": "code",
   "execution_count": 61,
   "id": "58132bf1",
   "metadata": {},
   "outputs": [],
   "source": [
    "# help(int)"
   ]
  },
  {
   "cell_type": "code",
   "execution_count": 67,
   "id": "2d074373",
   "metadata": {},
   "outputs": [],
   "source": [
    "binarne = \"100002\""
   ]
  },
  {
   "cell_type": "code",
   "execution_count": 68,
   "id": "a91d8be2",
   "metadata": {},
   "outputs": [
    {
     "ename": "ValueError",
     "evalue": "invalid literal for int() with base 2: '100002'",
     "output_type": "error",
     "traceback": [
      "\u001b[0;31m---------------------------------------------------------------------------\u001b[0m",
      "\u001b[0;31mValueError\u001b[0m                                Traceback (most recent call last)",
      "Cell \u001b[0;32mIn[68], line 1\u001b[0m\n\u001b[0;32m----> 1\u001b[0m \u001b[38;5;28;43mint\u001b[39;49m\u001b[43m(\u001b[49m\u001b[43mbinarne\u001b[49m\u001b[43m,\u001b[49m\u001b[43m \u001b[49m\u001b[38;5;241;43m2\u001b[39;49m\u001b[43m)\u001b[49m\n",
      "\u001b[0;31mValueError\u001b[0m: invalid literal for int() with base 2: '100002'"
     ]
    }
   ],
   "source": [
    "int(binarne, 2)"
   ]
  },
  {
   "cell_type": "code",
   "execution_count": null,
   "id": "4886a243",
   "metadata": {},
   "outputs": [],
   "source": [
    "'', \"\""
   ]
  },
  {
   "cell_type": "code",
   "execution_count": 88,
   "id": "65ff78d4",
   "metadata": {},
   "outputs": [
    {
     "data": {
      "text/plain": [
       "1000000"
      ]
     },
     "execution_count": 88,
     "metadata": {},
     "output_type": "execute_result"
    }
   ],
   "source": [
    "1000000"
   ]
  },
  {
   "cell_type": "code",
   "execution_count": 89,
   "id": "ecbc9e17",
   "metadata": {},
   "outputs": [
    {
     "data": {
      "text/plain": [
       "1000000"
      ]
     },
     "execution_count": 89,
     "metadata": {},
     "output_type": "execute_result"
    }
   ],
   "source": [
    "1_000_000"
   ]
  },
  {
   "cell_type": "markdown",
   "id": "f0146873",
   "metadata": {},
   "source": [
    "### floating-point numbers"
   ]
  },
  {
   "cell_type": "code",
   "execution_count": 71,
   "id": "6595903c",
   "metadata": {},
   "outputs": [
    {
     "data": {
      "text/plain": [
       "float"
      ]
     },
     "execution_count": 71,
     "metadata": {},
     "output_type": "execute_result"
    }
   ],
   "source": [
    "float"
   ]
  },
  {
   "cell_type": "code",
   "execution_count": 70,
   "id": "a32ab430",
   "metadata": {},
   "outputs": [
    {
     "data": {
      "text/plain": [
       "(2.1, -1.765)"
      ]
     },
     "execution_count": 70,
     "metadata": {},
     "output_type": "execute_result"
    }
   ],
   "source": [
    "2.1, -1.765"
   ]
  },
  {
   "cell_type": "code",
   "execution_count": 72,
   "id": "4f144202",
   "metadata": {},
   "outputs": [
    {
     "data": {
      "text/plain": [
       "1.0"
      ]
     },
     "execution_count": 72,
     "metadata": {},
     "output_type": "execute_result"
    }
   ],
   "source": [
    "float(True)"
   ]
  },
  {
   "cell_type": "code",
   "execution_count": 73,
   "id": "7d2a1cf3",
   "metadata": {},
   "outputs": [
    {
     "data": {
      "text/plain": [
       "1000.0"
      ]
     },
     "execution_count": 73,
     "metadata": {},
     "output_type": "execute_result"
    }
   ],
   "source": [
    "float(1000)"
   ]
  },
  {
   "cell_type": "code",
   "execution_count": 77,
   "id": "8f2218bb",
   "metadata": {},
   "outputs": [
    {
     "data": {
      "text/plain": [
       "2.2"
      ]
     },
     "execution_count": 77,
     "metadata": {},
     "output_type": "execute_result"
    }
   ],
   "source": [
    "float(\"2.2\")"
   ]
  },
  {
   "cell_type": "code",
   "execution_count": 79,
   "id": "7ee019be",
   "metadata": {},
   "outputs": [
    {
     "data": {
      "text/plain": [
       "0.30000000000000004"
      ]
     },
     "execution_count": 79,
     "metadata": {},
     "output_type": "execute_result"
    }
   ],
   "source": [
    "0.1 + 0.2"
   ]
  },
  {
   "cell_type": "code",
   "execution_count": null,
   "id": "c86d2294",
   "metadata": {},
   "outputs": [],
   "source": []
  },
  {
   "cell_type": "markdown",
   "id": "3328af89",
   "metadata": {},
   "source": [
    "### scientific notation"
   ]
  },
  {
   "cell_type": "code",
   "execution_count": 87,
   "id": "88616981",
   "metadata": {},
   "outputs": [
    {
     "data": {
      "text/plain": [
       "1000000000000000.0"
      ]
     },
     "execution_count": 87,
     "metadata": {},
     "output_type": "execute_result"
    }
   ],
   "source": [
    "0.1e16"
   ]
  },
  {
   "cell_type": "markdown",
   "id": "95746b12",
   "metadata": {},
   "source": [
    "### binary, octal, decimal, and hexadecimal numeral systems"
   ]
  },
  {
   "cell_type": "code",
   "execution_count": 90,
   "id": "ae0d7031",
   "metadata": {},
   "outputs": [
    {
     "data": {
      "text/plain": [
       "243"
      ]
     },
     "execution_count": 90,
     "metadata": {},
     "output_type": "execute_result"
    }
   ],
   "source": [
    "0b11110011"
   ]
  },
  {
   "cell_type": "code",
   "execution_count": 94,
   "id": "f3bf72b1",
   "metadata": {},
   "outputs": [
    {
     "data": {
      "text/plain": [
       "21800531"
      ]
     },
     "execution_count": 94,
     "metadata": {},
     "output_type": "execute_result"
    }
   ],
   "source": [
    "0o123123123"
   ]
  },
  {
   "cell_type": "code",
   "execution_count": 92,
   "id": "db1c6ad5",
   "metadata": {},
   "outputs": [
    {
     "data": {
      "text/plain": [
       "4783"
      ]
     },
     "execution_count": 92,
     "metadata": {},
     "output_type": "execute_result"
    }
   ],
   "source": [
    "0x12af"
   ]
  },
  {
   "cell_type": "markdown",
   "id": "bdd7bfbe",
   "metadata": {},
   "source": [
    "### variables\n",
    "\n",
    "  - nazwa zmiennej nie może byc keywordem\n",
    "  - nazwa zmiennej składa się z liter, cyfr i znaku _\n",
    "  - nazwa zmiennej nie może się zaczynać od cyfry"
   ]
  },
  {
   "cell_type": "code",
   "execution_count": 102,
   "id": "5331b6d7",
   "metadata": {},
   "outputs": [],
   "source": [
    "x = 1000\n",
    "y = x"
   ]
  },
  {
   "cell_type": "code",
   "execution_count": null,
   "id": "fab4aa51",
   "metadata": {},
   "outputs": [],
   "source": []
  },
  {
   "cell_type": "code",
   "execution_count": 99,
   "id": "878f5eac",
   "metadata": {},
   "outputs": [
    {
     "data": {
      "text/plain": [
       "True"
      ]
     },
     "execution_count": 99,
     "metadata": {},
     "output_type": "execute_result"
    }
   ],
   "source": [
    "x is y"
   ]
  },
  {
   "cell_type": "code",
   "execution_count": 101,
   "id": "4329c8a8",
   "metadata": {},
   "outputs": [
    {
     "data": {
      "text/plain": [
       "True"
      ]
     },
     "execution_count": 101,
     "metadata": {},
     "output_type": "execute_result"
    }
   ],
   "source": [
    "x = 100\n",
    "y = 100\n",
    "x is y"
   ]
  },
  {
   "cell_type": "code",
   "execution_count": 111,
   "id": "af5fcabb",
   "metadata": {},
   "outputs": [],
   "source": [
    "x_11 = 10\n",
    "\n"
   ]
  },
  {
   "cell_type": "code",
   "execution_count": 110,
   "id": "181abceb",
   "metadata": {},
   "outputs": [],
   "source": [
    "# 11_x = 10"
   ]
  },
  {
   "cell_type": "markdown",
   "id": "289263fe",
   "metadata": {},
   "source": [
    "### naming conventions\n",
    "    \n",
    "    - małe litery, słowa rozdzielane _. - snake_case\n",
    "    - DUZE_LITERY - jak chcemy podkreślić, że to jest stała \n",
    "    - _ - nazwa zmiennej, która nie jest dla nas istotna\n",
    "    \n",
    "    naming conventions \n",
    "  \n",
    "    note: camelCase, PascalCase, snake_case\n",
    "    "
   ]
  },
  {
   "cell_type": "code",
   "execution_count": null,
   "id": "5b441aef",
   "metadata": {},
   "outputs": [],
   "source": [
    "NazwaProduktu = \"gouda\"  # źle\n",
    "\n",
    "nazwa_produktu = \"gouda\"  # dobrze"
   ]
  },
  {
   "cell_type": "code",
   "execution_count": 113,
   "id": "1808f4ce",
   "metadata": {},
   "outputs": [],
   "source": [
    "# dynamiczne typowanie\n",
    "\n",
    "x = 1\n",
    "x = 1.2\n",
    "x = \"jakis napis\""
   ]
  },
  {
   "cell_type": "code",
   "execution_count": 118,
   "id": "f23d2741",
   "metadata": {},
   "outputs": [
    {
     "data": {
      "text/plain": [
       "'11'"
      ]
     },
     "execution_count": 118,
     "metadata": {},
     "output_type": "execute_result"
    }
   ],
   "source": [
    "# typowanie silne\n",
    "\n",
    "str(1) + \"1\"\n"
   ]
  },
  {
   "cell_type": "code",
   "execution_count": 119,
   "id": "0437a7ea",
   "metadata": {},
   "outputs": [
    {
     "data": {
      "text/plain": [
       "2"
      ]
     },
     "execution_count": 119,
     "metadata": {},
     "output_type": "execute_result"
    }
   ],
   "source": [
    "\n",
    "1 + int(\"1\")"
   ]
  },
  {
   "cell_type": "code",
   "execution_count": 129,
   "id": "5447a04b",
   "metadata": {},
   "outputs": [
    {
     "name": "stdout",
     "output_type": "stream",
     "text": [
      "Overwriting pep8_przyklad.py\n"
     ]
    }
   ],
   "source": [
    "%%writefile pep8_przyklad.py\n",
    "\n",
    "def to_jest_funkcja(x  = 1):\n",
    "    return x + 1\n"
   ]
  },
  {
   "cell_type": "code",
   "execution_count": 132,
   "id": "a701eef1",
   "metadata": {},
   "outputs": [],
   "source": [
    "!flake8 pep8_przyklad.py"
   ]
  },
  {
   "cell_type": "code",
   "execution_count": 131,
   "id": "5e2ec5e0",
   "metadata": {},
   "outputs": [
    {
     "name": "stdout",
     "output_type": "stream",
     "text": [
      "\u001b[1mreformatted pep8_przyklad.py\u001b[0m\r\n",
      "\r\n",
      "\u001b[1mAll done! ✨ 🍰 ✨\u001b[0m\r\n",
      "\u001b[34m\u001b[1m1 file \u001b[0m\u001b[1mreformatted\u001b[0m.\r\n"
     ]
    }
   ],
   "source": [
    "!black pep8_przyklad.py"
   ]
  },
  {
   "cell_type": "code",
   "execution_count": 133,
   "id": "8b1fb994",
   "metadata": {},
   "outputs": [
    {
     "name": "stdout",
     "output_type": "stream",
     "text": [
      "def to_jest_funkcja(x=1):\r\n",
      "    return x + 1\r\n"
     ]
    }
   ],
   "source": [
    "!cat pep8_przyklad.py"
   ]
  },
  {
   "cell_type": "markdown",
   "id": "bc2e8902",
   "metadata": {},
   "source": [
    "### implementing PEP-8 recommendations\n",
    "\n",
    "https://peps.python.org/pep-0008/\n",
    "\n",
    "przykład lintera:\n",
    "https://flake8.pycqa.org/en/latest/\n",
    "\n",
    "SonarLint\n",
    "\n",
    "przykład formattera:\n",
    "\n",
    "https://github.com/psf/black"
   ]
  },
  {
   "cell_type": "code",
   "execution_count": null,
   "id": "55660ff3",
   "metadata": {},
   "outputs": [],
   "source": []
  },
  {
   "cell_type": "markdown",
   "id": "3256a7fc",
   "metadata": {},
   "source": [
    "## PCEP-30-02 1.4 – Choose operators and data types adequate to the problem\n",
    "\n",
    "### numeric operatos: +, -, *, /, //, %, **  \n",
    "\n",
    "\n",
    "\n",
    "| operator | nazwa               | przykład      | wynik |\n",
    "| -------- | ------------------- | --------      | ----- |\n",
    "| +        | dodawanie           | 5 + 3         | 8     |\n",
    "| -        | odejmowanie         | 5 - 3         | 2     |\n",
    "| /        | dzielenie           | 5 / 2         | 2.5   |\n",
    "| //       | dzielenie całkowite | 5 // 2        | 2     |\n",
    "| *        | mnożenie            | 5 * 3         | 15    |\n",
    "| **       | potęgowanie         | 5 ** 2        | 25    |\n",
    "| %        | dzielenie modulo    | 5 % 2         | 1     |\n",
    "| @        | mnożenie macierzy   | [[2]] @ [[3]] | [[6]] |\n",
    "\n",
    "Uwaga: Operator `@` do mnożenia macierzy został wprowadzony w Pythonie 3.5 i jest często używany z bibliotekami takimi jak NumPy. W samym Pythonie nie ma jeszcze wbudowanych typów, które wykorzystują ten operator.\n",
    "\n",
    "https://peps.python.org/pep-0465/"
   ]
  },
  {
   "cell_type": "code",
   "execution_count": 136,
   "id": "e65ba04a",
   "metadata": {},
   "outputs": [
    {
     "data": {
      "text/plain": [
       "2"
      ]
     },
     "execution_count": 136,
     "metadata": {},
     "output_type": "execute_result"
    }
   ],
   "source": [
    "1 + 1"
   ]
  },
  {
   "cell_type": "code",
   "execution_count": 137,
   "id": "af43a32a",
   "metadata": {},
   "outputs": [
    {
     "data": {
      "text/plain": [
       "20"
      ]
     },
     "execution_count": 137,
     "metadata": {},
     "output_type": "execute_result"
    }
   ],
   "source": [
    "2 * 10"
   ]
  },
  {
   "cell_type": "markdown",
   "id": "2bdb4721",
   "metadata": {},
   "source": [
    "### string operators: * +"
   ]
  },
  {
   "cell_type": "code",
   "execution_count": 134,
   "id": "fd316398",
   "metadata": {},
   "outputs": [
    {
     "data": {
      "text/plain": [
       "'----------------------------------------'"
      ]
     },
     "execution_count": 134,
     "metadata": {},
     "output_type": "execute_result"
    }
   ],
   "source": [
    "\"-\" * 40"
   ]
  },
  {
   "cell_type": "code",
   "execution_count": 135,
   "id": "492ae6e9",
   "metadata": {},
   "outputs": [
    {
     "data": {
      "text/plain": [
       "'---===---'"
      ]
     },
     "execution_count": 135,
     "metadata": {},
     "output_type": "execute_result"
    }
   ],
   "source": [
    "\"---\" + \"===\" + \"---\""
   ]
  },
  {
   "cell_type": "code",
   "execution_count": 139,
   "id": "f8780099",
   "metadata": {},
   "outputs": [],
   "source": [
    "# \"-\" ** 3"
   ]
  },
  {
   "cell_type": "markdown",
   "id": "a4ebc8a6",
   "metadata": {},
   "source": [
    "### assignment and shortcut operators\n",
    "\n",
    "| operator | przykład    | równoważność   |\n",
    "| :------: | ----------- | -------------- |\n",
    "| =        | x = 5       | x = 5          |\n",
    "| +=       | x += 3      | x = x + 3      |\n",
    "| -=       | x -= 3      | x = x - 3      |\n",
    "| *=       | x *= 3      | x = x * 3      |\n",
    "| /=       | x /= 3      | x = x / 3      |\n",
    "| %=       | x %= 3      | x = x % 3      |\n",
    "| //=      | x //= 3     | x = x // 3     |\n",
    "| **=      | x **= 3     | x = x ** 3     |\n",
    "| &=       | x &= 3      | x = x & 3      |\n",
    "| &#124;=  | x &#124;= 3 | x = x &#124; 3 |\n",
    "| ^=       | x ^= 3      | x = x ^ 3      |\n",
    "| >>=      | x >>= 3     | x = x >> 3     |\n",
    "| <<=      | x <<= 3     | x = x << 3     |\n",
    "    "
   ]
  },
  {
   "cell_type": "code",
   "execution_count": 140,
   "id": "4db4070f",
   "metadata": {},
   "outputs": [],
   "source": [
    "x = 5"
   ]
  },
  {
   "cell_type": "code",
   "execution_count": 142,
   "id": "c3fe02b5",
   "metadata": {},
   "outputs": [],
   "source": [
    "x += 1"
   ]
  },
  {
   "cell_type": "code",
   "execution_count": 143,
   "id": "c0fa14ca",
   "metadata": {},
   "outputs": [
    {
     "data": {
      "text/plain": [
       "6"
      ]
     },
     "execution_count": 143,
     "metadata": {},
     "output_type": "execute_result"
    }
   ],
   "source": [
    "x"
   ]
  },
  {
   "cell_type": "markdown",
   "id": "88f66c60",
   "metadata": {},
   "source": [
    "### unary and binary operators\n",
    "    "
   ]
  },
  {
   "cell_type": "code",
   "execution_count": 141,
   "id": "63ab4c4c",
   "metadata": {},
   "outputs": [
    {
     "data": {
      "text/plain": [
       "-1"
      ]
     },
     "execution_count": 141,
     "metadata": {},
     "output_type": "execute_result"
    }
   ],
   "source": [
    "-1"
   ]
  },
  {
   "cell_type": "markdown",
   "id": "f903206c",
   "metadata": {},
   "source": [
    "### priorities and binding\n",
    "    \n",
    "    https://pythonflood.com/python-operator-precedence-simplifying-complex-expressions-22eb46b334"
   ]
  },
  {
   "cell_type": "code",
   "execution_count": null,
   "id": "35381fe6",
   "metadata": {},
   "outputs": [],
   "source": []
  },
  {
   "cell_type": "markdown",
   "id": "43b5b813",
   "metadata": {},
   "source": [
    "### bitwise operators: ~ & ^ | << >>\n",
    "\n",
    "\n",
    "| operator | nazwa                | opis | przykład               | wynik      |\n",
    "| :------: | -------------------- | ---- | :--------------------: | ---------- |\n",
    "| &        | AND                  |      | bin(0b10  & 0b01)      | 0b0        |\n",
    "| &#124;   | OR                   |      | bin(0b10  &#124; 0b01) | 0b11       |\n",
    "| ^        | XOR                  |      | bin(0b10 ^ 0b01)       | 0b11       |\n",
    "|          |                      |      | bin(0b10 ^ 0b10)       | 0b0        |\n",
    "| ~        | NOT                  |      | ~0b1                   | -2         |\n",
    "|          |                      |      | bin(~0b1)              | -0b10      |\n",
    "| <<       | Zero fill left shift |      | bin(0b00111100 << 2)   | 0b11110000 |\n",
    "| >>       | Signed right shift   |      | bin(0b00111100 >> 2)   | 0b1111     |"
   ]
  },
  {
   "cell_type": "code",
   "execution_count": null,
   "id": "58542133",
   "metadata": {},
   "outputs": [],
   "source": []
  },
  {
   "cell_type": "markdown",
   "id": "26ad887a",
   "metadata": {},
   "source": [
    "###  Boolean operators: not, and, or\n",
    "\n",
    "\n",
    "| operator | nazwa                                         | przykład              |\n",
    "| :------: | --------------------------------------------- | --------------------- |\n",
    "| and      | Returns True if both statements are true      | x < 5 and  x < 10     |\n",
    "| or       | Returns True if one of the statements is true | x < 5 or x < 4        |\n",
    "| not      | Reverse the result                            | not(x < 5 and x < 10) |"
   ]
  },
  {
   "cell_type": "code",
   "execution_count": null,
   "id": "477ba5f6",
   "metadata": {},
   "outputs": [],
   "source": []
  },
  {
   "cell_type": "markdown",
   "id": "1b3b77ae",
   "metadata": {},
   "source": [
    "### Boolean expressions\n",
    "\n",
    "Wyrażenia boolowskie (Boolean expressions) w Pythonie to wyrażenia, które oceniane są jako prawda (True) lub fałsz (False). Są one kluczowe dla kontroli przepływu w programach, umożliwiając podejmowanie decyzji i wykonywanie różnych działań w zależności od spełnienia określonych warunków. Oto kilka podstawowych typów wyrażeń boolowskich w Pythonie:\n",
    "\n",
    "1. **Porównania**: Możesz porównywać wartości za pomocą operatorów takich jak `==` (równe), `!=` (różne), `>` (większe), `<` (mniejsze), `>=` (większe lub równe), `<=` (mniejsze lub równe).\n",
    "   ```python\n",
    "   5 > 3  # Zwraca True\n",
    "   5 == 10  # Zwraca False\n",
    "   ```\n",
    "\n",
    "2. **Operatory logiczne**: Umożliwiają łączenie wyrażeń boolowskich za pomocą `and`, `or`, `not`.\n",
    "   ```python\n",
    "   (5 > 3) and (6 <= 12)  # Zwraca True, bo obie części są prawdziwe\n",
    "   not (5 > 10)  # Zwraca True, ponieważ 5 nie jest większe od 10\n",
    "   ```\n",
    "\n",
    "3. **Przynależność i tożsamość**: Operator `in` sprawdza, czy element znajduje się w sekwencji (takiej jak lista lub krotka), a `is` sprawdza, czy dwie zmienne wskazują ten sam obiekt.\n",
    "   ```python\n",
    "   'a' in 'abc'  # Zwraca True\n",
    "   'x' not in ['x', 'y', 'z']  # Zwraca False\n",
    "   x = y = [1, 2, 3]\n",
    "   x is y  # Zwraca True\n",
    "   ```\n",
    "\n",
    "Wyrażenia boolowskie są podstawą instrukcji warunkowych takich jak `if`, `elif` i `else`, a także pętli `while`, które wykonują kod, dopóki wyrażenie boolowskie jest prawdziwe."
   ]
  },
  {
   "cell_type": "code",
   "execution_count": null,
   "id": "0ab5272e",
   "metadata": {},
   "outputs": [],
   "source": []
  },
  {
   "cell_type": "markdown",
   "id": "f3a5be3c",
   "metadata": {},
   "source": [
    "### relational operators ( == != > >= < <= )\n",
    "\n",
    "| operator | nazwa                    | przykład            |\n",
    "| :------: | ------------------------ | ------------------- |\n",
    "| ==       | Equal                    | x == y              |\n",
    "| !=       | Not equal                | x != y              |\n",
    "| >        | Greater than             | x > y               |\n",
    "| <        | Less than                | x < y               |\n",
    "| >=       | Greater than or equal to | x >= y              |\n",
    "| <=       | Less than or equal to    | x <= y              |\n",
    "| :=       | Walrus operator          | if x := 2 < 3: pass |"
   ]
  },
  {
   "cell_type": "code",
   "execution_count": 146,
   "id": "88a1b2ef",
   "metadata": {},
   "outputs": [
    {
     "name": "stdout",
     "output_type": "stream",
     "text": [
      "True\n"
     ]
    }
   ],
   "source": [
    "\n",
    "if x := 2 < 3: \n",
    "    print(x)"
   ]
  },
  {
   "cell_type": "markdown",
   "id": "a8017046",
   "metadata": {},
   "source": [
    "### operatory algebry zbiorów\n",
    "\n",
    "Działają na obiektach typu `set`\n",
    "\n",
    "| operator | przykład             | wynik     |\n",
    "| -------- | -------------------- | --------- |\n",
    "| &        | {1, 2} & {2, 3}      | {2}       |\n",
    "| &#124;   | {1, 2} &#124; {2, 3} | {1, 2, 3} |\n",
    "| ^        | {1, 2} ^ {2, 3}      | {1, 3}    |\n",
    "| -        | {1, 2} - {2, 3}      | {1}       |"
   ]
  },
  {
   "cell_type": "markdown",
   "id": "b23e3c29",
   "metadata": {},
   "source": [
    "### operatory identyczności, tożsamości\n",
    "\n",
    "| operator | nazwa                                                  | przykład   |\n",
    "| :------: | ------------------------------------------------------ | ---------- |\n",
    "| is       | Returns True if both variables are the same object     | x is y     |\n",
    "| is not   | Returns True if both variables are not the same object | x is not y |"
   ]
  },
  {
   "cell_type": "code",
   "execution_count": null,
   "id": "86afd2fb",
   "metadata": {},
   "outputs": [],
   "source": []
  },
  {
   "cell_type": "markdown",
   "id": "bac3e9a8",
   "metadata": {},
   "source": [
    "### the accuracy of floating-point numbers\n",
    "\n",
    "Dokładność liczb zmiennoprzecinkowych w Pythonie, tak jak w większości języków programowania, jest ograniczona z powodu sposobu ich reprezentacji w pamięci komputera. Python używa liczb zmiennoprzecinkowych w formacie IEEE 754, który jest standardem dla arytmetyki zmiennoprzecinkowej.\n",
    "\n",
    "Liczby zmiennoprzecinkowe w Pythonie są zazwyczaj reprezentowane jako 64-bitowe liczby dwójkowe (typ `float`), co zapewnia pewien poziom precyzji, ale nie jest wystarczające do doskonałego odwzorowania wszystkich wartości dziesiętnych. Przykładowo, próba dokładnego przedstawienia bardzo prostych dziesiętnych wartości, takich jak 0.1, w systemie binarnym jest niemożliwa, co prowadzi do nieoczekiwanych błędów zaokrągleń:\n",
    "\n",
    "```python\n",
    "0.1 + 0.2 == 0.3  # Często zwraca False z powodu błędów zaokrąglenia\n",
    "```\n",
    "\n",
    "Oto główne problemy związane z dokładnością liczb zmiennoprzecinkowych w Pythonie:\n",
    "\n",
    "1. **Błąd zaokrąglenia**: Niektóre wartości dziesiętne nie mogą być dokładnie przedstawione jako liczby binarne, co prowadzi do małych błędów zaokrąglenia przy operacjach arytmetycznych.\n",
    "\n",
    "2. **Ograniczenia zakresu**: Liczby zmiennoprzecinkowe mają ograniczony zakres. W przypadku przekroczenia tego zakresu może wystąpić przepełnienie (overflow) lub niedomiar (underflow)."
   ]
  },
  {
   "cell_type": "code",
   "execution_count": 147,
   "id": "b8f86ba0",
   "metadata": {},
   "outputs": [
    {
     "data": {
      "text/plain": [
       "1.7976931348623157e+308"
      ]
     },
     "execution_count": 147,
     "metadata": {},
     "output_type": "execute_result"
    }
   ],
   "source": [
    "import sys\n",
    "huge_number = sys.float_info.max\n",
    "huge_number"
   ]
  },
  {
   "cell_type": "code",
   "execution_count": 3,
   "id": "2a479018",
   "metadata": {},
   "outputs": [
    {
     "name": "stdout",
     "output_type": "stream",
     "text": [
      "inf\n"
     ]
    }
   ],
   "source": [
    "overflow_example = huge_number * 2\n",
    "print(overflow_example)  # Wynik to inf"
   ]
  },
  {
   "cell_type": "code",
   "execution_count": 17,
   "id": "2e18ec41",
   "metadata": {},
   "outputs": [
    {
     "name": "stdout",
     "output_type": "stream",
     "text": [
      "0.0\n"
     ]
    }
   ],
   "source": [
    "\n",
    "tiny_number = sys.float_info.min\n",
    "underflow_example = tiny_number / 1e100\n",
    "print(underflow_example)  # Wynik to 0.0\n"
   ]
  },
  {
   "cell_type": "code",
   "execution_count": 150,
   "id": "791dc292",
   "metadata": {},
   "outputs": [
    {
     "data": {
      "text/plain": [
       "True"
      ]
     },
     "execution_count": 150,
     "metadata": {},
     "output_type": "execute_result"
    }
   ],
   "source": [
    "float(\"-inf\") < 10 < float(\"inf\")"
   ]
  },
  {
   "cell_type": "code",
   "execution_count": 151,
   "id": "358b88b2",
   "metadata": {},
   "outputs": [
    {
     "data": {
      "text/plain": [
       "False"
      ]
     },
     "execution_count": 151,
     "metadata": {},
     "output_type": "execute_result"
    }
   ],
   "source": [
    "float(\"-inf\") < float(\"nan\") < float(\"inf\")"
   ]
  },
  {
   "cell_type": "code",
   "execution_count": 152,
   "id": "d980f0dd",
   "metadata": {},
   "outputs": [
    {
     "data": {
      "text/plain": [
       "False"
      ]
     },
     "execution_count": 152,
     "metadata": {},
     "output_type": "execute_result"
    }
   ],
   "source": [
    "float(\"nan\") == float(\"nan\")"
   ]
  },
  {
   "cell_type": "markdown",
   "id": "c1493dbe",
   "metadata": {},
   "source": [
    "\n",
    "3. **Strata precyzji przy operacjach**: Operacje na dużych liczbach zmiennoprzecinkowych mogą prowadzić do straty znaczących cyfr, szczególnie w wyniku dodawania lub odejmowania wartości o dużo różniących się wielkościach.\n",
    "\n",
    "Dla zadań wymagających bardzo wysokiej precyzji, jak operacje finansowe czy naukowe, zaleca się stosowanie typu `decimal` z modułu `decimal` w Pythonie. Moduł ten pozwala na dokładniejsze zarządzanie precyzją i eliminuje wiele problemów związanych z błędami zaokrągleń, które występują w standardowym typie `float`."
   ]
  },
  {
   "cell_type": "code",
   "execution_count": null,
   "id": "c18b9854",
   "metadata": {},
   "outputs": [],
   "source": []
  },
  {
   "cell_type": "markdown",
   "id": "2d0493da",
   "metadata": {},
   "source": [
    "### type casting\n",
    "\n",
    "Type casting w Pythonie to proces konwersji wartości z jednego typu danych na inny, co pozwala na manipulację typami danych w różnych sytuacjach. W Pythonie casting może być jawnie wykonywany przy pomocy funkcji takich jak `int()`, `float()`, i `str()`, które konwertują wartości do odpowiednich typów. Na przykład:\n",
    "\n",
    "- `int('123')` przekształci ciąg znaków `'123'` na liczbę całkowitą `123`.\n",
    "- `float(5)` przekształci liczbę całkowitą `5` na liczbę zmiennoprzecinkową `5.0`.\n",
    "- `str(10)` przekształci liczbę całkowitą `10` na ciąg znaków `'10'`.\n",
    "\n",
    "Type casting jest użyteczny do konwersji typów danych, gdy operacje wymagają określonych typów danych, na przykład w operacjach matematycznych, interakcjach z bazami danych, czy w operacjach wejścia/wyjścia."
   ]
  },
  {
   "cell_type": "code",
   "execution_count": null,
   "id": "e112cc21",
   "metadata": {},
   "outputs": [],
   "source": []
  },
  {
   "cell_type": "markdown",
   "id": "0d86e633",
   "metadata": {},
   "source": []
  },
  {
   "cell_type": "markdown",
   "id": "26d04c30",
   "metadata": {},
   "source": [
    "## PCEP-30-02 1.5 – Perform Input/Output console operations\n",
    "\n",
    "### the print() and input() functions"
   ]
  },
  {
   "cell_type": "code",
   "execution_count": null,
   "id": "8f2bc39c",
   "metadata": {},
   "outputs": [],
   "source": [
    "print()"
   ]
  },
  {
   "cell_type": "code",
   "execution_count": 153,
   "id": "18a9bfe3",
   "metadata": {},
   "outputs": [
    {
     "name": "stdout",
     "output_type": "stream",
     "text": [
      "123\n"
     ]
    }
   ],
   "source": [
    "odp = input()"
   ]
  },
  {
   "cell_type": "code",
   "execution_count": 154,
   "id": "b3945d75",
   "metadata": {},
   "outputs": [
    {
     "data": {
      "text/plain": [
       "'123'"
      ]
     },
     "execution_count": 154,
     "metadata": {},
     "output_type": "execute_result"
    }
   ],
   "source": [
    "odp"
   ]
  },
  {
   "cell_type": "code",
   "execution_count": 155,
   "id": "f007471b",
   "metadata": {},
   "outputs": [
    {
     "name": "stdout",
     "output_type": "stream",
     "text": [
      "Podaj liczbę: 10\n"
     ]
    },
    {
     "data": {
      "text/plain": [
       "'10'"
      ]
     },
     "execution_count": 155,
     "metadata": {},
     "output_type": "execute_result"
    }
   ],
   "source": [
    "input(\"Podaj liczbę: \")"
   ]
  },
  {
   "cell_type": "markdown",
   "id": "8fe78e97",
   "metadata": {},
   "source": [
    "### the sep= and end= keyword parameters"
   ]
  },
  {
   "cell_type": "code",
   "execution_count": 157,
   "id": "f8c5a324",
   "metadata": {},
   "outputs": [
    {
     "name": "stdout",
     "output_type": "stream",
     "text": [
      "10 12 13 14\n",
      "20\n"
     ]
    }
   ],
   "source": [
    "print(10, 12, 13, 14)\n",
    "print(20)"
   ]
  },
  {
   "cell_type": "code",
   "execution_count": 160,
   "id": "dff06a19",
   "metadata": {},
   "outputs": [
    {
     "name": "stdout",
     "output_type": "stream",
     "text": [
      "10-12-13-14-20\n",
      "30\n"
     ]
    }
   ],
   "source": [
    "print(10, 12, 13, 14, sep=\"-\", end=\"-\")\n",
    "print(20)\n",
    "print(30)"
   ]
  },
  {
   "cell_type": "code",
   "execution_count": 161,
   "id": "7a255e99",
   "metadata": {},
   "outputs": [
    {
     "name": "stdout",
     "output_type": "stream",
     "text": [
      "10-12-13-14-"
     ]
    }
   ],
   "source": [
    "dane = print(10, 12, 13, 14, sep=\"-\", end=\"-\")"
   ]
  },
  {
   "cell_type": "code",
   "execution_count": 163,
   "id": "42c45905",
   "metadata": {},
   "outputs": [
    {
     "name": "stdout",
     "output_type": "stream",
     "text": [
      "Help on built-in function print in module builtins:\n",
      "\n",
      "print(...)\n",
      "    print(value, ..., sep=' ', end='\\n', file=sys.stdout, flush=False)\n",
      "    \n",
      "    Prints the values to a stream, or to sys.stdout by default.\n",
      "    Optional keyword arguments:\n",
      "    file:  a file-like object (stream); defaults to the current sys.stdout.\n",
      "    sep:   string inserted between values, default a space.\n",
      "    end:   string appended after the last value, default a newline.\n",
      "    flush: whether to forcibly flush the stream.\n",
      "\n"
     ]
    }
   ],
   "source": [
    "help(print)"
   ]
  },
  {
   "cell_type": "code",
   "execution_count": 164,
   "id": "5c5a409a",
   "metadata": {},
   "outputs": [],
   "source": [
    "print?"
   ]
  },
  {
   "cell_type": "markdown",
   "id": "b2943954",
   "metadata": {},
   "source": [
    "### the int() and float() functions"
   ]
  },
  {
   "cell_type": "code",
   "execution_count": 165,
   "id": "b55a674b",
   "metadata": {},
   "outputs": [
    {
     "data": {
      "text/plain": [
       "10"
      ]
     },
     "execution_count": 165,
     "metadata": {},
     "output_type": "execute_result"
    }
   ],
   "source": [
    "int(10.12)"
   ]
  },
  {
   "cell_type": "code",
   "execution_count": 166,
   "id": "ab9e33e9",
   "metadata": {},
   "outputs": [
    {
     "data": {
      "text/plain": [
       "10.0"
      ]
     },
     "execution_count": 166,
     "metadata": {},
     "output_type": "execute_result"
    }
   ],
   "source": [
    "float(10)"
   ]
  },
  {
   "cell_type": "code",
   "execution_count": 167,
   "id": "0a286678",
   "metadata": {},
   "outputs": [
    {
     "data": {
      "text/plain": [
       "'0b1111011'"
      ]
     },
     "execution_count": 167,
     "metadata": {},
     "output_type": "execute_result"
    }
   ],
   "source": [
    "bin(123)"
   ]
  },
  {
   "cell_type": "code",
   "execution_count": 168,
   "id": "d381485a",
   "metadata": {},
   "outputs": [
    {
     "data": {
      "text/plain": [
       "'0x7b'"
      ]
     },
     "execution_count": 168,
     "metadata": {},
     "output_type": "execute_result"
    }
   ],
   "source": [
    "hex(123)"
   ]
  },
  {
   "cell_type": "code",
   "execution_count": 169,
   "id": "40f7cde5",
   "metadata": {},
   "outputs": [
    {
     "data": {
      "text/plain": [
       "'0o173'"
      ]
     },
     "execution_count": 169,
     "metadata": {},
     "output_type": "execute_result"
    }
   ],
   "source": [
    "oct(123)"
   ]
  },
  {
   "cell_type": "markdown",
   "id": "e28499e0",
   "metadata": {},
   "source": [
    "# Control Flow - Conditional Blocks and Loops\n",
    "\n",
    "## PCEP-30-02 2.1 – Make decisions and branch the flow with the if instruction\n",
    "\n",
    "###    conditional statements: if, if-else, if-elif, if-elif-else"
   ]
  },
  {
   "cell_type": "markdown",
   "id": "99e8a695",
   "metadata": {},
   "source": [
    "if warunek:\n",
    "    blok kodu\n",
    "    "
   ]
  },
  {
   "cell_type": "code",
   "execution_count": 173,
   "id": "88cd2840",
   "metadata": {},
   "outputs": [
    {
     "name": "stdout",
     "output_type": "stream",
     "text": [
      "x to liczba parzysta\n"
     ]
    }
   ],
   "source": [
    "x = 12\n",
    "if x % 2 == 0:\n",
    "    print(\"x to liczba parzysta\")"
   ]
  },
  {
   "cell_type": "code",
   "execution_count": 174,
   "id": "4d749339",
   "metadata": {},
   "outputs": [
    {
     "data": {
      "text/plain": [
       "True"
      ]
     },
     "execution_count": 174,
     "metadata": {},
     "output_type": "execute_result"
    }
   ],
   "source": [
    "x % 2 == 0"
   ]
  },
  {
   "cell_type": "markdown",
   "id": "89d8e6e9",
   "metadata": {},
   "source": [
    "if warunek:\n",
    "    blok kodu\n",
    "else:\n",
    "    inny blok kodu"
   ]
  },
  {
   "cell_type": "code",
   "execution_count": 176,
   "id": "4fe7e364",
   "metadata": {},
   "outputs": [
    {
     "name": "stdout",
     "output_type": "stream",
     "text": [
      "x jest nieparzyste\n"
     ]
    }
   ],
   "source": [
    "x = 13\n",
    "if x % 2 == 0:\n",
    "    print(\"x to liczba parzysta\")\n",
    "else:\n",
    "    print(\"x jest nieparzyste\")"
   ]
  },
  {
   "cell_type": "markdown",
   "id": "00ba7436",
   "metadata": {},
   "source": [
    "if warunek 1:\n",
    "    blok kodu\n",
    "elif warunek 2:\n",
    "    blok kodu 2\n",
    "elif warunek 3:\n",
    "    ....\n",
    "else:\n",
    "    inny blok kodu\n",
    "    \n",
    "blok kodu po wyrazeniu"
   ]
  },
  {
   "cell_type": "code",
   "execution_count": 180,
   "id": "8127f79f",
   "metadata": {},
   "outputs": [
    {
     "name": "stdout",
     "output_type": "stream",
     "text": [
      "idę dalej\n"
     ]
    }
   ],
   "source": [
    "x = 13\n",
    "if x % 2 == 0:\n",
    "    print(\"podzielne przez 2\")\n",
    "elif x % 3 == 0:\n",
    "    print(\"podzielne przez 3\")\n",
    "\n",
    "print(\"idę dalej\")"
   ]
  },
  {
   "cell_type": "code",
   "execution_count": null,
   "id": "0d2eea37",
   "metadata": {},
   "outputs": [],
   "source": [
    "if warunek 1:\n",
    "    blok kodu\n",
    "\n",
    "if warunek 2:\n",
    "    blok kodu 2\n",
    "\n",
    "if warunek 3:\n",
    "    ....\n",
    "    \n",
    "blok kodu po wyrazeniu"
   ]
  },
  {
   "cell_type": "markdown",
   "id": "faf88265",
   "metadata": {},
   "source": [
    "###    multiple conditional statements"
   ]
  },
  {
   "cell_type": "code",
   "execution_count": null,
   "id": "a5f1f32a",
   "metadata": {},
   "outputs": [],
   "source": []
  },
  {
   "cell_type": "markdown",
   "id": "e8af1f9e",
   "metadata": {},
   "source": [
    "###    nesting conditional statements    "
   ]
  },
  {
   "cell_type": "code",
   "execution_count": null,
   "id": "026366c0",
   "metadata": {},
   "outputs": [],
   "source": [
    "if warunek 1:\n",
    "    if warunek 2:\n",
    "        cos tam\n",
    "    \n",
    "    blok kodu z warunek 1\n",
    "        "
   ]
  },
  {
   "cell_type": "code",
   "execution_count": null,
   "id": "4995d43f",
   "metadata": {},
   "outputs": [],
   "source": [
    "x = 60\n",
    "\n",
    "if x % 6 == 0:\n",
    "    if x % 2 == 0:\n",
    "        ..."
   ]
  },
  {
   "cell_type": "code",
   "execution_count": 186,
   "id": "a911aaa1",
   "metadata": {},
   "outputs": [],
   "source": [
    "x =13"
   ]
  },
  {
   "cell_type": "code",
   "execution_count": 184,
   "id": "87f1d95b",
   "metadata": {},
   "outputs": [
    {
     "name": "stdout",
     "output_type": "stream",
     "text": [
      "x jest duże\n"
     ]
    }
   ],
   "source": [
    "if x > 30 or x / 0 == 1:\n",
    "    print(\"x jest duże\")"
   ]
  },
  {
   "cell_type": "code",
   "execution_count": 187,
   "id": "cd39e3c0",
   "metadata": {},
   "outputs": [
    {
     "ename": "ZeroDivisionError",
     "evalue": "division by zero",
     "output_type": "error",
     "traceback": [
      "\u001b[0;31m---------------------------------------------------------------------------\u001b[0m",
      "\u001b[0;31mZeroDivisionError\u001b[0m                         Traceback (most recent call last)",
      "Cell \u001b[0;32mIn[187], line 1\u001b[0m\n\u001b[0;32m----> 1\u001b[0m \u001b[38;5;28;01mif\u001b[39;00m x \u001b[38;5;241m<\u001b[39m \u001b[38;5;241m30\u001b[39m \u001b[38;5;129;01mand\u001b[39;00m \u001b[43mx\u001b[49m\u001b[43m \u001b[49m\u001b[38;5;241;43m/\u001b[39;49m\u001b[43m \u001b[49m\u001b[38;5;241;43m0\u001b[39;49m:\n\u001b[1;32m      2\u001b[0m     \u001b[38;5;28mprint\u001b[39m(\u001b[38;5;124m\"\u001b[39m\u001b[38;5;124mx jest małe\u001b[39m\u001b[38;5;124m\"\u001b[39m)\n",
      "\u001b[0;31mZeroDivisionError\u001b[0m: division by zero"
     ]
    }
   ],
   "source": [
    "if x < 30 and x / 0:\n",
    "    print(\"x jest małe\")"
   ]
  },
  {
   "cell_type": "markdown",
   "id": "7db1ae01",
   "metadata": {},
   "source": [
    "## PCEP-30-02 2.2 – Perform different types of iterations\n",
    "\n",
    "###    the pass instruction"
   ]
  },
  {
   "cell_type": "code",
   "execution_count": 188,
   "id": "0f128f0a",
   "metadata": {},
   "outputs": [],
   "source": [
    "if x > 30:\n",
    "    pass\n"
   ]
  },
  {
   "cell_type": "code",
   "execution_count": 189,
   "id": "b54bd519",
   "metadata": {},
   "outputs": [],
   "source": [
    "def foo():\n",
    "    pass"
   ]
  },
  {
   "cell_type": "code",
   "execution_count": null,
   "id": "b95d9d8f",
   "metadata": {},
   "outputs": [],
   "source": []
  },
  {
   "cell_type": "markdown",
   "id": "e6851920",
   "metadata": {},
   "source": [
    "### building loops with while, for, range(), and in"
   ]
  },
  {
   "cell_type": "code",
   "execution_count": 190,
   "id": "27eafa22",
   "metadata": {},
   "outputs": [
    {
     "data": {
      "text/plain": [
       "range(0, 10)"
      ]
     },
     "execution_count": 190,
     "metadata": {},
     "output_type": "execute_result"
    }
   ],
   "source": [
    "range(10)"
   ]
  },
  {
   "cell_type": "code",
   "execution_count": 191,
   "id": "4fb19dbc",
   "metadata": {},
   "outputs": [
    {
     "data": {
      "text/plain": [
       "[0, 1, 2, 3, 4, 5, 6, 7, 8, 9]"
      ]
     },
     "execution_count": 191,
     "metadata": {},
     "output_type": "execute_result"
    }
   ],
   "source": [
    "list(range(10))"
   ]
  },
  {
   "cell_type": "code",
   "execution_count": 192,
   "id": "2c6b8ca1",
   "metadata": {},
   "outputs": [
    {
     "data": {
      "text/plain": [
       "[10, 11, 12, 13, 14, 15, 16, 17, 18, 19]"
      ]
     },
     "execution_count": 192,
     "metadata": {},
     "output_type": "execute_result"
    }
   ],
   "source": [
    "list(range(10, 20))"
   ]
  },
  {
   "cell_type": "code",
   "execution_count": 193,
   "id": "1cdf6e4e",
   "metadata": {},
   "outputs": [
    {
     "data": {
      "text/plain": [
       "[10, 12, 14, 16, 18]"
      ]
     },
     "execution_count": 193,
     "metadata": {},
     "output_type": "execute_result"
    }
   ],
   "source": [
    "list(range(10, 20, 2))"
   ]
  },
  {
   "cell_type": "code",
   "execution_count": 194,
   "id": "d105b30d",
   "metadata": {},
   "outputs": [],
   "source": [
    "range?"
   ]
  },
  {
   "cell_type": "code",
   "execution_count": 195,
   "id": "aaef9050",
   "metadata": {},
   "outputs": [
    {
     "name": "stdout",
     "output_type": "stream",
     "text": [
      "cos tam robie\n",
      "cos tam robie\n",
      "cos tam robie\n",
      "cos tam robie\n",
      "cos tam robie\n",
      "cos tam robie\n",
      "cos tam robie\n",
      "cos tam robie\n",
      "cos tam robie\n",
      "cos tam robie\n"
     ]
    }
   ],
   "source": [
    "for i in range(10):\n",
    "    print(\"cos tam robie\")"
   ]
  },
  {
   "cell_type": "code",
   "execution_count": 196,
   "id": "a7c15517",
   "metadata": {},
   "outputs": [
    {
     "name": "stdout",
     "output_type": "stream",
     "text": [
      "cos tam robie\n",
      "cos tam robie\n",
      "cos tam robie\n",
      "cos tam robie\n",
      "cos tam robie\n",
      "cos tam robie\n",
      "cos tam robie\n",
      "cos tam robie\n",
      "cos tam robie\n",
      "cos tam robie\n"
     ]
    }
   ],
   "source": [
    "i = 0\n",
    "while i < 10:\n",
    "    print(\"cos tam robie\")\n",
    "    i += 1"
   ]
  },
  {
   "cell_type": "code",
   "execution_count": 198,
   "id": "8ba06ec3",
   "metadata": {},
   "outputs": [],
   "source": [
    "#.       012345678910\n",
    "napis = \"Ala ma kota\"\n"
   ]
  },
  {
   "cell_type": "code",
   "execution_count": 199,
   "id": "2dd105d7",
   "metadata": {},
   "outputs": [
    {
     "name": "stdout",
     "output_type": "stream",
     "text": [
      "A\n",
      "l\n",
      "a\n",
      " \n",
      "m\n",
      "a\n",
      " \n",
      "k\n",
      "o\n",
      "t\n",
      "a\n"
     ]
    }
   ],
   "source": [
    "for znak in napis:\n",
    "    print(znak)"
   ]
  },
  {
   "cell_type": "code",
   "execution_count": 205,
   "id": "843478f6",
   "metadata": {},
   "outputs": [
    {
     "data": {
      "text/plain": [
       "False"
      ]
     },
     "execution_count": 205,
     "metadata": {},
     "output_type": "execute_result"
    }
   ],
   "source": [
    "\"B\" in napis"
   ]
  },
  {
   "cell_type": "code",
   "execution_count": 201,
   "id": "6a79aac0",
   "metadata": {},
   "outputs": [
    {
     "data": {
      "text/plain": [
       "'o'"
      ]
     },
     "execution_count": 201,
     "metadata": {},
     "output_type": "execute_result"
    }
   ],
   "source": [
    "napis[8]"
   ]
  },
  {
   "cell_type": "code",
   "execution_count": 202,
   "id": "e7e2a5fb",
   "metadata": {},
   "outputs": [
    {
     "data": {
      "text/plain": [
       "11"
      ]
     },
     "execution_count": 202,
     "metadata": {},
     "output_type": "execute_result"
    }
   ],
   "source": [
    "len(napis)"
   ]
  },
  {
   "cell_type": "code",
   "execution_count": 203,
   "id": "3f7e036a",
   "metadata": {},
   "outputs": [
    {
     "name": "stdout",
     "output_type": "stream",
     "text": [
      "A\n",
      "l\n",
      "a\n",
      " \n",
      "m\n",
      "a\n",
      " \n",
      "k\n",
      "o\n",
      "t\n",
      "a\n"
     ]
    }
   ],
   "source": [
    "i = 0\n",
    "while i < len(napis):\n",
    "    print(napis[i])\n",
    "    i += 1"
   ]
  },
  {
   "cell_type": "code",
   "execution_count": 208,
   "id": "e5ed507d",
   "metadata": {},
   "outputs": [
    {
     "name": "stdout",
     "output_type": "stream",
     "text": [
      "Podaj kierunek (w/a/s/d)q\n",
      "Kończysz grę\n"
     ]
    }
   ],
   "source": [
    "kierunki = {\n",
    "    \"w\": \"góra\",\n",
    "    \"a\": \"lewo\",\n",
    "    \"s\": \"dół\",\n",
    "    \"d\": \"prawo\"\n",
    "}\n",
    "\n",
    "while True:\n",
    "    \n",
    "    instrukcja = input(\"Podaj kierunek (w/a/s/d)\")\n",
    "    if instrukcja == \"q\":\n",
    "        print(\"Kończysz grę\")\n",
    "        break\n",
    "    print(f\"Poruszsz się w kierunku: {kierunki[instrukcja]}\")"
   ]
  },
  {
   "cell_type": "markdown",
   "id": "d3035c0e",
   "metadata": {},
   "source": [
    "### iterating through sequences"
   ]
  },
  {
   "cell_type": "code",
   "execution_count": 213,
   "id": "dcca33a9",
   "metadata": {},
   "outputs": [
    {
     "name": "stdout",
     "output_type": "stream",
     "text": [
      "w\n",
      "a\n",
      "s\n",
      "d\n",
      "d\n"
     ]
    }
   ],
   "source": [
    "napis = \"ala\"\n",
    "lista = [1, 2, 3]\n",
    "(1, 2, 3)\n",
    "kierunki = {\n",
    "    \"w\": \"góra\",\n",
    "    \"a\": \"lewo\",\n",
    "    \"s\": \"dół\",\n",
    "    \"d\": \"prawo\"\n",
    "}\n",
    "\n",
    "\n",
    "for kierunek in kierunki:\n",
    "    print(kierunek)\n",
    "\n",
    "print(kierunek)"
   ]
  },
  {
   "cell_type": "markdown",
   "id": "f5eea2af",
   "metadata": {},
   "source": [
    "### expanding loops with while-else and for-else"
   ]
  },
  {
   "cell_type": "markdown",
   "id": "ca2d934b",
   "metadata": {},
   "source": [
    "while warunek:\n",
    "    blok kodu\n",
    "else:\n",
    "    inny blok kodu"
   ]
  },
  {
   "cell_type": "code",
   "execution_count": 216,
   "id": "9ec86d95",
   "metadata": {},
   "outputs": [
    {
     "name": "stdout",
     "output_type": "stream",
     "text": [
      "0\n",
      "1\n",
      "2\n",
      "3\n",
      "4\n"
     ]
    }
   ],
   "source": [
    "i = 0\n",
    "    \n",
    "while i < 10:\n",
    "    print(i)\n",
    "    i += 1\n",
    "    if i == 5:\n",
    "        break\n",
    "    \n",
    "else:\n",
    "    print(\"przeszedłem całą pętlę bez break\")"
   ]
  },
  {
   "cell_type": "code",
   "execution_count": 218,
   "id": "a08d87de",
   "metadata": {},
   "outputs": [
    {
     "name": "stdout",
     "output_type": "stream",
     "text": [
      "0\n",
      "1\n",
      "2\n",
      "3\n",
      "4\n",
      "5\n",
      "6\n",
      "7\n",
      "8\n",
      "9\n",
      "przeszedłem całą pętlę bez break \n"
     ]
    }
   ],
   "source": [
    "for i in range(10):\n",
    "    if i == 5:\n",
    "        pass\n",
    "        #break\n",
    "    print(i)\n",
    "else:\n",
    "    print(\"przeszedłem całą pętlę bez break \") \n",
    "    "
   ]
  },
  {
   "cell_type": "code",
   "execution_count": 220,
   "id": "43cf5013",
   "metadata": {},
   "outputs": [
    {
     "name": "stdout",
     "output_type": "stream",
     "text": [
      "[2, 3, 5, 7, 11, 13, 17]\n"
     ]
    }
   ],
   "source": [
    "lista = [1, 2, 3, 4, 5, 6, 7, 11, 13, 17, 21, 49]\n",
    "liczby_pierwsze = []\n",
    "\n",
    "for liczba in lista:\n",
    "    \n",
    "    if liczba <= 1:\n",
    "        continue\n",
    "    \n",
    "    if liczba == 2:\n",
    "        liczby_pierwsze.append(liczba)\n",
    "        continue\n",
    "    \n",
    "    for dzielnik in range(2, liczba):\n",
    "        if liczba % dzielnik == 0:\n",
    "            break\n",
    "    else:\n",
    "        liczby_pierwsze.append(liczba)\n",
    "            \n",
    "\n",
    "print(liczby_pierwsze)"
   ]
  },
  {
   "cell_type": "code",
   "execution_count": 221,
   "id": "0ddf8d68",
   "metadata": {},
   "outputs": [
    {
     "name": "stdout",
     "output_type": "stream",
     "text": [
      "[2, 3, 5, 7, 11, 13, 17]\n"
     ]
    }
   ],
   "source": [
    "lista = [1, 2, 3, 4, 5, 6, 7, 11, 13, 17, 21, 49]\n",
    "liczby_pierwsze = []\n",
    "\n",
    "for liczba in lista:\n",
    "    \n",
    "    czy_pierwsza = True\n",
    "    \n",
    "    if liczba <= 1:\n",
    "        continue\n",
    "    \n",
    "    if liczba == 2:\n",
    "        liczby_pierwsze.append(liczba)\n",
    "        continue\n",
    "    \n",
    "    for dzielnik in range(2, liczba):\n",
    "        if liczba % dzielnik == 0:\n",
    "            czy_pierwsza = False\n",
    "            break\n",
    "            \n",
    "    if czy_pierwsza:\n",
    "        liczby_pierwsze.append(liczba)\n",
    "\n",
    "print(liczby_pierwsze)"
   ]
  },
  {
   "cell_type": "markdown",
   "id": "3e466368",
   "metadata": {},
   "source": [
    "### nesting loops and conditional statements"
   ]
  },
  {
   "cell_type": "code",
   "execution_count": null,
   "id": "97a0dc2f",
   "metadata": {},
   "outputs": [],
   "source": []
  },
  {
   "cell_type": "markdown",
   "id": "428397c1",
   "metadata": {},
   "source": [
    "### controlling loop execution with break and continue"
   ]
  },
  {
   "cell_type": "markdown",
   "id": "ddc5b925",
   "metadata": {},
   "source": [
    "\n",
    "    "
   ]
  },
  {
   "cell_type": "markdown",
   "id": "425f9132",
   "metadata": {},
   "source": [
    "# Data structures\n",
    "\n",
    "## PCEP-30-02 3.1 – Collect and process data using lists\n",
    "\n",
    "###    constructing vectors"
   ]
  },
  {
   "cell_type": "code",
   "execution_count": 227,
   "id": "f67a72d9",
   "metadata": {},
   "outputs": [],
   "source": [
    "#.                 0  1  2  3\n",
    "vector_as_list  = [1, 2, 3, 4]  # list\n",
    "vector_as_tuple = (1, 2, 3, 4) # tuple"
   ]
  },
  {
   "cell_type": "code",
   "execution_count": null,
   "id": "739d3182",
   "metadata": {},
   "outputs": [],
   "source": []
  },
  {
   "cell_type": "code",
   "execution_count": 228,
   "id": "2c4ef15e",
   "metadata": {},
   "outputs": [
    {
     "data": {
      "text/plain": [
       "['1', '2', '3']"
      ]
     },
     "execution_count": 228,
     "metadata": {},
     "output_type": "execute_result"
    }
   ],
   "source": [
    "list(\"123\")"
   ]
  },
  {
   "cell_type": "code",
   "execution_count": 229,
   "id": "7fb77592",
   "metadata": {},
   "outputs": [
    {
     "data": {
      "text/plain": [
       "('1', '2', '3')"
      ]
     },
     "execution_count": 229,
     "metadata": {},
     "output_type": "execute_result"
    }
   ],
   "source": [
    "tuple(\"123\")"
   ]
  },
  {
   "cell_type": "code",
   "execution_count": 230,
   "id": "046a1a33",
   "metadata": {},
   "outputs": [],
   "source": [
    "vector_as_list[0] = 10"
   ]
  },
  {
   "cell_type": "code",
   "execution_count": 231,
   "id": "8e25fb81",
   "metadata": {},
   "outputs": [
    {
     "data": {
      "text/plain": [
       "[10, 2, 3, 4]"
      ]
     },
     "execution_count": 231,
     "metadata": {},
     "output_type": "execute_result"
    }
   ],
   "source": [
    "vector_as_list"
   ]
  },
  {
   "cell_type": "code",
   "execution_count": 232,
   "id": "bbdcea68",
   "metadata": {},
   "outputs": [
    {
     "ename": "TypeError",
     "evalue": "'tuple' object does not support item assignment",
     "output_type": "error",
     "traceback": [
      "\u001b[0;31m---------------------------------------------------------------------------\u001b[0m",
      "\u001b[0;31mTypeError\u001b[0m                                 Traceback (most recent call last)",
      "Cell \u001b[0;32mIn[232], line 1\u001b[0m\n\u001b[0;32m----> 1\u001b[0m \u001b[43mvector_as_tuple\u001b[49m\u001b[43m[\u001b[49m\u001b[38;5;241;43m0\u001b[39;49m\u001b[43m]\u001b[49m \u001b[38;5;241m=\u001b[39m \u001b[38;5;241m10\u001b[39m\n",
      "\u001b[0;31mTypeError\u001b[0m: 'tuple' object does not support item assignment"
     ]
    }
   ],
   "source": [
    "vector_as_tuple[0] = 10"
   ]
  },
  {
   "cell_type": "code",
   "execution_count": 233,
   "id": "f5a6cf78",
   "metadata": {},
   "outputs": [],
   "source": [
    "vector_as_list.append(5)"
   ]
  },
  {
   "cell_type": "code",
   "execution_count": null,
   "id": "218ccdcd",
   "metadata": {},
   "outputs": [],
   "source": []
  },
  {
   "cell_type": "code",
   "execution_count": 234,
   "id": "4a3683c8",
   "metadata": {},
   "outputs": [
    {
     "data": {
      "text/plain": [
       "[10, 2, 3, 4, 5]"
      ]
     },
     "execution_count": 234,
     "metadata": {},
     "output_type": "execute_result"
    }
   ],
   "source": [
    "vector_as_list"
   ]
  },
  {
   "cell_type": "code",
   "execution_count": 235,
   "id": "3841ea29",
   "metadata": {},
   "outputs": [
    {
     "ename": "AttributeError",
     "evalue": "'tuple' object has no attribute 'append'",
     "output_type": "error",
     "traceback": [
      "\u001b[0;31m---------------------------------------------------------------------------\u001b[0m",
      "\u001b[0;31mAttributeError\u001b[0m                            Traceback (most recent call last)",
      "Cell \u001b[0;32mIn[235], line 1\u001b[0m\n\u001b[0;32m----> 1\u001b[0m \u001b[43mvector_as_tuple\u001b[49m\u001b[38;5;241;43m.\u001b[39;49m\u001b[43mappend\u001b[49m(\u001b[38;5;241m5\u001b[39m)\n",
      "\u001b[0;31mAttributeError\u001b[0m: 'tuple' object has no attribute 'append'"
     ]
    }
   ],
   "source": [
    "vector_as_tuple.append(5)"
   ]
  },
  {
   "cell_type": "code",
   "execution_count": 236,
   "id": "f75a0f9d",
   "metadata": {},
   "outputs": [
    {
     "data": {
      "text/plain": [
       "(10, 2, 3, 4, 5)"
      ]
     },
     "execution_count": 236,
     "metadata": {},
     "output_type": "execute_result"
    }
   ],
   "source": [
    "tuple(vector_as_list)"
   ]
  },
  {
   "cell_type": "code",
   "execution_count": 241,
   "id": "a9a3a09f",
   "metadata": {},
   "outputs": [],
   "source": [
    "a =[1, 2, 3] \n",
    "b = a"
   ]
  },
  {
   "cell_type": "code",
   "execution_count": 242,
   "id": "fb73c405",
   "metadata": {},
   "outputs": [],
   "source": [
    "a.append(4)"
   ]
  },
  {
   "cell_type": "code",
   "execution_count": 243,
   "id": "f40611cb",
   "metadata": {},
   "outputs": [
    {
     "data": {
      "text/plain": [
       "[1, 2, 3, 4]"
      ]
     },
     "execution_count": 243,
     "metadata": {},
     "output_type": "execute_result"
    }
   ],
   "source": [
    "a"
   ]
  },
  {
   "cell_type": "code",
   "execution_count": 244,
   "id": "caf43485",
   "metadata": {},
   "outputs": [
    {
     "data": {
      "text/plain": [
       "[1, 2, 3, 4]"
      ]
     },
     "execution_count": 244,
     "metadata": {},
     "output_type": "execute_result"
    }
   ],
   "source": [
    "b"
   ]
  },
  {
   "cell_type": "code",
   "execution_count": 245,
   "id": "45196123",
   "metadata": {},
   "outputs": [
    {
     "data": {
      "text/plain": [
       "True"
      ]
     },
     "execution_count": 245,
     "metadata": {},
     "output_type": "execute_result"
    }
   ],
   "source": [
    "b is a"
   ]
  },
  {
   "cell_type": "code",
   "execution_count": 246,
   "id": "ff1d5f4d",
   "metadata": {},
   "outputs": [
    {
     "data": {
      "text/plain": [
       "4635639168"
      ]
     },
     "execution_count": 246,
     "metadata": {},
     "output_type": "execute_result"
    }
   ],
   "source": [
    "id(b)"
   ]
  },
  {
   "cell_type": "code",
   "execution_count": 247,
   "id": "492b564b",
   "metadata": {},
   "outputs": [
    {
     "data": {
      "text/plain": [
       "4635639168"
      ]
     },
     "execution_count": 247,
     "metadata": {},
     "output_type": "execute_result"
    }
   ],
   "source": [
    "id(a)"
   ]
  },
  {
   "cell_type": "code",
   "execution_count": 248,
   "id": "0bb81ab0",
   "metadata": {},
   "outputs": [
    {
     "data": {
      "text/plain": [
       "(4630333056, 4630334720)"
      ]
     },
     "execution_count": 248,
     "metadata": {},
     "output_type": "execute_result"
    }
   ],
   "source": [
    "a = [1, 2, 3]\n",
    "b = [1, 2, 3]\n",
    "\n",
    "id(a), id(b)"
   ]
  },
  {
   "cell_type": "code",
   "execution_count": 249,
   "id": "3fad5fc0",
   "metadata": {},
   "outputs": [
    {
     "data": {
      "text/plain": [
       "False"
      ]
     },
     "execution_count": 249,
     "metadata": {},
     "output_type": "execute_result"
    }
   ],
   "source": [
    "a is b"
   ]
  },
  {
   "cell_type": "code",
   "execution_count": 250,
   "id": "99499787",
   "metadata": {},
   "outputs": [],
   "source": [
    "long_list = [x for x in range(100000)]"
   ]
  },
  {
   "cell_type": "code",
   "execution_count": 251,
   "id": "577834d6",
   "metadata": {},
   "outputs": [
    {
     "data": {
      "text/plain": [
       "100000"
      ]
     },
     "execution_count": 251,
     "metadata": {},
     "output_type": "execute_result"
    }
   ],
   "source": [
    "len(long_list)"
   ]
  },
  {
   "cell_type": "code",
   "execution_count": 252,
   "id": "47001025",
   "metadata": {},
   "outputs": [],
   "source": [
    "long_list_2 = [x for x in range(100000)]"
   ]
  },
  {
   "cell_type": "code",
   "execution_count": 256,
   "id": "3530387f",
   "metadata": {},
   "outputs": [
    {
     "name": "stdout",
     "output_type": "stream",
     "text": [
      "1.97 ms ± 8.94 µs per loop (mean ± std. dev. of 7 runs, 100 loops each)\n"
     ]
    }
   ],
   "source": [
    "%timeit long_list == long_list_2"
   ]
  },
  {
   "cell_type": "code",
   "execution_count": 257,
   "id": "fa97c492",
   "metadata": {},
   "outputs": [],
   "source": [
    "long_tuple = tuple(long_list)\n",
    "long_tuple_2 = tuple(long_list_2)"
   ]
  },
  {
   "cell_type": "code",
   "execution_count": 258,
   "id": "aef18236",
   "metadata": {},
   "outputs": [
    {
     "name": "stdout",
     "output_type": "stream",
     "text": [
      "1.54 ms ± 10.4 µs per loop (mean ± std. dev. of 7 runs, 1,000 loops each)\n"
     ]
    }
   ],
   "source": [
    "%timeit long_tuple == long_tuple_2"
   ]
  },
  {
   "cell_type": "code",
   "execution_count": 259,
   "id": "21bdd6d1",
   "metadata": {},
   "outputs": [
    {
     "data": {
      "text/plain": [
       "-2385963230871902647"
      ]
     },
     "execution_count": 259,
     "metadata": {},
     "output_type": "execute_result"
    }
   ],
   "source": [
    "hash(long_tuple)"
   ]
  },
  {
   "cell_type": "code",
   "execution_count": 260,
   "id": "45603f29",
   "metadata": {},
   "outputs": [
    {
     "data": {
      "text/plain": [
       "-2385963230871902647"
      ]
     },
     "execution_count": 260,
     "metadata": {},
     "output_type": "execute_result"
    }
   ],
   "source": [
    "hash(long_tuple_2)"
   ]
  },
  {
   "cell_type": "code",
   "execution_count": 261,
   "id": "8ed3f620",
   "metadata": {},
   "outputs": [
    {
     "data": {
      "text/plain": [
       "(529344067295497451, 1713578045245444163)"
      ]
     },
     "execution_count": 261,
     "metadata": {},
     "output_type": "execute_result"
    }
   ],
   "source": [
    "hash((1, 2, 3)), hash((1, 3, 2))\n",
    "\n"
   ]
  },
  {
   "cell_type": "code",
   "execution_count": 262,
   "id": "b9c0a4ac",
   "metadata": {},
   "outputs": [
    {
     "ename": "TypeError",
     "evalue": "unhashable type: 'list'",
     "output_type": "error",
     "traceback": [
      "\u001b[0;31m---------------------------------------------------------------------------\u001b[0m",
      "\u001b[0;31mTypeError\u001b[0m                                 Traceback (most recent call last)",
      "Cell \u001b[0;32mIn[262], line 1\u001b[0m\n\u001b[0;32m----> 1\u001b[0m \u001b[38;5;28;43mhash\u001b[39;49m\u001b[43m(\u001b[49m\u001b[43mlong_list\u001b[49m\u001b[43m)\u001b[49m\n",
      "\u001b[0;31mTypeError\u001b[0m: unhashable type: 'list'"
     ]
    }
   ],
   "source": [
    "hash(long_list)"
   ]
  },
  {
   "cell_type": "code",
   "execution_count": 263,
   "id": "de290c2d",
   "metadata": {},
   "outputs": [],
   "source": [
    "x = long_tuple"
   ]
  },
  {
   "cell_type": "code",
   "execution_count": 264,
   "id": "efd4e610",
   "metadata": {},
   "outputs": [
    {
     "data": {
      "text/plain": [
       "tuple"
      ]
     },
     "execution_count": 264,
     "metadata": {},
     "output_type": "execute_result"
    }
   ],
   "source": [
    "type(x)"
   ]
  },
  {
   "cell_type": "code",
   "execution_count": 266,
   "id": "9192ef59",
   "metadata": {},
   "outputs": [
    {
     "data": {
      "text/plain": [
       "['__add__',\n",
       " '__class__',\n",
       " '__class_getitem__',\n",
       " '__contains__',\n",
       " '__delattr__',\n",
       " '__dir__',\n",
       " '__doc__',\n",
       " '__eq__',\n",
       " '__format__',\n",
       " '__ge__',\n",
       " '__getattribute__',\n",
       " '__getitem__',\n",
       " '__getnewargs__',\n",
       " '__gt__',\n",
       " '__hash__',\n",
       " '__init__',\n",
       " '__init_subclass__',\n",
       " '__iter__',\n",
       " '__le__',\n",
       " '__len__',\n",
       " '__lt__',\n",
       " '__mul__',\n",
       " '__ne__',\n",
       " '__new__',\n",
       " '__reduce__',\n",
       " '__reduce_ex__',\n",
       " '__repr__',\n",
       " '__rmul__',\n",
       " '__setattr__',\n",
       " '__sizeof__',\n",
       " '__str__',\n",
       " '__subclasshook__',\n",
       " 'count',\n",
       " 'index']"
      ]
     },
     "execution_count": 266,
     "metadata": {},
     "output_type": "execute_result"
    }
   ],
   "source": [
    "dir(x)"
   ]
  },
  {
   "cell_type": "code",
   "execution_count": null,
   "id": "d0812716",
   "metadata": {},
   "outputs": [],
   "source": []
  },
  {
   "cell_type": "code",
   "execution_count": 268,
   "id": "04d918d4",
   "metadata": {},
   "outputs": [
    {
     "data": {
      "text/plain": [
       "1"
      ]
     },
     "execution_count": 268,
     "metadata": {},
     "output_type": "execute_result"
    }
   ],
   "source": [
    "x.index(1)"
   ]
  },
  {
   "cell_type": "code",
   "execution_count": 269,
   "id": "d13c95da",
   "metadata": {},
   "outputs": [
    {
     "data": {
      "text/plain": [
       "(0, 1, 2, 3, 4, 5, 6, 7, 8, 9)"
      ]
     },
     "execution_count": 269,
     "metadata": {},
     "output_type": "execute_result"
    }
   ],
   "source": [
    "x[:10]"
   ]
  },
  {
   "cell_type": "code",
   "execution_count": 270,
   "id": "03caf6da",
   "metadata": {},
   "outputs": [
    {
     "data": {
      "text/plain": [
       "4"
      ]
     },
     "execution_count": 270,
     "metadata": {},
     "output_type": "execute_result"
    }
   ],
   "source": [
    "(1, 1, 1, 1, 2, 2).count(1)"
   ]
  },
  {
   "cell_type": "code",
   "execution_count": null,
   "id": "93c1e4da",
   "metadata": {},
   "outputs": [],
   "source": [
    "y = (1, 1, 1, 1, 2, 2)\n",
    "y.count(1)"
   ]
  },
  {
   "cell_type": "code",
   "execution_count": 271,
   "id": "6885f5f5",
   "metadata": {},
   "outputs": [
    {
     "data": {
      "text/plain": [
       "4"
      ]
     },
     "execution_count": 271,
     "metadata": {},
     "output_type": "execute_result"
    }
   ],
   "source": [
    "(1, 1, 1, 1, 2, 2).index(2)"
   ]
  },
  {
   "cell_type": "code",
   "execution_count": 273,
   "id": "7210d985",
   "metadata": {},
   "outputs": [
    {
     "name": "stdout",
     "output_type": "stream",
     "text": [
      "Help on built-in function index:\n",
      "\n",
      "index(value, start=0, stop=9223372036854775807, /) method of builtins.tuple instance\n",
      "    Return first index of value.\n",
      "    \n",
      "    Raises ValueError if the value is not present.\n",
      "\n"
     ]
    }
   ],
   "source": [
    "help((1, 1, 1, 1, 2, 2).index)"
   ]
  },
  {
   "cell_type": "code",
   "execution_count": 274,
   "id": "28a5a468",
   "metadata": {},
   "outputs": [
    {
     "data": {
      "text/plain": [
       "['__add__',\n",
       " '__class__',\n",
       " '__class_getitem__',\n",
       " '__contains__',\n",
       " '__delattr__',\n",
       " '__delitem__',\n",
       " '__dir__',\n",
       " '__doc__',\n",
       " '__eq__',\n",
       " '__format__',\n",
       " '__ge__',\n",
       " '__getattribute__',\n",
       " '__getitem__',\n",
       " '__gt__',\n",
       " '__hash__',\n",
       " '__iadd__',\n",
       " '__imul__',\n",
       " '__init__',\n",
       " '__init_subclass__',\n",
       " '__iter__',\n",
       " '__le__',\n",
       " '__len__',\n",
       " '__lt__',\n",
       " '__mul__',\n",
       " '__ne__',\n",
       " '__new__',\n",
       " '__reduce__',\n",
       " '__reduce_ex__',\n",
       " '__repr__',\n",
       " '__reversed__',\n",
       " '__rmul__',\n",
       " '__setattr__',\n",
       " '__setitem__',\n",
       " '__sizeof__',\n",
       " '__str__',\n",
       " '__subclasshook__',\n",
       " 'append',\n",
       " 'clear',\n",
       " 'copy',\n",
       " 'count',\n",
       " 'extend',\n",
       " 'index',\n",
       " 'insert',\n",
       " 'pop',\n",
       " 'remove',\n",
       " 'reverse',\n",
       " 'sort']"
      ]
     },
     "execution_count": 274,
     "metadata": {},
     "output_type": "execute_result"
    }
   ],
   "source": [
    "dir(long_list)"
   ]
  },
  {
   "cell_type": "code",
   "execution_count": 277,
   "id": "b7ae6bb5",
   "metadata": {},
   "outputs": [
    {
     "name": "stdout",
     "output_type": "stream",
     "text": [
      "[1, 2, 3, 4]\n"
     ]
    }
   ],
   "source": [
    "lista = [1, 2, 3]\n",
    "lista.append(4)\n",
    "print(lista)"
   ]
  },
  {
   "cell_type": "code",
   "execution_count": 278,
   "id": "d983a086",
   "metadata": {},
   "outputs": [
    {
     "data": {
      "text/plain": [
       "4"
      ]
     },
     "execution_count": 278,
     "metadata": {},
     "output_type": "execute_result"
    }
   ],
   "source": [
    "lista.pop()"
   ]
  },
  {
   "cell_type": "code",
   "execution_count": 280,
   "id": "09a725ea",
   "metadata": {},
   "outputs": [
    {
     "data": {
      "text/plain": [
       "1"
      ]
     },
     "execution_count": 280,
     "metadata": {},
     "output_type": "execute_result"
    }
   ],
   "source": [
    "lista.pop(0)\n",
    "\n",
    "#0  1  2\n",
    "[1, 2, 3] \n",
    "[2, 3]\n",
    "\n",
    "\n",
    "lista.pop()\n",
    "[1, 2, 3]\n",
    "[1, 2]\n",
    "\n",
    "\n"
   ]
  },
  {
   "cell_type": "code",
   "execution_count": 282,
   "id": "daebf043",
   "metadata": {},
   "outputs": [
    {
     "data": {
      "text/plain": [
       "[1, 'a', 2]"
      ]
     },
     "execution_count": 282,
     "metadata": {},
     "output_type": "execute_result"
    }
   ],
   "source": [
    "lista = [1, \"a\", \"c\", 2]\n",
    "lista.remove(\"c\")\n",
    "lista"
   ]
  },
  {
   "cell_type": "code",
   "execution_count": 283,
   "id": "1c684fb1",
   "metadata": {},
   "outputs": [
    {
     "data": {
      "text/plain": [
       "5"
      ]
     },
     "execution_count": 283,
     "metadata": {},
     "output_type": "execute_result"
    }
   ],
   "source": [
    "lista = [1, 2, 3, [4, 5, 6]]\n",
    "\n",
    "lista[3][1]"
   ]
  },
  {
   "cell_type": "code",
   "execution_count": 284,
   "id": "83016c67",
   "metadata": {},
   "outputs": [
    {
     "data": {
      "text/plain": [
       "5"
      ]
     },
     "execution_count": 284,
     "metadata": {},
     "output_type": "execute_result"
    }
   ],
   "source": [
    "tupla = (1, 2, 3, [4, 5, 6])\n",
    "\n",
    "tupla[3][1]"
   ]
  },
  {
   "cell_type": "code",
   "execution_count": 285,
   "id": "702829c5",
   "metadata": {},
   "outputs": [
    {
     "ename": "TypeError",
     "evalue": "unhashable type: 'list'",
     "output_type": "error",
     "traceback": [
      "\u001b[0;31m---------------------------------------------------------------------------\u001b[0m",
      "\u001b[0;31mTypeError\u001b[0m                                 Traceback (most recent call last)",
      "Cell \u001b[0;32mIn[285], line 1\u001b[0m\n\u001b[0;32m----> 1\u001b[0m \u001b[38;5;28;43mhash\u001b[39;49m\u001b[43m(\u001b[49m\u001b[43mtupla\u001b[49m\u001b[43m)\u001b[49m\n",
      "\u001b[0;31mTypeError\u001b[0m: unhashable type: 'list'"
     ]
    }
   ],
   "source": [
    "hash(tupla)"
   ]
  },
  {
   "cell_type": "code",
   "execution_count": 281,
   "id": "661db09f",
   "metadata": {},
   "outputs": [
    {
     "data": {
      "text/plain": [
       "[2, 3]"
      ]
     },
     "execution_count": 281,
     "metadata": {},
     "output_type": "execute_result"
    }
   ],
   "source": [
    "lista"
   ]
  },
  {
   "cell_type": "code",
   "execution_count": null,
   "id": "060c2183",
   "metadata": {},
   "outputs": [],
   "source": [
    "# kolejka: first in first out\n",
    "\n",
    "1, 2, 3, 4\n",
    "\n",
    "# stos Last in first out\n",
    "\n",
    "4\n",
    "3\n",
    "2\n",
    "1\n",
    "\n"
   ]
  },
  {
   "cell_type": "markdown",
   "id": "29e6070d",
   "metadata": {},
   "source": [
    "### indexing and slicing"
   ]
  },
  {
   "cell_type": "code",
   "execution_count": 287,
   "id": "1cf2f01c",
   "metadata": {},
   "outputs": [
    {
     "data": {
      "text/plain": [
       "'la m'"
      ]
     },
     "execution_count": 287,
     "metadata": {},
     "output_type": "execute_result"
    }
   ],
   "source": [
    "#        0123456789\n",
    "napis = \"Ala ma kota\"\n",
    "napis[1:5]"
   ]
  },
  {
   "cell_type": "code",
   "execution_count": 288,
   "id": "16c3fa38",
   "metadata": {},
   "outputs": [
    {
     "data": {
      "text/plain": [
       "'l akt'"
      ]
     },
     "execution_count": 288,
     "metadata": {},
     "output_type": "execute_result"
    }
   ],
   "source": [
    "napis[1:10:2]"
   ]
  },
  {
   "cell_type": "code",
   "execution_count": 289,
   "id": "46e1de30",
   "metadata": {},
   "outputs": [
    {
     "data": {
      "text/plain": [
       "'Aam oa'"
      ]
     },
     "execution_count": 289,
     "metadata": {},
     "output_type": "execute_result"
    }
   ],
   "source": [
    "napis[::2]"
   ]
  },
  {
   "cell_type": "code",
   "execution_count": 291,
   "id": "aa848896",
   "metadata": {},
   "outputs": [
    {
     "data": {
      "text/plain": [
       "' kot'"
      ]
     },
     "execution_count": 291,
     "metadata": {},
     "output_type": "execute_result"
    }
   ],
   "source": [
    "napis[-5:-1]"
   ]
  },
  {
   "cell_type": "code",
   "execution_count": 292,
   "id": "3bec704e",
   "metadata": {},
   "outputs": [
    {
     "data": {
      "text/plain": [
       "'atok am alA'"
      ]
     },
     "execution_count": 292,
     "metadata": {},
     "output_type": "execute_result"
    }
   ],
   "source": [
    "napis[::-1]"
   ]
  },
  {
   "cell_type": "code",
   "execution_count": 293,
   "id": "4831caca",
   "metadata": {},
   "outputs": [
    {
     "data": {
      "text/plain": [
       "([4, 5, 6], 3, 2, 1)"
      ]
     },
     "execution_count": 293,
     "metadata": {},
     "output_type": "execute_result"
    }
   ],
   "source": [
    "tupla[::-1]"
   ]
  },
  {
   "cell_type": "markdown",
   "id": "c992e139",
   "metadata": {},
   "source": [
    "###    the len() function\n",
    "    "
   ]
  },
  {
   "cell_type": "code",
   "execution_count": 295,
   "id": "7109d8fe",
   "metadata": {},
   "outputs": [
    {
     "data": {
      "text/plain": [
       "11"
      ]
     },
     "execution_count": 295,
     "metadata": {},
     "output_type": "execute_result"
    }
   ],
   "source": [
    "len(napis)"
   ]
  },
  {
   "cell_type": "code",
   "execution_count": 296,
   "id": "ad0bd5c8",
   "metadata": {},
   "outputs": [],
   "source": [
    "len?"
   ]
  },
  {
   "cell_type": "markdown",
   "id": "9d94d0ad",
   "metadata": {},
   "source": [
    "### list methods: append(), insert(), index(), etc."
   ]
  },
  {
   "cell_type": "code",
   "execution_count": 300,
   "id": "419068d9",
   "metadata": {},
   "outputs": [
    {
     "data": {
      "text/plain": [
       "[4, 5, 6, 1, 2, 3]"
      ]
     },
     "execution_count": 300,
     "metadata": {},
     "output_type": "execute_result"
    }
   ],
   "source": [
    "l1 = [1, 2, 3]\n",
    "l2 = [4, 5 ,6]\n",
    "\n",
    "l2.extend(l1)\n",
    "l2"
   ]
  },
  {
   "cell_type": "code",
   "execution_count": 301,
   "id": "0c1c8376",
   "metadata": {},
   "outputs": [
    {
     "data": {
      "text/plain": [
       "[4, 5, 6, 1, 2, 3, '1', '2', '3']"
      ]
     },
     "execution_count": 301,
     "metadata": {},
     "output_type": "execute_result"
    }
   ],
   "source": [
    "l2.extend(\"123\")\n",
    "l2"
   ]
  },
  {
   "cell_type": "markdown",
   "id": "49064437",
   "metadata": {},
   "source": [
    "### functions: len(), sorted()"
   ]
  },
  {
   "cell_type": "code",
   "execution_count": 303,
   "id": "5257c5d0",
   "metadata": {},
   "outputs": [],
   "source": [
    "sorted?"
   ]
  },
  {
   "cell_type": "code",
   "execution_count": 305,
   "id": "9b55dc02",
   "metadata": {},
   "outputs": [
    {
     "data": {
      "text/plain": [
       "['c', 'b', 'a']"
      ]
     },
     "execution_count": 305,
     "metadata": {},
     "output_type": "execute_result"
    }
   ],
   "source": [
    "sorted(\"cab\", reverse=True)"
   ]
  },
  {
   "cell_type": "code",
   "execution_count": 308,
   "id": "5e968345",
   "metadata": {},
   "outputs": [],
   "source": [
    "l2 = [4, 5, 6, 1, 2, 3]"
   ]
  },
  {
   "cell_type": "code",
   "execution_count": 309,
   "id": "1195fc80",
   "metadata": {},
   "outputs": [
    {
     "data": {
      "text/plain": [
       "[1, 2, 3, 4, 5, 6]"
      ]
     },
     "execution_count": 309,
     "metadata": {},
     "output_type": "execute_result"
    }
   ],
   "source": [
    "sorted(l2)"
   ]
  },
  {
   "cell_type": "code",
   "execution_count": 311,
   "id": "e68cfdf9",
   "metadata": {},
   "outputs": [],
   "source": [
    "l2.sort()"
   ]
  },
  {
   "cell_type": "code",
   "execution_count": 312,
   "id": "c39c0b7c",
   "metadata": {},
   "outputs": [
    {
     "data": {
      "text/plain": [
       "[1, 2, 3, 4, 5, 6]"
      ]
     },
     "execution_count": 312,
     "metadata": {},
     "output_type": "execute_result"
    }
   ],
   "source": [
    "l2"
   ]
  },
  {
   "cell_type": "markdown",
   "id": "1b2a3110",
   "metadata": {},
   "source": [
    "### the del instruction    "
   ]
  },
  {
   "cell_type": "code",
   "execution_count": 313,
   "id": "f2bcd17f",
   "metadata": {},
   "outputs": [],
   "source": [
    "a = 1"
   ]
  },
  {
   "cell_type": "code",
   "execution_count": 314,
   "id": "035eec9d",
   "metadata": {},
   "outputs": [],
   "source": [
    "del a"
   ]
  },
  {
   "cell_type": "code",
   "execution_count": 315,
   "id": "0cba130b",
   "metadata": {},
   "outputs": [
    {
     "ename": "NameError",
     "evalue": "name 'a' is not defined",
     "output_type": "error",
     "traceback": [
      "\u001b[0;31m---------------------------------------------------------------------------\u001b[0m",
      "\u001b[0;31mNameError\u001b[0m                                 Traceback (most recent call last)",
      "Cell \u001b[0;32mIn[315], line 1\u001b[0m\n\u001b[0;32m----> 1\u001b[0m \u001b[43ma\u001b[49m\n",
      "\u001b[0;31mNameError\u001b[0m: name 'a' is not defined"
     ]
    }
   ],
   "source": [
    "a"
   ]
  },
  {
   "cell_type": "code",
   "execution_count": 317,
   "id": "b4883818",
   "metadata": {},
   "outputs": [],
   "source": [
    "lista = [1, 2, 3]\n",
    "\n",
    "del lista[1]"
   ]
  },
  {
   "cell_type": "code",
   "execution_count": 318,
   "id": "c90bc790",
   "metadata": {},
   "outputs": [
    {
     "data": {
      "text/plain": [
       "[1, 3]"
      ]
     },
     "execution_count": 318,
     "metadata": {},
     "output_type": "execute_result"
    }
   ],
   "source": [
    "lista"
   ]
  },
  {
   "cell_type": "code",
   "execution_count": 322,
   "id": "88c43493",
   "metadata": {},
   "outputs": [
    {
     "name": "stdout",
     "output_type": "stream",
     "text": [
      "[5, 5] [1, 2, 3]\n"
     ]
    }
   ],
   "source": [
    "x = [1, 2, 3]\n",
    "\n",
    "lista = [5, 5, x]\n",
    "\n",
    "del lista[2]\n",
    "\n",
    "print(lista, x)"
   ]
  },
  {
   "cell_type": "markdown",
   "id": "cc36e30e",
   "metadata": {},
   "source": [
    "### iterating through lists with the for loop"
   ]
  },
  {
   "cell_type": "code",
   "execution_count": null,
   "id": "ed42a2a2",
   "metadata": {},
   "outputs": [],
   "source": []
  },
  {
   "cell_type": "markdown",
   "id": "42a78bbf",
   "metadata": {},
   "source": [
    "### initializing loops"
   ]
  },
  {
   "cell_type": "code",
   "execution_count": 326,
   "id": "cba3405b",
   "metadata": {},
   "outputs": [
    {
     "name": "stdout",
     "output_type": "stream",
     "text": [
      "xx\n"
     ]
    }
   ],
   "source": [
    "while True:\n",
    "    print(\"xx\")\n",
    "    break"
   ]
  },
  {
   "cell_type": "markdown",
   "id": "55fe7d29",
   "metadata": {},
   "source": [
    "### the in and not in operators\n",
    "    "
   ]
  },
  {
   "cell_type": "code",
   "execution_count": 329,
   "id": "4e828f05",
   "metadata": {},
   "outputs": [
    {
     "data": {
      "text/plain": [
       "False"
      ]
     },
     "execution_count": 329,
     "metadata": {},
     "output_type": "execute_result"
    }
   ],
   "source": [
    "\"a\" not in \"ala ma kota\""
   ]
  },
  {
   "cell_type": "markdown",
   "id": "ff8409ea",
   "metadata": {},
   "source": [
    "### list comprehensions\n",
    "    "
   ]
  },
  {
   "cell_type": "code",
   "execution_count": 330,
   "id": "e0448af1",
   "metadata": {},
   "outputs": [
    {
     "data": {
      "text/plain": [
       "[1, 8, 27, 64]"
      ]
     },
     "execution_count": 330,
     "metadata": {},
     "output_type": "execute_result"
    }
   ],
   "source": [
    "lista = [1, 2, 3, 4]\n",
    "\n",
    "szesciany = []\n",
    "\n",
    "for liczba in lista:\n",
    "    szesciany.append(liczba ** 3)\n",
    "    \n",
    "szesciany\n",
    "\n",
    "\n"
   ]
  },
  {
   "cell_type": "code",
   "execution_count": 332,
   "id": "776a9643",
   "metadata": {},
   "outputs": [
    {
     "data": {
      "text/plain": [
       "[1, 8, 27, 64]"
      ]
     },
     "execution_count": 332,
     "metadata": {},
     "output_type": "execute_result"
    }
   ],
   "source": [
    "[liczba ** 3 for liczba in lista]"
   ]
  },
  {
   "cell_type": "code",
   "execution_count": 333,
   "id": "9c215f2e",
   "metadata": {},
   "outputs": [
    {
     "data": {
      "text/plain": [
       "[1, 27]"
      ]
     },
     "execution_count": 333,
     "metadata": {},
     "output_type": "execute_result"
    }
   ],
   "source": [
    "lista = [1, 2, 3, 4]\n",
    "\n",
    "szesciany = []\n",
    "\n",
    "for liczba in lista:\n",
    "    if liczba % 2 == 1:\n",
    "        szesciany.append(liczba ** 3)\n",
    "    \n",
    "szesciany\n"
   ]
  },
  {
   "cell_type": "code",
   "execution_count": 334,
   "id": "96567f1e",
   "metadata": {},
   "outputs": [
    {
     "data": {
      "text/plain": [
       "[1, 27]"
      ]
     },
     "execution_count": 334,
     "metadata": {},
     "output_type": "execute_result"
    }
   ],
   "source": [
    "[liczba ** 3 for liczba in lista if liczba % 2 == 1]"
   ]
  },
  {
   "cell_type": "code",
   "execution_count": 335,
   "id": "933b9822",
   "metadata": {},
   "outputs": [
    {
     "data": {
      "text/plain": [
       "[[1, 2, 3, 4, 5, 6, 7, 8, 9, 10],\n",
       " [2, 4, 6, 8, 10, 12, 14, 16, 18, 20],\n",
       " [3, 6, 9, 12, 15, 18, 21, 24, 27, 30],\n",
       " [4, 8, 12, 16, 20, 24, 28, 32, 36, 40],\n",
       " [5, 10, 15, 20, 25, 30, 35, 40, 45, 50],\n",
       " [6, 12, 18, 24, 30, 36, 42, 48, 54, 60],\n",
       " [7, 14, 21, 28, 35, 42, 49, 56, 63, 70],\n",
       " [8, 16, 24, 32, 40, 48, 56, 64, 72, 80],\n",
       " [9, 18, 27, 36, 45, 54, 63, 72, 81, 90],\n",
       " [10, 20, 30, 40, 50, 60, 70, 80, 90, 100]]"
      ]
     },
     "execution_count": 335,
     "metadata": {},
     "output_type": "execute_result"
    }
   ],
   "source": [
    "[[i * j for i in range(1, 11)] for j in range(1, 11)]"
   ]
  },
  {
   "cell_type": "code",
   "execution_count": 340,
   "id": "1e18afb8",
   "metadata": {},
   "outputs": [
    {
     "data": {
      "text/plain": [
       "{0, 1, 8, 27, 64, 125, 216, 343, 512, 729}"
      ]
     },
     "execution_count": 340,
     "metadata": {},
     "output_type": "execute_result"
    }
   ],
   "source": [
    "{i ** 3 for i in range(10)}"
   ]
  },
  {
   "cell_type": "code",
   "execution_count": 341,
   "id": "f5d11347",
   "metadata": {},
   "outputs": [
    {
     "data": {
      "text/plain": [
       "<generator object <genexpr> at 0x114650660>"
      ]
     },
     "execution_count": 341,
     "metadata": {},
     "output_type": "execute_result"
    }
   ],
   "source": [
    "(i ** 3 for i in range(10))"
   ]
  },
  {
   "cell_type": "markdown",
   "id": "1aee7d99",
   "metadata": {},
   "source": [
    "### copying and cloning (shallow and deep copy)"
   ]
  },
  {
   "cell_type": "code",
   "execution_count": 342,
   "id": "ec9f5054",
   "metadata": {},
   "outputs": [],
   "source": [
    "a = [1, 2, 3]\n",
    "b = a"
   ]
  },
  {
   "cell_type": "code",
   "execution_count": 344,
   "id": "cf8ecbda",
   "metadata": {},
   "outputs": [
    {
     "data": {
      "text/plain": [
       "[1, 2, 3, 4]"
      ]
     },
     "execution_count": 344,
     "metadata": {},
     "output_type": "execute_result"
    }
   ],
   "source": [
    "a.append(4)\n",
    "b"
   ]
  },
  {
   "cell_type": "code",
   "execution_count": 345,
   "id": "bcc22c97",
   "metadata": {},
   "outputs": [],
   "source": [
    "a = [1, 2, 3]\n",
    "b = a.copy()"
   ]
  },
  {
   "cell_type": "code",
   "execution_count": 346,
   "id": "f5a2d604",
   "metadata": {},
   "outputs": [
    {
     "data": {
      "text/plain": [
       "[1, 2, 3]"
      ]
     },
     "execution_count": 346,
     "metadata": {},
     "output_type": "execute_result"
    }
   ],
   "source": [
    "a.append(4)\n",
    "b"
   ]
  },
  {
   "cell_type": "code",
   "execution_count": 347,
   "id": "630f83a2",
   "metadata": {},
   "outputs": [],
   "source": [
    "a = [1, 2, 3]\n",
    "b = a[:]"
   ]
  },
  {
   "cell_type": "code",
   "execution_count": 348,
   "id": "1ea653a2",
   "metadata": {},
   "outputs": [
    {
     "data": {
      "text/plain": [
       "[1, 2, 3]"
      ]
     },
     "execution_count": 348,
     "metadata": {},
     "output_type": "execute_result"
    }
   ],
   "source": [
    "a.append(4)\n",
    "b"
   ]
  },
  {
   "cell_type": "code",
   "execution_count": 350,
   "id": "81d1c801",
   "metadata": {},
   "outputs": [],
   "source": [
    "a = [1, 2, 3]\n",
    "b = [4, 5, a]\n",
    "c = b"
   ]
  },
  {
   "cell_type": "code",
   "execution_count": 351,
   "id": "f6c18360",
   "metadata": {},
   "outputs": [],
   "source": [
    "a.append(4)"
   ]
  },
  {
   "cell_type": "code",
   "execution_count": 352,
   "id": "9d612067",
   "metadata": {},
   "outputs": [
    {
     "data": {
      "text/plain": [
       "[4, 5, [1, 2, 3, 4]]"
      ]
     },
     "execution_count": 352,
     "metadata": {},
     "output_type": "execute_result"
    }
   ],
   "source": [
    "c"
   ]
  },
  {
   "cell_type": "code",
   "execution_count": 353,
   "id": "fc08b84e",
   "metadata": {},
   "outputs": [],
   "source": [
    "a = [1, 2, 3]\n",
    "b = [4, 5, a]\n",
    "c = b.copy()"
   ]
  },
  {
   "cell_type": "code",
   "execution_count": 354,
   "id": "755b1998",
   "metadata": {},
   "outputs": [
    {
     "data": {
      "text/plain": [
       "[4, 5, [1, 2, 3, 4]]"
      ]
     },
     "execution_count": 354,
     "metadata": {},
     "output_type": "execute_result"
    }
   ],
   "source": [
    "a.append(4)\n",
    "c"
   ]
  },
  {
   "cell_type": "code",
   "execution_count": 355,
   "id": "56ea8caa",
   "metadata": {},
   "outputs": [
    {
     "data": {
      "text/plain": [
       "[4, 5, [1, 2, 3, 4]]"
      ]
     },
     "execution_count": 355,
     "metadata": {},
     "output_type": "execute_result"
    }
   ],
   "source": [
    "a = [1, 2, 3]\n",
    "b = [4, 5, a]\n",
    "c = b[:]\n",
    "\n",
    "a.append(4)\n",
    "c"
   ]
  },
  {
   "cell_type": "code",
   "execution_count": 357,
   "id": "3011e59c",
   "metadata": {},
   "outputs": [],
   "source": [
    "import copy"
   ]
  },
  {
   "cell_type": "code",
   "execution_count": 358,
   "id": "2817576c",
   "metadata": {},
   "outputs": [
    {
     "data": {
      "text/plain": [
       "[4, 5, [1, 2, 3]]"
      ]
     },
     "execution_count": 358,
     "metadata": {},
     "output_type": "execute_result"
    }
   ],
   "source": [
    "a = [1, 2, 3]\n",
    "b = [4, 5, a]\n",
    "c = copy.deepcopy(b)\n",
    "\n",
    "a.append(4)\n",
    "c"
   ]
  },
  {
   "cell_type": "markdown",
   "id": "1fb0a398",
   "metadata": {},
   "source": [
    "### lists in lists: matrices and cubes"
   ]
  },
  {
   "cell_type": "code",
   "execution_count": 360,
   "id": "581db11e",
   "metadata": {},
   "outputs": [],
   "source": [
    "x = [1, [2, [3, [4, ]]]]"
   ]
  },
  {
   "cell_type": "code",
   "execution_count": 362,
   "id": "2605b203",
   "metadata": {},
   "outputs": [
    {
     "data": {
      "text/plain": [
       "4"
      ]
     },
     "execution_count": 362,
     "metadata": {},
     "output_type": "execute_result"
    }
   ],
   "source": [
    "x[1][1][1][0]"
   ]
  },
  {
   "cell_type": "code",
   "execution_count": null,
   "id": "633d2fe8",
   "metadata": {},
   "outputs": [],
   "source": []
  },
  {
   "cell_type": "code",
   "execution_count": null,
   "id": "5c22fac9",
   "metadata": {},
   "outputs": [],
   "source": []
  },
  {
   "cell_type": "code",
   "execution_count": null,
   "id": "588e4e0f",
   "metadata": {},
   "outputs": [],
   "source": []
  },
  {
   "cell_type": "markdown",
   "id": "eb894ab3",
   "metadata": {},
   "source": [
    "## PCEP-30-02 3.2 – Collect and process data using tuples\n",
    "\n",
    "### tuples: indexing, slicing, building, immutability"
   ]
  },
  {
   "cell_type": "code",
   "execution_count": 363,
   "id": "0228b2be",
   "metadata": {},
   "outputs": [
    {
     "data": {
      "text/plain": [
       "(1, 2, 3, 4)"
      ]
     },
     "execution_count": 363,
     "metadata": {},
     "output_type": "execute_result"
    }
   ],
   "source": [
    "(1, 2) + (3, 4)"
   ]
  },
  {
   "cell_type": "markdown",
   "id": "411d5b8d",
   "metadata": {},
   "source": [
    "### tuples vs. lists: similarities and differences "
   ]
  },
  {
   "cell_type": "markdown",
   "id": "5b7cfe12",
   "metadata": {},
   "source": [
    "podobieństwa:\n",
    "\n",
    "- kolekcje z porządkiem, wyrażonym w indeksach\n",
    "- index, count\n",
    "- slicing, wybieranie, .. \n",
    "\n",
    "różnice:\n",
    "- tupla - niemutowalna\n",
    "- lista - mutowalna\n",
    "- lista ma dodatkowe metody (dir(list))\n",
    "    "
   ]
  },
  {
   "cell_type": "code",
   "execution_count": null,
   "id": "983787fe",
   "metadata": {},
   "outputs": [],
   "source": []
  },
  {
   "cell_type": "code",
   "execution_count": null,
   "id": "493703d1",
   "metadata": {},
   "outputs": [],
   "source": []
  },
  {
   "cell_type": "markdown",
   "id": "fc0f8c40",
   "metadata": {},
   "source": [
    "### lists inside tuples and tuples inside lists"
   ]
  },
  {
   "cell_type": "code",
   "execution_count": null,
   "id": "e9571a22",
   "metadata": {},
   "outputs": [],
   "source": [
    "polozenia = [(1, 2, 3), (2, 3, 4), (5, 6, 7)]"
   ]
  },
  {
   "cell_type": "markdown",
   "id": "9165096e",
   "metadata": {},
   "source": [
    "## PCEP-30-02 3.3 Collect and process data using dictionaries\n",
    "\n",
    "### dictionaries: building, indexing, adding and removing keys"
   ]
  },
  {
   "cell_type": "code",
   "execution_count": 365,
   "id": "71361989",
   "metadata": {},
   "outputs": [
    {
     "data": {
      "text/plain": [
       "{'klucz': 'wartosc', 1: 'inna wartosc'}"
      ]
     },
     "execution_count": 365,
     "metadata": {},
     "output_type": "execute_result"
    }
   ],
   "source": [
    "{\n",
    "    \"klucz\": \"wartosc\",\n",
    "    1: \"inna wartosc\" \n",
    "}"
   ]
  },
  {
   "cell_type": "code",
   "execution_count": 367,
   "id": "ed6c7fb6",
   "metadata": {},
   "outputs": [
    {
     "data": {
      "text/plain": [
       "({}, {})"
      ]
     },
     "execution_count": 367,
     "metadata": {},
     "output_type": "execute_result"
    }
   ],
   "source": [
    "dict(), {}"
   ]
  },
  {
   "cell_type": "code",
   "execution_count": 368,
   "id": "bcc2ea09",
   "metadata": {},
   "outputs": [],
   "source": [
    "slownik = {}\n",
    "slownik2 = dict()"
   ]
  },
  {
   "cell_type": "code",
   "execution_count": 369,
   "id": "6f51ed1e",
   "metadata": {},
   "outputs": [
    {
     "data": {
      "text/plain": [
       "True"
      ]
     },
     "execution_count": 369,
     "metadata": {},
     "output_type": "execute_result"
    }
   ],
   "source": [
    "slownik == slownik2"
   ]
  },
  {
   "cell_type": "code",
   "execution_count": 370,
   "id": "5dafd66c",
   "metadata": {},
   "outputs": [],
   "source": [
    "slownik[\"klucz\"] = \"wartosc\""
   ]
  },
  {
   "cell_type": "code",
   "execution_count": 371,
   "id": "b32bbb9d",
   "metadata": {},
   "outputs": [
    {
     "data": {
      "text/plain": [
       "{'klucz': 'wartosc'}"
      ]
     },
     "execution_count": 371,
     "metadata": {},
     "output_type": "execute_result"
    }
   ],
   "source": [
    "slownik"
   ]
  },
  {
   "cell_type": "code",
   "execution_count": 373,
   "id": "11150350",
   "metadata": {},
   "outputs": [
    {
     "data": {
      "text/plain": [
       "{'klucz': 'wartosc', 'klucz2': 2}"
      ]
     },
     "execution_count": 373,
     "metadata": {},
     "output_type": "execute_result"
    }
   ],
   "source": [
    "slownik[\"klucz2\"] = 2\n",
    "slownik"
   ]
  },
  {
   "cell_type": "code",
   "execution_count": 375,
   "id": "a35c5592",
   "metadata": {},
   "outputs": [
    {
     "ename": "SyntaxError",
     "evalue": "expression cannot contain assignment, perhaps you meant \"==\"? (33347996.py, line 1)",
     "output_type": "error",
     "traceback": [
      "\u001b[0;36m  Cell \u001b[0;32mIn[375], line 1\u001b[0;36m\u001b[0m\n\u001b[0;31m    dict(imie=\"Rafał\", firma=\"ITmagination\", 1=\"a\")\u001b[0m\n\u001b[0m                                             ^\u001b[0m\n\u001b[0;31mSyntaxError\u001b[0m\u001b[0;31m:\u001b[0m expression cannot contain assignment, perhaps you meant \"==\"?\n"
     ]
    }
   ],
   "source": [
    "dict(imie=\"Rafał\", firma=\"ITmagination\")"
   ]
  },
  {
   "cell_type": "code",
   "execution_count": 376,
   "id": "12741735",
   "metadata": {},
   "outputs": [
    {
     "data": {
      "text/plain": [
       "2"
      ]
     },
     "execution_count": 376,
     "metadata": {},
     "output_type": "execute_result"
    }
   ],
   "source": [
    "slownik[\"klucz2\"]"
   ]
  },
  {
   "cell_type": "code",
   "execution_count": 377,
   "id": "8010730a",
   "metadata": {},
   "outputs": [
    {
     "ename": "KeyError",
     "evalue": "'klucz3'",
     "output_type": "error",
     "traceback": [
      "\u001b[0;31m---------------------------------------------------------------------------\u001b[0m",
      "\u001b[0;31mKeyError\u001b[0m                                  Traceback (most recent call last)",
      "Cell \u001b[0;32mIn[377], line 1\u001b[0m\n\u001b[0;32m----> 1\u001b[0m \u001b[43mslownik\u001b[49m\u001b[43m[\u001b[49m\u001b[38;5;124;43m\"\u001b[39;49m\u001b[38;5;124;43mklucz3\u001b[39;49m\u001b[38;5;124;43m\"\u001b[39;49m\u001b[43m]\u001b[49m\n",
      "\u001b[0;31mKeyError\u001b[0m: 'klucz3'"
     ]
    }
   ],
   "source": [
    "slownik[\"klucz3\"]"
   ]
  },
  {
   "cell_type": "code",
   "execution_count": 379,
   "id": "923a8ca0",
   "metadata": {},
   "outputs": [
    {
     "ename": "IndexError",
     "evalue": "list index out of range",
     "output_type": "error",
     "traceback": [
      "\u001b[0;31m---------------------------------------------------------------------------\u001b[0m",
      "\u001b[0;31mIndexError\u001b[0m                                Traceback (most recent call last)",
      "Cell \u001b[0;32mIn[379], line 1\u001b[0m\n\u001b[0;32m----> 1\u001b[0m \u001b[43mlista\u001b[49m\u001b[43m[\u001b[49m\u001b[38;5;241;43m10\u001b[39;49m\u001b[43m]\u001b[49m\n",
      "\u001b[0;31mIndexError\u001b[0m: list index out of range"
     ]
    }
   ],
   "source": [
    "lista[10]"
   ]
  },
  {
   "cell_type": "code",
   "execution_count": 381,
   "id": "4ac98258",
   "metadata": {},
   "outputs": [
    {
     "data": {
      "text/plain": [
       "'domyślna wartość'"
      ]
     },
     "execution_count": 381,
     "metadata": {},
     "output_type": "execute_result"
    }
   ],
   "source": [
    "slownik.get(\"klucz3\", \"domyślna wartość\")"
   ]
  },
  {
   "cell_type": "code",
   "execution_count": 382,
   "id": "42166d0f",
   "metadata": {},
   "outputs": [
    {
     "name": "stdout",
     "output_type": "stream",
     "text": [
      "Wartość domyślna\n"
     ]
    }
   ],
   "source": [
    "if \"klucz3\" in slownik:\n",
    "    print(slownik[\"klucz3\"])\n",
    "else:\n",
    "    print(\"Wartość domyślna\")\n",
    "    "
   ]
  },
  {
   "cell_type": "code",
   "execution_count": 384,
   "id": "266887c7",
   "metadata": {},
   "outputs": [
    {
     "name": "stdout",
     "output_type": "stream",
     "text": [
      "klucz wartosc\n",
      "klucz2 2\n"
     ]
    }
   ],
   "source": [
    "for klucz in slownik:\n",
    "    print(klucz, slownik[klucz])"
   ]
  },
  {
   "cell_type": "code",
   "execution_count": 385,
   "id": "69334257",
   "metadata": {},
   "outputs": [
    {
     "data": {
      "text/plain": [
       "dict_items([('klucz', 'wartosc'), ('klucz2', 2)])"
      ]
     },
     "execution_count": 385,
     "metadata": {},
     "output_type": "execute_result"
    }
   ],
   "source": [
    "slownik.items()"
   ]
  },
  {
   "cell_type": "code",
   "execution_count": 386,
   "id": "ed55f170",
   "metadata": {},
   "outputs": [
    {
     "name": "stdout",
     "output_type": "stream",
     "text": [
      "klucz wartosc\n",
      "klucz2 2\n"
     ]
    }
   ],
   "source": [
    "for klucz, wartosc in slownik.items():\n",
    "    print(klucz, wartosc)"
   ]
  },
  {
   "cell_type": "code",
   "execution_count": 388,
   "id": "ac2ef1c8",
   "metadata": {},
   "outputs": [],
   "source": [
    "(a, b) = (1, 2)"
   ]
  },
  {
   "cell_type": "code",
   "execution_count": 389,
   "id": "374843dd",
   "metadata": {},
   "outputs": [
    {
     "data": {
      "text/plain": [
       "2"
      ]
     },
     "execution_count": 389,
     "metadata": {},
     "output_type": "execute_result"
    }
   ],
   "source": [
    "b"
   ]
  },
  {
   "cell_type": "code",
   "execution_count": 390,
   "id": "6b89dacb",
   "metadata": {},
   "outputs": [
    {
     "data": {
      "text/plain": [
       "dict_keys(['klucz', 'klucz2'])"
      ]
     },
     "execution_count": 390,
     "metadata": {},
     "output_type": "execute_result"
    }
   ],
   "source": [
    "slownik.keys()"
   ]
  },
  {
   "cell_type": "code",
   "execution_count": 391,
   "id": "650a8914",
   "metadata": {},
   "outputs": [
    {
     "data": {
      "text/plain": [
       "dict_values(['wartosc', 2])"
      ]
     },
     "execution_count": 391,
     "metadata": {},
     "output_type": "execute_result"
    }
   ],
   "source": [
    "slownik.values()"
   ]
  },
  {
   "cell_type": "code",
   "execution_count": 392,
   "id": "412a4a3d",
   "metadata": {},
   "outputs": [
    {
     "data": {
      "text/plain": [
       "['__class__',\n",
       " '__class_getitem__',\n",
       " '__contains__',\n",
       " '__delattr__',\n",
       " '__delitem__',\n",
       " '__dir__',\n",
       " '__doc__',\n",
       " '__eq__',\n",
       " '__format__',\n",
       " '__ge__',\n",
       " '__getattribute__',\n",
       " '__getitem__',\n",
       " '__gt__',\n",
       " '__hash__',\n",
       " '__init__',\n",
       " '__init_subclass__',\n",
       " '__ior__',\n",
       " '__iter__',\n",
       " '__le__',\n",
       " '__len__',\n",
       " '__lt__',\n",
       " '__ne__',\n",
       " '__new__',\n",
       " '__or__',\n",
       " '__reduce__',\n",
       " '__reduce_ex__',\n",
       " '__repr__',\n",
       " '__reversed__',\n",
       " '__ror__',\n",
       " '__setattr__',\n",
       " '__setitem__',\n",
       " '__sizeof__',\n",
       " '__str__',\n",
       " '__subclasshook__',\n",
       " 'clear',\n",
       " 'copy',\n",
       " 'fromkeys',\n",
       " 'get',\n",
       " 'items',\n",
       " 'keys',\n",
       " 'pop',\n",
       " 'popitem',\n",
       " 'setdefault',\n",
       " 'update',\n",
       " 'values']"
      ]
     },
     "execution_count": 392,
     "metadata": {},
     "output_type": "execute_result"
    }
   ],
   "source": [
    "dir(slownik)"
   ]
  },
  {
   "cell_type": "code",
   "execution_count": 394,
   "id": "4926b082",
   "metadata": {},
   "outputs": [
    {
     "data": {
      "text/plain": [
       "2"
      ]
     },
     "execution_count": 394,
     "metadata": {},
     "output_type": "execute_result"
    }
   ],
   "source": [
    "slownik.pop(\"klucz2\")"
   ]
  },
  {
   "cell_type": "code",
   "execution_count": 395,
   "id": "cdefeb66",
   "metadata": {},
   "outputs": [
    {
     "data": {
      "text/plain": [
       "{'klucz': 'wartosc'}"
      ]
     },
     "execution_count": 395,
     "metadata": {},
     "output_type": "execute_result"
    }
   ],
   "source": [
    "slownik"
   ]
  },
  {
   "cell_type": "code",
   "execution_count": 396,
   "id": "86b51995",
   "metadata": {},
   "outputs": [
    {
     "data": {
      "text/plain": [
       "('klucz', 'wartosc')"
      ]
     },
     "execution_count": 396,
     "metadata": {},
     "output_type": "execute_result"
    }
   ],
   "source": [
    "slownik.popitem()"
   ]
  },
  {
   "cell_type": "code",
   "execution_count": 397,
   "id": "65cf05c8",
   "metadata": {},
   "outputs": [
    {
     "data": {
      "text/plain": [
       "{}"
      ]
     },
     "execution_count": 397,
     "metadata": {},
     "output_type": "execute_result"
    }
   ],
   "source": [
    "slownik"
   ]
  },
  {
   "cell_type": "code",
   "execution_count": 398,
   "id": "d3849962",
   "metadata": {},
   "outputs": [
    {
     "ename": "KeyError",
     "evalue": "'popitem(): dictionary is empty'",
     "output_type": "error",
     "traceback": [
      "\u001b[0;31m---------------------------------------------------------------------------\u001b[0m",
      "\u001b[0;31mKeyError\u001b[0m                                  Traceback (most recent call last)",
      "Cell \u001b[0;32mIn[398], line 1\u001b[0m\n\u001b[0;32m----> 1\u001b[0m \u001b[43mslownik\u001b[49m\u001b[38;5;241;43m.\u001b[39;49m\u001b[43mpopitem\u001b[49m\u001b[43m(\u001b[49m\u001b[43m)\u001b[49m\n",
      "\u001b[0;31mKeyError\u001b[0m: 'popitem(): dictionary is empty'"
     ]
    }
   ],
   "source": [
    "slownik.popitem()"
   ]
  },
  {
   "cell_type": "code",
   "execution_count": 404,
   "id": "300566a4",
   "metadata": {},
   "outputs": [],
   "source": [
    "slownik.update({\"a\":1, \"b\": 2, \"a\": 3})"
   ]
  },
  {
   "cell_type": "code",
   "execution_count": 405,
   "id": "50102094",
   "metadata": {},
   "outputs": [
    {
     "data": {
      "text/plain": [
       "{'a': 3, 'b': 2}"
      ]
     },
     "execution_count": 405,
     "metadata": {},
     "output_type": "execute_result"
    }
   ],
   "source": [
    "slownik"
   ]
  },
  {
   "cell_type": "markdown",
   "id": "0e5066c4",
   "metadata": {},
   "source": [
    "### iterating through dictionaries and their keys and values"
   ]
  },
  {
   "cell_type": "code",
   "execution_count": null,
   "id": "3416c722",
   "metadata": {},
   "outputs": [],
   "source": []
  },
  {
   "cell_type": "markdown",
   "id": "5116a86e",
   "metadata": {},
   "source": [
    "### checking the existence of keys"
   ]
  },
  {
   "cell_type": "code",
   "execution_count": 406,
   "id": "db985dca",
   "metadata": {},
   "outputs": [
    {
     "data": {
      "text/plain": [
       "False"
      ]
     },
     "execution_count": 406,
     "metadata": {},
     "output_type": "execute_result"
    }
   ],
   "source": [
    "\"k\" in slownik"
   ]
  },
  {
   "cell_type": "markdown",
   "id": "50eb3d46",
   "metadata": {},
   "source": [
    "### methods: keys(), items(), and values()    "
   ]
  },
  {
   "cell_type": "code",
   "execution_count": null,
   "id": "d16aece4",
   "metadata": {},
   "outputs": [],
   "source": []
  },
  {
   "cell_type": "code",
   "execution_count": 407,
   "id": "28e83e93",
   "metadata": {},
   "outputs": [
    {
     "data": {
      "text/plain": [
       "{'a': 4, 'l': 1, ' ': 2, 'm': 1, 'k': 1, 'o': 1, 't': 1}"
      ]
     },
     "execution_count": 407,
     "metadata": {},
     "output_type": "execute_result"
    }
   ],
   "source": [
    "text = \"ala ma kota\"\n",
    "\n",
    "zliczenia = {}\n",
    "\n",
    "for znak in text:\n",
    "    if znak in zliczenia:\n",
    "        zliczenia[znak] += 1\n",
    "    else:\n",
    "        zliczenia[znak] = 1\n",
    "\n",
    "zliczenia"
   ]
  },
  {
   "cell_type": "code",
   "execution_count": 408,
   "id": "28186699",
   "metadata": {},
   "outputs": [
    {
     "data": {
      "text/plain": [
       "{'a': 4, 'l': 1, ' ': 2, 'm': 1, 'k': 1, 'o': 1, 't': 1}"
      ]
     },
     "execution_count": 408,
     "metadata": {},
     "output_type": "execute_result"
    }
   ],
   "source": [
    "text = \"ala ma kota\"\n",
    "\n",
    "zliczenia = {}\n",
    "\n",
    "for znak in text:\n",
    "    zliczenia[znak] = zliczenia.get(znak, 0) + 1\n",
    "\n",
    "zliczenia"
   ]
  },
  {
   "cell_type": "code",
   "execution_count": 409,
   "id": "5ef34de8",
   "metadata": {},
   "outputs": [
    {
     "data": {
      "text/plain": [
       "defaultdict(int, {'a': 4, 'l': 1, ' ': 2, 'm': 1, 'k': 1, 'o': 1, 't': 1})"
      ]
     },
     "execution_count": 409,
     "metadata": {},
     "output_type": "execute_result"
    }
   ],
   "source": [
    "from collections import defaultdict\n",
    "\n",
    "text = \"ala ma kota\"\n",
    "\n",
    "zliczenia = defaultdict(int)\n",
    "\n",
    "for znak in text:\n",
    "    zliczenia[znak] += 1\n",
    "\n",
    "zliczenia"
   ]
  },
  {
   "cell_type": "code",
   "execution_count": 411,
   "id": "82379998",
   "metadata": {},
   "outputs": [
    {
     "data": {
      "text/plain": [
       "Counter({'a': 4, ' ': 2, 'l': 1, 'm': 1, 'k': 1, 'o': 1, 't': 1})"
      ]
     },
     "execution_count": 411,
     "metadata": {},
     "output_type": "execute_result"
    }
   ],
   "source": [
    "from collections import Counter\n",
    "\n",
    "zliczenia = Counter(text)\n",
    "\n",
    "zliczenia"
   ]
  },
  {
   "cell_type": "code",
   "execution_count": 412,
   "id": "c7e90680",
   "metadata": {},
   "outputs": [],
   "source": [
    "import json"
   ]
  },
  {
   "cell_type": "code",
   "execution_count": 413,
   "id": "6c53b16b",
   "metadata": {},
   "outputs": [
    {
     "data": {
      "text/plain": [
       "'{\"a\": 4, \"l\": 1, \" \": 2, \"m\": 1, \"k\": 1, \"o\": 1, \"t\": 1}'"
      ]
     },
     "execution_count": 413,
     "metadata": {},
     "output_type": "execute_result"
    }
   ],
   "source": [
    "json.dumps(zliczenia)"
   ]
  },
  {
   "cell_type": "code",
   "execution_count": 415,
   "id": "5449803e",
   "metadata": {},
   "outputs": [],
   "source": [
    "x = json.loads('{\"a\": 4, \"l\": 1, \" \": 2, \"m\": 1, \"k\": 1, \"o\": 1, \"t\": 1}')"
   ]
  },
  {
   "cell_type": "code",
   "execution_count": 416,
   "id": "41d1fb0a",
   "metadata": {},
   "outputs": [
    {
     "data": {
      "text/plain": [
       "dict"
      ]
     },
     "execution_count": 416,
     "metadata": {},
     "output_type": "execute_result"
    }
   ],
   "source": [
    "type(x)"
   ]
  },
  {
   "cell_type": "code",
   "execution_count": 418,
   "id": "fb3f3dd2",
   "metadata": {},
   "outputs": [],
   "source": [
    "zliczenia[(1, 2)] = 1"
   ]
  },
  {
   "cell_type": "markdown",
   "id": "39e0a3e6",
   "metadata": {},
   "source": [
    "### zbioru (set)"
   ]
  },
  {
   "cell_type": "code",
   "execution_count": 421,
   "id": "de764028",
   "metadata": {},
   "outputs": [],
   "source": [
    "A = {1, 2, 3}"
   ]
  },
  {
   "cell_type": "code",
   "execution_count": 422,
   "id": "5bea16c5",
   "metadata": {},
   "outputs": [],
   "source": [
    "B = {2, 3 ,4}"
   ]
  },
  {
   "cell_type": "code",
   "execution_count": 423,
   "id": "a9c17cc2",
   "metadata": {},
   "outputs": [
    {
     "data": {
      "text/plain": [
       "{1, 2, 3, 4}"
      ]
     },
     "execution_count": 423,
     "metadata": {},
     "output_type": "execute_result"
    }
   ],
   "source": [
    "A | B"
   ]
  },
  {
   "cell_type": "code",
   "execution_count": 424,
   "id": "650493fe",
   "metadata": {},
   "outputs": [
    {
     "data": {
      "text/plain": [
       "{2, 3}"
      ]
     },
     "execution_count": 424,
     "metadata": {},
     "output_type": "execute_result"
    }
   ],
   "source": [
    "A & B"
   ]
  },
  {
   "cell_type": "code",
   "execution_count": 425,
   "id": "08391526",
   "metadata": {},
   "outputs": [
    {
     "data": {
      "text/plain": [
       "{1, 4}"
      ]
     },
     "execution_count": 425,
     "metadata": {},
     "output_type": "execute_result"
    }
   ],
   "source": [
    "A ^ B"
   ]
  },
  {
   "cell_type": "code",
   "execution_count": 426,
   "id": "dc34fce4",
   "metadata": {},
   "outputs": [
    {
     "data": {
      "text/plain": [
       "{1}"
      ]
     },
     "execution_count": 426,
     "metadata": {},
     "output_type": "execute_result"
    }
   ],
   "source": [
    "A - B"
   ]
  },
  {
   "cell_type": "code",
   "execution_count": 427,
   "id": "5520a020",
   "metadata": {},
   "outputs": [
    {
     "data": {
      "text/plain": [
       "{1, 2, 3, 4}"
      ]
     },
     "execution_count": 427,
     "metadata": {},
     "output_type": "execute_result"
    }
   ],
   "source": [
    "{1, 2, 3, 4, 1, 2, 3, 4}"
   ]
  },
  {
   "cell_type": "code",
   "execution_count": 429,
   "id": "5e6d4956",
   "metadata": {},
   "outputs": [
    {
     "name": "stdout",
     "output_type": "stream",
     "text": [
      "k\n",
      "m\n",
      "a\n",
      "l\n",
      "t\n",
      "o\n",
      " \n"
     ]
    }
   ],
   "source": [
    "for i in set(\"ala ma kota\"):\n",
    "    print(i)"
   ]
  },
  {
   "cell_type": "code",
   "execution_count": 430,
   "id": "e5b87084",
   "metadata": {},
   "outputs": [],
   "source": [
    "C = {1, 2}"
   ]
  },
  {
   "cell_type": "code",
   "execution_count": 432,
   "id": "d19ead50",
   "metadata": {},
   "outputs": [
    {
     "data": {
      "text/plain": [
       "False"
      ]
     },
     "execution_count": 432,
     "metadata": {},
     "output_type": "execute_result"
    }
   ],
   "source": [
    "C.issubset(B)"
   ]
  },
  {
   "cell_type": "code",
   "execution_count": 433,
   "id": "79bd7902",
   "metadata": {},
   "outputs": [
    {
     "data": {
      "text/plain": [
       "True"
      ]
     },
     "execution_count": 433,
     "metadata": {},
     "output_type": "execute_result"
    }
   ],
   "source": [
    "A.issuperset(C)"
   ]
  },
  {
   "cell_type": "code",
   "execution_count": null,
   "id": "17709ce2",
   "metadata": {},
   "outputs": [],
   "source": []
  },
  {
   "cell_type": "markdown",
   "id": "7d0ba909",
   "metadata": {},
   "source": [
    "## PCEP-30-02 3.4 Operate with strings\n",
    "\n",
    "### constructing strings"
   ]
  },
  {
   "cell_type": "code",
   "execution_count": 434,
   "id": "0101c135",
   "metadata": {},
   "outputs": [
    {
     "data": {
      "text/plain": [
       "True"
      ]
     },
     "execution_count": 434,
     "metadata": {},
     "output_type": "execute_result"
    }
   ],
   "source": [
    "\"Ala ma kota\" == 'Ala ma kota'"
   ]
  },
  {
   "cell_type": "code",
   "execution_count": 435,
   "id": "d609f32e",
   "metadata": {},
   "outputs": [
    {
     "data": {
      "text/plain": [
       "'Ala ma kota'"
      ]
     },
     "execution_count": 435,
     "metadata": {},
     "output_type": "execute_result"
    }
   ],
   "source": [
    "\"Ala ma kota\""
   ]
  },
  {
   "cell_type": "code",
   "execution_count": 436,
   "id": "c0665ae6",
   "metadata": {},
   "outputs": [
    {
     "data": {
      "text/plain": [
       "\"Ala 'ma' kota\""
      ]
     },
     "execution_count": 436,
     "metadata": {},
     "output_type": "execute_result"
    }
   ],
   "source": [
    "\"Ala 'ma' kota\""
   ]
  },
  {
   "cell_type": "code",
   "execution_count": 438,
   "id": "5abfb073",
   "metadata": {},
   "outputs": [
    {
     "data": {
      "text/plain": [
       "\"Ala 'ma' kota\""
      ]
     },
     "execution_count": 438,
     "metadata": {},
     "output_type": "execute_result"
    }
   ],
   "source": [
    "'Ala \\'ma\\' kota'"
   ]
  },
  {
   "cell_type": "code",
   "execution_count": 439,
   "id": "8ff71f6f",
   "metadata": {},
   "outputs": [
    {
     "data": {
      "text/plain": [
       "'A\\nB\\nC'"
      ]
     },
     "execution_count": 439,
     "metadata": {},
     "output_type": "execute_result"
    }
   ],
   "source": [
    "\"A\\nB\\nC\""
   ]
  },
  {
   "cell_type": "code",
   "execution_count": 440,
   "id": "3c8a0dae",
   "metadata": {},
   "outputs": [
    {
     "name": "stdout",
     "output_type": "stream",
     "text": [
      "A\n",
      "B\n",
      "C\n"
     ]
    }
   ],
   "source": [
    "print(\"\\nA\\nB\\nC\\n\")"
   ]
  },
  {
   "cell_type": "code",
   "execution_count": 441,
   "id": "00b6580d",
   "metadata": {},
   "outputs": [
    {
     "name": "stdout",
     "output_type": "stream",
     "text": [
      "\n",
      "A\n",
      "B\n",
      "C\n",
      "\n"
     ]
    }
   ],
   "source": [
    "print(\"\"\"\n",
    "A\n",
    "B\n",
    "C\n",
    "\"\"\")"
   ]
  },
  {
   "cell_type": "code",
   "execution_count": 442,
   "id": "467f4a8f",
   "metadata": {},
   "outputs": [
    {
     "data": {
      "text/plain": [
       "'\\nA\\nB\\nC\\n'"
      ]
     },
     "execution_count": 442,
     "metadata": {},
     "output_type": "execute_result"
    }
   ],
   "source": [
    "\"\"\"\n",
    "A\n",
    "B\n",
    "C\n",
    "\"\"\""
   ]
  },
  {
   "cell_type": "code",
   "execution_count": 443,
   "id": "45e55057",
   "metadata": {},
   "outputs": [
    {
     "data": {
      "text/plain": [
       "'AB'"
      ]
     },
     "execution_count": 443,
     "metadata": {},
     "output_type": "execute_result"
    }
   ],
   "source": [
    "\"A\" + \"B\""
   ]
  },
  {
   "cell_type": "code",
   "execution_count": 448,
   "id": "7dc409bc",
   "metadata": {},
   "outputs": [
    {
     "data": {
      "text/plain": [
       "'x = 1.00, y = 2.2000000000'"
      ]
     },
     "execution_count": 448,
     "metadata": {},
     "output_type": "execute_result"
    }
   ],
   "source": [
    "x = 1\n",
    "y = 2.2\n",
    "\n",
    "\"x = %.2f, y = %.10f\" % (x, y)"
   ]
  },
  {
   "cell_type": "code",
   "execution_count": 450,
   "id": "4252c663",
   "metadata": {},
   "outputs": [
    {
     "data": {
      "text/plain": [
       "'x = 1.00, y = 2.2000000000'"
      ]
     },
     "execution_count": 450,
     "metadata": {},
     "output_type": "execute_result"
    }
   ],
   "source": [
    "\"x = {:.2f}, y = {:.10f}\".format(x, y) "
   ]
  },
  {
   "cell_type": "code",
   "execution_count": 451,
   "id": "cbac3f15",
   "metadata": {},
   "outputs": [
    {
     "data": {
      "text/plain": [
       "'x = 2.20, y = 1.0000000000'"
      ]
     },
     "execution_count": 451,
     "metadata": {},
     "output_type": "execute_result"
    }
   ],
   "source": [
    "\"x = {b:.2f}, y = {a:.10f}\".format(a=x, b=y) "
   ]
  },
  {
   "cell_type": "code",
   "execution_count": 453,
   "id": "a1f019c3",
   "metadata": {},
   "outputs": [
    {
     "data": {
      "text/plain": [
       "'x = 1.00, y = 2.2000000000'"
      ]
     },
     "execution_count": 453,
     "metadata": {},
     "output_type": "execute_result"
    }
   ],
   "source": [
    "f\"x = {x:.2f}, y = {y:.10f}\""
   ]
  },
  {
   "cell_type": "code",
   "execution_count": 456,
   "id": "12b563ca",
   "metadata": {},
   "outputs": [
    {
     "data": {
      "text/plain": [
       "'x = 1.00      , y =     2.2000000000    '"
      ]
     },
     "execution_count": 456,
     "metadata": {},
     "output_type": "execute_result"
    }
   ],
   "source": [
    "f\"x = {x:<10.2f}, y = {y:^20.10f}\""
   ]
  },
  {
   "cell_type": "markdown",
   "id": "3ba5366e",
   "metadata": {},
   "source": [
    "https://pyformat.info"
   ]
  },
  {
   "cell_type": "markdown",
   "id": "c0cacb28",
   "metadata": {},
   "source": [
    "### indexing, slicing, immutability"
   ]
  },
  {
   "cell_type": "code",
   "execution_count": 459,
   "id": "7e5da83b",
   "metadata": {},
   "outputs": [
    {
     "data": {
      "text/plain": [
       "'Bla ma kota'"
      ]
     },
     "execution_count": 459,
     "metadata": {},
     "output_type": "execute_result"
    }
   ],
   "source": [
    "napis = \"Ala ma kota\"\n",
    "\"B\" + napis[1:]"
   ]
  },
  {
   "cell_type": "markdown",
   "id": "4e31b6e7",
   "metadata": {},
   "source": [
    "### escaping using the \\ character"
   ]
  },
  {
   "cell_type": "code",
   "execution_count": 464,
   "id": "3816921c",
   "metadata": {},
   "outputs": [
    {
     "name": "stdout",
     "output_type": "stream",
     "text": [
      "ala\r",
      "b\n"
     ]
    }
   ],
   "source": [
    "print(\"ala\\rb\")"
   ]
  },
  {
   "cell_type": "markdown",
   "id": "45718c0d",
   "metadata": {},
   "source": [
    "### quotes and apostrophes inside strings"
   ]
  },
  {
   "cell_type": "code",
   "execution_count": 466,
   "id": "60f32b12",
   "metadata": {},
   "outputs": [
    {
     "name": "stdout",
     "output_type": "stream",
     "text": [
      "'' \"\"\n"
     ]
    }
   ],
   "source": [
    "print(\"''\", '\"\"' )"
   ]
  },
  {
   "cell_type": "markdown",
   "id": "a6f33440",
   "metadata": {},
   "source": [
    "### multi-line strings"
   ]
  },
  {
   "cell_type": "code",
   "execution_count": 469,
   "id": "e66c4271",
   "metadata": {},
   "outputs": [
    {
     "ename": "SyntaxError",
     "evalue": "unexpected character after line continuation character (1029054864.py, line 1)",
     "output_type": "error",
     "traceback": [
      "\u001b[0;36m  Cell \u001b[0;32mIn[469], line 1\u001b[0;36m\u001b[0m\n\u001b[0;31m    \"asdsdsdsdoifjgwipjgpwoefjb oiwtjg bowln o4witjeg bowjn \" \\\u001b[0m\n\u001b[0m                                                               ^\u001b[0m\n\u001b[0;31mSyntaxError\u001b[0m\u001b[0;31m:\u001b[0m unexpected character after line continuation character\n"
     ]
    }
   ],
   "source": [
    "\"asdsdsdsdoifjgwipjgpwoefjb oiwtjg bowln o4witjeg bowjn \" \\\n",
    "\"o24itjwgblksdbn 3p4owtrjbslgjfnb p3i4owtjbpsdjfb\""
   ]
  },
  {
   "cell_type": "code",
   "execution_count": 471,
   "id": "f0d082d3",
   "metadata": {},
   "outputs": [
    {
     "data": {
      "text/plain": [
       "'asdsdsdsdoifjgwipjgpwoefjb oiwtjg bowln o4witjeg bowjn o24itjwgblksdbn 3p4owtrjbslgjfnb p3i4owtjbpsdjfb'"
      ]
     },
     "execution_count": 471,
     "metadata": {},
     "output_type": "execute_result"
    }
   ],
   "source": [
    "(\n",
    "    \"asdsdsdsdoifjgwipjgpwoefjb oiwtjg bowln o4witjeg bowjn \"\n",
    "    \"o24itjwgblksdbn 3p4owtrjbslgjfnb p3i4owtjbpsdjfb\"\n",
    ")"
   ]
  },
  {
   "cell_type": "code",
   "execution_count": 472,
   "id": "3376a790",
   "metadata": {},
   "outputs": [
    {
     "data": {
      "text/plain": [
       "4"
      ]
     },
     "execution_count": 472,
     "metadata": {},
     "output_type": "execute_result"
    }
   ],
   "source": [
    "(1\n",
    "+\n",
    "3)"
   ]
  },
  {
   "cell_type": "markdown",
   "id": "0630f93e",
   "metadata": {},
   "source": [
    "### basic string functions and methods"
   ]
  },
  {
   "cell_type": "code",
   "execution_count": 492,
   "id": "ac359d7f",
   "metadata": {},
   "outputs": [
    {
     "data": {
      "text/plain": [
       "['__add__',\n",
       " '__class__',\n",
       " '__contains__',\n",
       " '__delattr__',\n",
       " '__dir__',\n",
       " '__doc__',\n",
       " '__eq__',\n",
       " '__format__',\n",
       " '__ge__',\n",
       " '__getattribute__',\n",
       " '__getitem__',\n",
       " '__getnewargs__',\n",
       " '__gt__',\n",
       " '__hash__',\n",
       " '__init__',\n",
       " '__init_subclass__',\n",
       " '__iter__',\n",
       " '__le__',\n",
       " '__len__',\n",
       " '__lt__',\n",
       " '__mod__',\n",
       " '__mul__',\n",
       " '__ne__',\n",
       " '__new__',\n",
       " '__reduce__',\n",
       " '__reduce_ex__',\n",
       " '__repr__',\n",
       " '__rmod__',\n",
       " '__rmul__',\n",
       " '__setattr__',\n",
       " '__sizeof__',\n",
       " '__str__',\n",
       " '__subclasshook__',\n",
       " 'capitalize',\n",
       " 'casefold',\n",
       " 'center',\n",
       " 'count',\n",
       " 'encode',\n",
       " 'endswith',\n",
       " 'expandtabs',\n",
       " 'find',\n",
       " 'format',\n",
       " 'format_map',\n",
       " 'index',\n",
       " 'isalnum',\n",
       " 'isalpha',\n",
       " 'isascii',\n",
       " 'isdecimal',\n",
       " 'isdigit',\n",
       " 'isidentifier',\n",
       " 'islower',\n",
       " 'isnumeric',\n",
       " 'isprintable',\n",
       " 'isspace',\n",
       " 'istitle',\n",
       " 'isupper',\n",
       " 'join',\n",
       " 'ljust',\n",
       " 'lower',\n",
       " 'lstrip',\n",
       " 'maketrans',\n",
       " 'partition',\n",
       " 'removeprefix',\n",
       " 'removesuffix',\n",
       " 'replace',\n",
       " 'rfind',\n",
       " 'rindex',\n",
       " 'rjust',\n",
       " 'rpartition',\n",
       " 'rsplit',\n",
       " 'rstrip',\n",
       " 'split',\n",
       " 'splitlines',\n",
       " 'startswith',\n",
       " 'strip',\n",
       " 'swapcase',\n",
       " 'title',\n",
       " 'translate',\n",
       " 'upper',\n",
       " 'zfill']"
      ]
     },
     "execution_count": 492,
     "metadata": {},
     "output_type": "execute_result"
    }
   ],
   "source": [
    "dir(str)\n"
   ]
  },
  {
   "cell_type": "code",
   "execution_count": 478,
   "id": "e13f75d6",
   "metadata": {},
   "outputs": [
    {
     "data": {
      "text/plain": [
       "\"['Chleb', 'Ogórek', 'Woda']\""
      ]
     },
     "execution_count": 478,
     "metadata": {},
     "output_type": "execute_result"
    }
   ],
   "source": [
    "lista = [\"chleb\", \"ogórek\", \"woda\"]\n",
    "str(lista).title()"
   ]
  },
  {
   "cell_type": "code",
   "execution_count": 480,
   "id": "001b82a6",
   "metadata": {},
   "outputs": [
    {
     "data": {
      "text/plain": [
       "'Chleb, Ogórek, Woda'"
      ]
     },
     "execution_count": 480,
     "metadata": {},
     "output_type": "execute_result"
    }
   ],
   "source": [
    "nowa = []\n",
    "for el in lista:\n",
    "    nowa.append(el.capitalize())\n",
    "\", \".join(nowa)"
   ]
  },
  {
   "cell_type": "code",
   "execution_count": 486,
   "id": "30e2bfc1",
   "metadata": {},
   "outputs": [],
   "source": [
    "palindrom = \"Kobyła ma mały bok!\"\n",
    "\n",
    "text = palindrom.lower()"
   ]
  },
  {
   "cell_type": "code",
   "execution_count": 488,
   "id": "9b07373c",
   "metadata": {},
   "outputs": [],
   "source": [
    "text = [x for x in text if x.isalnum()]"
   ]
  },
  {
   "cell_type": "code",
   "execution_count": 490,
   "id": "a1f71811",
   "metadata": {},
   "outputs": [
    {
     "data": {
      "text/plain": [
       "['k', 'o', 'b', 'y', 'ł', 'a', 'm', 'a', 'm', 'a', 'ł', 'y', 'b', 'o', 'k']"
      ]
     },
     "execution_count": 490,
     "metadata": {},
     "output_type": "execute_result"
    }
   ],
   "source": [
    "text"
   ]
  },
  {
   "cell_type": "code",
   "execution_count": 489,
   "id": "355f39db",
   "metadata": {},
   "outputs": [
    {
     "data": {
      "text/plain": [
       "True"
      ]
     },
     "execution_count": 489,
     "metadata": {},
     "output_type": "execute_result"
    }
   ],
   "source": [
    "text == text[::-1]"
   ]
  },
  {
   "cell_type": "code",
   "execution_count": 491,
   "id": "1c2a592b",
   "metadata": {},
   "outputs": [
    {
     "data": {
      "text/plain": [
       "['login-1', 'login-2']"
      ]
     },
     "execution_count": 491,
     "metadata": {},
     "output_type": "execute_result"
    }
   ],
   "source": [
    "dane = [\"login-1\", \"kasia\", \"login-2\", \"cos tam\"]\n",
    "\n",
    "[d for d in dane if d.startswith(\"login\")]"
   ]
  },
  {
   "cell_type": "code",
   "execution_count": 495,
   "id": "ed0ebcfc",
   "metadata": {},
   "outputs": [
    {
     "data": {
      "text/plain": [
       "['1', 'kasia', '2', 'cos tam']"
      ]
     },
     "execution_count": 495,
     "metadata": {},
     "output_type": "execute_result"
    }
   ],
   "source": [
    "[d.removeprefix(\"login-\") for d in dane ]"
   ]
  },
  {
   "cell_type": "code",
   "execution_count": 499,
   "id": "fa0aec6a",
   "metadata": {},
   "outputs": [],
   "source": [
    "str.isalnum?"
   ]
  },
  {
   "cell_type": "markdown",
   "id": "e0837356",
   "metadata": {},
   "source": [
    "# Functions and Exceptions\n",
    "\n",
    "## PCEP-30-02 4.1 – Decompose the code using functions"
   ]
  },
  {
   "cell_type": "code",
   "execution_count": 507,
   "id": "c6eaee0f",
   "metadata": {},
   "outputs": [
    {
     "name": "stdout",
     "output_type": "stream",
     "text": [
      "Hello World!\n"
     ]
    }
   ],
   "source": [
    "def hello():\n",
    "    print(\"Hello World!\")\n",
    "    \n",
    "\n",
    "hello()\n",
    "\n"
   ]
  },
  {
   "cell_type": "code",
   "execution_count": 509,
   "id": "380e4c21",
   "metadata": {},
   "outputs": [
    {
     "name": "stdout",
     "output_type": "stream",
     "text": [
      "Hello World!\n"
     ]
    }
   ],
   "source": [
    "def hello():\n",
    "    return \"Hello World!\"\n",
    "\n",
    "print(hello())\n"
   ]
  },
  {
   "cell_type": "code",
   "execution_count": 511,
   "id": "454370cc",
   "metadata": {},
   "outputs": [
    {
     "ename": "TypeError",
     "evalue": "hello() got an unexpected keyword argument 'name'",
     "output_type": "error",
     "traceback": [
      "\u001b[0;31m---------------------------------------------------------------------------\u001b[0m",
      "\u001b[0;31mTypeError\u001b[0m                                 Traceback (most recent call last)",
      "Cell \u001b[0;32mIn[511], line 4\u001b[0m\n\u001b[1;32m      1\u001b[0m \u001b[38;5;28;01mdef\u001b[39;00m \u001b[38;5;21mhello\u001b[39m():\n\u001b[1;32m      2\u001b[0m     \u001b[38;5;28;01mreturn\u001b[39;00m \u001b[38;5;124m\"\u001b[39m\u001b[38;5;124mHello World!\u001b[39m\u001b[38;5;124m\"\u001b[39m\n\u001b[0;32m----> 4\u001b[0m \u001b[38;5;28mprint\u001b[39m(\u001b[43mhello\u001b[49m\u001b[43m(\u001b[49m\u001b[43mname\u001b[49m\u001b[38;5;241;43m=\u001b[39;49m\u001b[38;5;124;43m\"\u001b[39;49m\u001b[38;5;124;43mRafał\u001b[39;49m\u001b[38;5;124;43m\"\u001b[39;49m\u001b[43m)\u001b[49m)\n",
      "\u001b[0;31mTypeError\u001b[0m: hello() got an unexpected keyword argument 'name'"
     ]
    }
   ],
   "source": [
    "def hello():\n",
    "    return \"Hello World!\"\n",
    "\n",
    "print(hello(name=\"Rafał\"))"
   ]
  },
  {
   "cell_type": "code",
   "execution_count": 512,
   "id": "89a003c2",
   "metadata": {},
   "outputs": [
    {
     "ename": "TypeError",
     "evalue": "hello() takes 0 positional arguments but 1 was given",
     "output_type": "error",
     "traceback": [
      "\u001b[0;31m---------------------------------------------------------------------------\u001b[0m",
      "\u001b[0;31mTypeError\u001b[0m                                 Traceback (most recent call last)",
      "Cell \u001b[0;32mIn[512], line 4\u001b[0m\n\u001b[1;32m      1\u001b[0m \u001b[38;5;28;01mdef\u001b[39;00m \u001b[38;5;21mhello\u001b[39m():\n\u001b[1;32m      2\u001b[0m     \u001b[38;5;28;01mreturn\u001b[39;00m \u001b[38;5;124m\"\u001b[39m\u001b[38;5;124mHello World!\u001b[39m\u001b[38;5;124m\"\u001b[39m\n\u001b[0;32m----> 4\u001b[0m \u001b[38;5;28mprint\u001b[39m(\u001b[43mhello\u001b[49m\u001b[43m(\u001b[49m\u001b[38;5;124;43m\"\u001b[39;49m\u001b[38;5;124;43mRafał\u001b[39;49m\u001b[38;5;124;43m\"\u001b[39;49m\u001b[43m)\u001b[49m)\n",
      "\u001b[0;31mTypeError\u001b[0m: hello() takes 0 positional arguments but 1 was given"
     ]
    }
   ],
   "source": [
    "def hello():\n",
    "    return \"Hello World!\"\n",
    "\n",
    "print(hello(\"Rafał\"))"
   ]
  },
  {
   "cell_type": "code",
   "execution_count": 514,
   "id": "32577784",
   "metadata": {},
   "outputs": [
    {
     "name": "stdout",
     "output_type": "stream",
     "text": [
      "Hello RAFAŁ!\n",
      "Hello RAFAŁ!\n"
     ]
    }
   ],
   "source": [
    "def hello(name):\n",
    "    return f\"Hello {name.upper()}!\"\n",
    "\n",
    "print(hello(name=\"Rafał\"))\n",
    "print(hello(\"Rafał\"))"
   ]
  },
  {
   "cell_type": "code",
   "execution_count": 518,
   "id": "dde67ebf",
   "metadata": {},
   "outputs": [
    {
     "name": "stdout",
     "output_type": "stream",
     "text": [
      "Hello RAFAŁ Korzeniewski!\n",
      "Hello RAFAŁ Korzeniewski!\n",
      "Hello RAFAŁ Korzeniewski!\n",
      "Hello KORZENIEWSKI Rafał!\n",
      "Hello RAFAŁ Korzeniewski!\n"
     ]
    }
   ],
   "source": [
    "def hello(name, last_name):\n",
    "    return f\"Hello {name.upper()} {last_name}!\"\n",
    "\n",
    "print(hello(name=\"Rafał\", last_name=\"Korzeniewski\"))\n",
    "print(hello(last_name=\"Korzeniewski\", name=\"Rafał\" ))\n",
    "print(hello(\"Rafał\", \"Korzeniewski\"))\n",
    "print(hello(\"Korzeniewski\", \"Rafał\"))\n",
    "\n",
    "print(hello(\"Rafał\", last_name=\"Korzeniewski\"))\n"
   ]
  },
  {
   "cell_type": "code",
   "execution_count": 519,
   "id": "9927cb90",
   "metadata": {},
   "outputs": [
    {
     "ename": "SyntaxError",
     "evalue": "positional argument follows keyword argument (3147961055.py, line 1)",
     "output_type": "error",
     "traceback": [
      "\u001b[0;36m  Cell \u001b[0;32mIn[519], line 1\u001b[0;36m\u001b[0m\n\u001b[0;31m    print(hello(name=\"Rafał\", \"Korzeniewski\"))\u001b[0m\n\u001b[0m                                            ^\u001b[0m\n\u001b[0;31mSyntaxError\u001b[0m\u001b[0;31m:\u001b[0m positional argument follows keyword argument\n"
     ]
    }
   ],
   "source": [
    "print(hello(name=\"Rafał\", \"Korzeniewski\"))"
   ]
  },
  {
   "cell_type": "code",
   "execution_count": 520,
   "id": "482ea99b",
   "metadata": {},
   "outputs": [
    {
     "name": "stdout",
     "output_type": "stream",
     "text": [
      "Hello RAFAŁ from ITM!\n"
     ]
    }
   ],
   "source": [
    "def hello(name, last_name=\"from ITM\"):\n",
    "    return f\"Hello {name.upper()} {last_name}!\"\n",
    "\n",
    "print(hello(name=\"Rafał\"))\n",
    "\n"
   ]
  },
  {
   "cell_type": "code",
   "execution_count": 521,
   "id": "2248343d",
   "metadata": {},
   "outputs": [
    {
     "ename": "SyntaxError",
     "evalue": "non-default argument follows default argument (430561361.py, line 1)",
     "output_type": "error",
     "traceback": [
      "\u001b[0;36m  Cell \u001b[0;32mIn[521], line 1\u001b[0;36m\u001b[0m\n\u001b[0;31m    def hello(last_name=\"from ITM\", name):\u001b[0m\n\u001b[0m                                    ^\u001b[0m\n\u001b[0;31mSyntaxError\u001b[0m\u001b[0;31m:\u001b[0m non-default argument follows default argument\n"
     ]
    }
   ],
   "source": [
    "def hello(last_name=\"from ITM\", name):\n",
    "    return f\"Hello {name.upper()} {last_name}!\"\n",
    "\n",
    "print(hello(name=\"Rafał\"))\n"
   ]
  },
  {
   "cell_type": "markdown",
   "id": "4d2e2b00",
   "metadata": {},
   "source": [
    "### defining and invoking user-defined functions and generators"
   ]
  },
  {
   "cell_type": "code",
   "execution_count": 522,
   "id": "5130b583",
   "metadata": {},
   "outputs": [],
   "source": [
    "def data():\n",
    "    yield \"Rafał\"\n",
    "    yield \"Korzeniewski\"\n",
    "    \n",
    "my_gen = data()\n"
   ]
  },
  {
   "cell_type": "code",
   "execution_count": 524,
   "id": "e4855c1b",
   "metadata": {},
   "outputs": [
    {
     "name": "stdout",
     "output_type": "stream",
     "text": [
      "Rafał\n",
      "Korzeniewski\n"
     ]
    }
   ],
   "source": [
    "for d in my_gen:\n",
    "    print(d)"
   ]
  },
  {
   "cell_type": "code",
   "execution_count": 525,
   "id": "def466e8",
   "metadata": {},
   "outputs": [],
   "source": [
    "for d in my_gen:\n",
    "    print(d)"
   ]
  },
  {
   "cell_type": "code",
   "execution_count": 526,
   "id": "d085845f",
   "metadata": {},
   "outputs": [],
   "source": [
    "my_gen = data()"
   ]
  },
  {
   "cell_type": "code",
   "execution_count": 529,
   "id": "0c253f4a",
   "metadata": {},
   "outputs": [
    {
     "ename": "StopIteration",
     "evalue": "",
     "output_type": "error",
     "traceback": [
      "\u001b[0;31m---------------------------------------------------------------------------\u001b[0m",
      "\u001b[0;31mStopIteration\u001b[0m                             Traceback (most recent call last)",
      "Cell \u001b[0;32mIn[529], line 1\u001b[0m\n\u001b[0;32m----> 1\u001b[0m \u001b[38;5;28;43mnext\u001b[39;49m\u001b[43m(\u001b[49m\u001b[43mmy_gen\u001b[49m\u001b[43m)\u001b[49m\n",
      "\u001b[0;31mStopIteration\u001b[0m: "
     ]
    }
   ],
   "source": [
    "next(my_gen)"
   ]
  },
  {
   "cell_type": "code",
   "execution_count": 530,
   "id": "107c770c",
   "metadata": {},
   "outputs": [],
   "source": [
    "def incr():\n",
    "    i = 0 \n",
    "    while True:\n",
    "        yield i\n",
    "        i += 1\n",
    "    "
   ]
  },
  {
   "cell_type": "code",
   "execution_count": 531,
   "id": "0a1b3546",
   "metadata": {},
   "outputs": [],
   "source": [
    "data = incr()"
   ]
  },
  {
   "cell_type": "code",
   "execution_count": 537,
   "id": "95fc6047",
   "metadata": {},
   "outputs": [
    {
     "data": {
      "text/plain": [
       "5"
      ]
     },
     "execution_count": 537,
     "metadata": {},
     "output_type": "execute_result"
    }
   ],
   "source": [
    "next(data)"
   ]
  },
  {
   "cell_type": "code",
   "execution_count": null,
   "id": "a6464158",
   "metadata": {},
   "outputs": [],
   "source": []
  },
  {
   "cell_type": "code",
   "execution_count": null,
   "id": "5bed38ee",
   "metadata": {},
   "outputs": [],
   "source": []
  },
  {
   "cell_type": "code",
   "execution_count": null,
   "id": "6fe6473b",
   "metadata": {},
   "outputs": [],
   "source": []
  },
  {
   "cell_type": "markdown",
   "id": "dd00ba40",
   "metadata": {},
   "source": [
    "### the return keyword, returning results"
   ]
  },
  {
   "cell_type": "code",
   "execution_count": 539,
   "id": "aa5904ac",
   "metadata": {},
   "outputs": [
    {
     "data": {
      "text/plain": [
       "(42, 11, 2)"
      ]
     },
     "execution_count": 539,
     "metadata": {},
     "output_type": "execute_result"
    }
   ],
   "source": [
    "def foo():\n",
    "    return 42, 11, 2\n",
    "\n",
    "foo()\n",
    "    "
   ]
  },
  {
   "cell_type": "markdown",
   "id": "4f7ca007",
   "metadata": {},
   "source": [
    "### the None keyword"
   ]
  },
  {
   "cell_type": "code",
   "execution_count": 540,
   "id": "0c2a6d12",
   "metadata": {},
   "outputs": [
    {
     "data": {
      "text/plain": [
       "True"
      ]
     },
     "execution_count": 540,
     "metadata": {},
     "output_type": "execute_result"
    }
   ],
   "source": [
    "def foo():\n",
    "    pass\n",
    "\n",
    "f = foo()\n",
    "f is None"
   ]
  },
  {
   "cell_type": "markdown",
   "id": "1641cc70",
   "metadata": {},
   "source": [
    "### recursion\n",
    "    "
   ]
  },
  {
   "cell_type": "code",
   "execution_count": null,
   "id": "baaeb00d",
   "metadata": {},
   "outputs": [],
   "source": [
    "# 0! = 1\n",
    "# n! = n * (n-1)!"
   ]
  },
  {
   "cell_type": "code",
   "execution_count": 545,
   "id": "f5cf7701",
   "metadata": {},
   "outputs": [
    {
     "ename": "RecursionError",
     "evalue": "maximum recursion depth exceeded in comparison",
     "output_type": "error",
     "traceback": [
      "\u001b[0;31m---------------------------------------------------------------------------\u001b[0m",
      "\u001b[0;31mRecursionError\u001b[0m                            Traceback (most recent call last)",
      "Cell \u001b[0;32mIn[545], line 6\u001b[0m\n\u001b[1;32m      3\u001b[0m         \u001b[38;5;28;01mreturn\u001b[39;00m \u001b[38;5;241m1\u001b[39m\n\u001b[1;32m      4\u001b[0m     \u001b[38;5;28;01mreturn\u001b[39;00m n \u001b[38;5;241m*\u001b[39m silnia(n\u001b[38;5;241m-\u001b[39m\u001b[38;5;241m1\u001b[39m)\n\u001b[0;32m----> 6\u001b[0m \u001b[43msilnia\u001b[49m\u001b[43m(\u001b[49m\u001b[38;5;241;43m6000\u001b[39;49m\u001b[43m)\u001b[49m\n",
      "Cell \u001b[0;32mIn[545], line 4\u001b[0m, in \u001b[0;36msilnia\u001b[0;34m(n)\u001b[0m\n\u001b[1;32m      2\u001b[0m \u001b[38;5;28;01mif\u001b[39;00m n \u001b[38;5;241m==\u001b[39m \u001b[38;5;241m0\u001b[39m:\n\u001b[1;32m      3\u001b[0m     \u001b[38;5;28;01mreturn\u001b[39;00m \u001b[38;5;241m1\u001b[39m\n\u001b[0;32m----> 4\u001b[0m \u001b[38;5;28;01mreturn\u001b[39;00m n \u001b[38;5;241m*\u001b[39m \u001b[43msilnia\u001b[49m\u001b[43m(\u001b[49m\u001b[43mn\u001b[49m\u001b[38;5;241;43m-\u001b[39;49m\u001b[38;5;241;43m1\u001b[39;49m\u001b[43m)\u001b[49m\n",
      "Cell \u001b[0;32mIn[545], line 4\u001b[0m, in \u001b[0;36msilnia\u001b[0;34m(n)\u001b[0m\n\u001b[1;32m      2\u001b[0m \u001b[38;5;28;01mif\u001b[39;00m n \u001b[38;5;241m==\u001b[39m \u001b[38;5;241m0\u001b[39m:\n\u001b[1;32m      3\u001b[0m     \u001b[38;5;28;01mreturn\u001b[39;00m \u001b[38;5;241m1\u001b[39m\n\u001b[0;32m----> 4\u001b[0m \u001b[38;5;28;01mreturn\u001b[39;00m n \u001b[38;5;241m*\u001b[39m \u001b[43msilnia\u001b[49m\u001b[43m(\u001b[49m\u001b[43mn\u001b[49m\u001b[38;5;241;43m-\u001b[39;49m\u001b[38;5;241;43m1\u001b[39;49m\u001b[43m)\u001b[49m\n",
      "    \u001b[0;31m[... skipping similar frames: silnia at line 4 (2969 times)]\u001b[0m\n",
      "Cell \u001b[0;32mIn[545], line 4\u001b[0m, in \u001b[0;36msilnia\u001b[0;34m(n)\u001b[0m\n\u001b[1;32m      2\u001b[0m \u001b[38;5;28;01mif\u001b[39;00m n \u001b[38;5;241m==\u001b[39m \u001b[38;5;241m0\u001b[39m:\n\u001b[1;32m      3\u001b[0m     \u001b[38;5;28;01mreturn\u001b[39;00m \u001b[38;5;241m1\u001b[39m\n\u001b[0;32m----> 4\u001b[0m \u001b[38;5;28;01mreturn\u001b[39;00m n \u001b[38;5;241m*\u001b[39m \u001b[43msilnia\u001b[49m\u001b[43m(\u001b[49m\u001b[43mn\u001b[49m\u001b[38;5;241;43m-\u001b[39;49m\u001b[38;5;241;43m1\u001b[39;49m\u001b[43m)\u001b[49m\n",
      "Cell \u001b[0;32mIn[545], line 2\u001b[0m, in \u001b[0;36msilnia\u001b[0;34m(n)\u001b[0m\n\u001b[1;32m      1\u001b[0m \u001b[38;5;28;01mdef\u001b[39;00m \u001b[38;5;21msilnia\u001b[39m(n):\n\u001b[0;32m----> 2\u001b[0m     \u001b[38;5;28;01mif\u001b[39;00m \u001b[43mn\u001b[49m\u001b[43m \u001b[49m\u001b[38;5;241;43m==\u001b[39;49m\u001b[43m \u001b[49m\u001b[38;5;241;43m0\u001b[39;49m:\n\u001b[1;32m      3\u001b[0m         \u001b[38;5;28;01mreturn\u001b[39;00m \u001b[38;5;241m1\u001b[39m\n\u001b[1;32m      4\u001b[0m     \u001b[38;5;28;01mreturn\u001b[39;00m n \u001b[38;5;241m*\u001b[39m silnia(n\u001b[38;5;241m-\u001b[39m\u001b[38;5;241m1\u001b[39m)\n",
      "\u001b[0;31mRecursionError\u001b[0m: maximum recursion depth exceeded in comparison"
     ]
    }
   ],
   "source": [
    "def silnia(n):\n",
    "    if n == 0:\n",
    "        return 1\n",
    "    return n * silnia(n-1)\n",
    "\n",
    "silnia(6000)\n",
    "    "
   ]
  },
  {
   "cell_type": "code",
   "execution_count": 547,
   "id": "8c2c951a",
   "metadata": {},
   "outputs": [],
   "source": []
  },
  {
   "cell_type": "code",
   "execution_count": 548,
   "id": "5aa0522f",
   "metadata": {},
   "outputs": [],
   "source": []
  },
  {
   "cell_type": "code",
   "execution_count": 556,
   "id": "064a73b8",
   "metadata": {},
   "outputs": [],
   "source": [
    "nested = [1, 2, 3, [1,2, 3, [4, [1], 1]]]\n",
    "flattened = [1, 2, 3, 1, 2, 3, 4, 1, 1]\n",
    "def flatten(nested):\n",
    "    data = []\n",
    "    for el in nested:\n",
    "        if type(el) == list:\n",
    "            for d in flatten(el):\n",
    "                data.append(d)\n",
    "        else:\n",
    "            data.append(el)\n",
    "    return data\n",
    "\n",
    "assert flatten(nested) == flattened\n"
   ]
  },
  {
   "cell_type": "code",
   "execution_count": null,
   "id": "25458afb",
   "metadata": {},
   "outputs": [],
   "source": []
  },
  {
   "cell_type": "markdown",
   "id": "5543aa65",
   "metadata": {},
   "source": [
    "## PCEP-30-02 4.2 – Organize interaction between the function and its environment\n",
    "\n",
    "### parameters vs. arguments"
   ]
  },
  {
   "cell_type": "code",
   "execution_count": null,
   "id": "4b026611",
   "metadata": {},
   "outputs": [],
   "source": [
    "def foo(a, b):\n",
    "    print(a, b)\n",
    "    \n",
    "    \n",
    "foo(10, 20)"
   ]
  },
  {
   "cell_type": "markdown",
   "id": "63c06ce7",
   "metadata": {},
   "source": [
    "### positional, keyword, and mixed argument passing"
   ]
  },
  {
   "cell_type": "code",
   "execution_count": 557,
   "id": "57fa4b05",
   "metadata": {},
   "outputs": [
    {
     "name": "stdout",
     "output_type": "stream",
     "text": [
      "10 20\n",
      "1 20\n",
      "1 20\n"
     ]
    }
   ],
   "source": [
    "def foo(a, b=10):\n",
    "    print(a, b)\n",
    "    \n",
    "foo(10, 20)\n",
    "foo(a=1, b=20)\n",
    "foo(1, b=20)\n",
    "    "
   ]
  },
  {
   "cell_type": "code",
   "execution_count": 559,
   "id": "0d19571e",
   "metadata": {},
   "outputs": [
    {
     "name": "stdout",
     "output_type": "stream",
     "text": [
      "1 20\n",
      "1 20\n"
     ]
    }
   ],
   "source": [
    "def foo(a, *, b=10):\n",
    "    print(a, b)\n",
    "    \n",
    "# foo(10, 20)\n",
    "foo(a=1, b=20)\n",
    "foo(1, b=20)"
   ]
  },
  {
   "cell_type": "code",
   "execution_count": 561,
   "id": "c90cbc2b",
   "metadata": {},
   "outputs": [
    {
     "name": "stdout",
     "output_type": "stream",
     "text": [
      "1 20\n"
     ]
    }
   ],
   "source": [
    "def foo(a, /, *, b=10):\n",
    "    print(a, b)\n",
    "    \n",
    "# foo(10, 20)\n",
    "# foo(a=1, b=20)\n",
    "foo(1, b=20)"
   ]
  },
  {
   "cell_type": "code",
   "execution_count": 562,
   "id": "edf3c16e",
   "metadata": {},
   "outputs": [
    {
     "name": "stdout",
     "output_type": "stream",
     "text": [
      "()\n",
      "(1, 2)\n",
      "(1, 2, 3, 1, 2, 3)\n"
     ]
    }
   ],
   "source": [
    "def bar(*args):\n",
    "    print(args)\n",
    "\n",
    "\n",
    "bar()\n",
    "bar(1, 2)\n",
    "bar(1, 2, 3, 1, 2, 3)\n"
   ]
  },
  {
   "cell_type": "code",
   "execution_count": 565,
   "id": "cfa67dc7",
   "metadata": {},
   "outputs": [
    {
     "name": "stdout",
     "output_type": "stream",
     "text": [
      "()\n",
      "(3, 1, 2, 3)\n"
     ]
    }
   ],
   "source": [
    "def bar(a, b, *args):\n",
    "    print(args)\n",
    "\n",
    "\n",
    "# bar()\n",
    "bar(1, 2)\n",
    "bar(1, 2, 3, 1, 2, 3)"
   ]
  },
  {
   "cell_type": "code",
   "execution_count": 568,
   "id": "73ea2a37",
   "metadata": {},
   "outputs": [
    {
     "name": "stdout",
     "output_type": "stream",
     "text": [
      "{}\n",
      "{'a': 1, 'b': 2}\n"
     ]
    },
    {
     "ename": "TypeError",
     "evalue": "bar() takes 0 positional arguments but 6 were given",
     "output_type": "error",
     "traceback": [
      "\u001b[0;31m---------------------------------------------------------------------------\u001b[0m",
      "\u001b[0;31mTypeError\u001b[0m                                 Traceback (most recent call last)",
      "Cell \u001b[0;32mIn[568], line 7\u001b[0m\n\u001b[1;32m      5\u001b[0m bar()\n\u001b[1;32m      6\u001b[0m bar(a\u001b[38;5;241m=\u001b[39m\u001b[38;5;241m1\u001b[39m, b\u001b[38;5;241m=\u001b[39m\u001b[38;5;241m2\u001b[39m)\n\u001b[0;32m----> 7\u001b[0m \u001b[43mbar\u001b[49m\u001b[43m(\u001b[49m\u001b[38;5;241;43m1\u001b[39;49m\u001b[43m,\u001b[49m\u001b[43m \u001b[49m\u001b[38;5;241;43m2\u001b[39;49m\u001b[43m,\u001b[49m\u001b[43m \u001b[49m\u001b[38;5;241;43m3\u001b[39;49m\u001b[43m,\u001b[49m\u001b[43m \u001b[49m\u001b[38;5;241;43m1\u001b[39;49m\u001b[43m,\u001b[49m\u001b[43m \u001b[49m\u001b[38;5;241;43m2\u001b[39;49m\u001b[43m,\u001b[49m\u001b[43m \u001b[49m\u001b[38;5;241;43m3\u001b[39;49m\u001b[43m)\u001b[49m\n",
      "\u001b[0;31mTypeError\u001b[0m: bar() takes 0 positional arguments but 6 were given"
     ]
    }
   ],
   "source": [
    "def bar(**kwargs):\n",
    "    print(kwargs)\n",
    "\n",
    "\n",
    "bar()\n",
    "bar(a=1, b=2)\n",
    "# bar(1, 2, 3, 1, 2, 3)\n"
   ]
  },
  {
   "cell_type": "code",
   "execution_count": 570,
   "id": "dda24f8a",
   "metadata": {},
   "outputs": [
    {
     "name": "stdout",
     "output_type": "stream",
     "text": [
      "()\n",
      "{}\n",
      "()\n",
      "{'a': 1, 'b': 2}\n",
      "(1, 2, 3, 1, 2, 3)\n",
      "{}\n",
      "(1, 2, 3, 1, 2, 3)\n",
      "{'a': 1, 'b': 2}\n"
     ]
    }
   ],
   "source": [
    "def bar(*args, **kwargs):\n",
    "    print(args)\n",
    "    print(kwargs)\n",
    "\n",
    "\n",
    "bar()\n",
    "bar(a=1, b=2)\n",
    "bar(1, 2, 3, 1, 2, 3)\n",
    "bar(1, 2, 3, 1, 2, 3, a=1, b=2)\n"
   ]
  },
  {
   "cell_type": "code",
   "execution_count": 575,
   "id": "26575620",
   "metadata": {},
   "outputs": [
    {
     "name": "stdout",
     "output_type": "stream",
     "text": [
      "([1, 2, 3, 4], {'a': 1, 'b': 2, 'c': 3})\n",
      "{}\n",
      "(1, 2, 3, 4, {'a': 1, 'b': 2, 'c': 3})\n",
      "{}\n",
      "(1, 2, 3, 4)\n",
      "{'a': 1, 'b': 2, 'c': 3}\n"
     ]
    }
   ],
   "source": [
    "arg_pozycyjne = [1, 2, 3, 4]\n",
    "arg_nazwane = {\"a\":1, \"b\": 2, \"c\":3}\n",
    "\n",
    "bar(arg_pozycyjne, arg_nazwane) # bar([1, 2, 3, 4], {\"a\":1, \"b\": 2, \"c\":3} )\n",
    "bar(*arg_pozycyjne, arg_nazwane) # bar(1, 2, 3, 4, {\"a\":1, \"b\": 2, \"c\":3} )\n",
    "bar(*arg_pozycyjne, **arg_nazwane) # bar(1, 2, 3, 4, a=1, b=2, c=3} )"
   ]
  },
  {
   "cell_type": "code",
   "execution_count": 576,
   "id": "f221a150",
   "metadata": {},
   "outputs": [],
   "source": [
    "a, b = 1, 2"
   ]
  },
  {
   "cell_type": "code",
   "execution_count": 584,
   "id": "8d811a35",
   "metadata": {},
   "outputs": [],
   "source": [
    "a, *b, c = 1, 2, 3, 6, 7, 8, 9"
   ]
  },
  {
   "cell_type": "code",
   "execution_count": 585,
   "id": "649a887e",
   "metadata": {},
   "outputs": [
    {
     "data": {
      "text/plain": [
       "(1, [2, 3, 6, 7, 8], 9)"
      ]
     },
     "execution_count": 585,
     "metadata": {},
     "output_type": "execute_result"
    }
   ],
   "source": [
    "a, b, c"
   ]
  },
  {
   "cell_type": "markdown",
   "id": "38f4bff4",
   "metadata": {},
   "source": [
    "### default parameter values"
   ]
  },
  {
   "cell_type": "code",
   "execution_count": 594,
   "id": "ff193da5",
   "metadata": {},
   "outputs": [
    {
     "data": {
      "text/plain": [
       "[10, 20]"
      ]
     },
     "execution_count": 594,
     "metadata": {},
     "output_type": "execute_result"
    }
   ],
   "source": [
    "def bar(n, collection=[]):\n",
    "    collection.append(n)\n",
    "    return collection\n",
    "\n",
    "bar(10)\n",
    "bar(20)"
   ]
  },
  {
   "cell_type": "code",
   "execution_count": 595,
   "id": "76fda3a6",
   "metadata": {},
   "outputs": [
    {
     "name": "stdout",
     "output_type": "stream",
     "text": [
      "([10, 20],)\n"
     ]
    }
   ],
   "source": [
    "dir(bar)\n",
    "\n",
    "print(bar.__defaults__)"
   ]
  },
  {
   "cell_type": "code",
   "execution_count": 596,
   "id": "9d74ce2b",
   "metadata": {},
   "outputs": [
    {
     "data": {
      "text/plain": [
       "[20]"
      ]
     },
     "execution_count": 596,
     "metadata": {},
     "output_type": "execute_result"
    }
   ],
   "source": [
    "def bar(n, collection=None):\n",
    "    if not collection:\n",
    "        collection = []\n",
    "    collection.append(n)\n",
    "    return collection\n",
    "\n",
    "bar(10)\n",
    "bar(20)"
   ]
  },
  {
   "cell_type": "markdown",
   "id": "f9613e64",
   "metadata": {},
   "source": [
    "### name scopes, name hiding (shadowing), and the global keyword"
   ]
  },
  {
   "cell_type": "code",
   "execution_count": 598,
   "id": "76aa4f62",
   "metadata": {},
   "outputs": [
    {
     "name": "stdout",
     "output_type": "stream",
     "text": [
      "Writing przestrzenie_nazw_1.py\n"
     ]
    }
   ],
   "source": [
    "%%writefile przestrzenie_nazw_1.py\n",
    "\n",
    "a = 1\n",
    "\n",
    "def foo():\n",
    "    print(a)\n",
    "    \n",
    "foo()"
   ]
  },
  {
   "cell_type": "code",
   "execution_count": 599,
   "id": "c1953258",
   "metadata": {},
   "outputs": [
    {
     "name": "stdout",
     "output_type": "stream",
     "text": [
      "1\r\n"
     ]
    }
   ],
   "source": [
    "!python przestrzenie_nazw_1.py"
   ]
  },
  {
   "cell_type": "code",
   "execution_count": 600,
   "id": "9930f02d",
   "metadata": {},
   "outputs": [
    {
     "name": "stdout",
     "output_type": "stream",
     "text": [
      "Writing przestrzenie_nazw_2.py\n"
     ]
    }
   ],
   "source": [
    "%%writefile przestrzenie_nazw_2.py\n",
    "\n",
    "a = 1\n",
    "\n",
    "def foo():\n",
    "    def bar():\n",
    "        print(a)\n",
    "    bar()\n",
    "    \n",
    "foo()"
   ]
  },
  {
   "cell_type": "code",
   "execution_count": 601,
   "id": "dcfa9f36",
   "metadata": {},
   "outputs": [
    {
     "name": "stdout",
     "output_type": "stream",
     "text": [
      "1\r\n"
     ]
    }
   ],
   "source": [
    "!python przestrzenie_nazw_2.py"
   ]
  },
  {
   "cell_type": "code",
   "execution_count": 606,
   "id": "1c0a4d80",
   "metadata": {},
   "outputs": [
    {
     "name": "stdout",
     "output_type": "stream",
     "text": [
      "Overwriting przestrzenie_nazw_3.py\n"
     ]
    }
   ],
   "source": [
    "%%writefile przestrzenie_nazw_3.py\n",
    "\n",
    "a = 1  # globalne a z pkt widzenia foo\n",
    "\n",
    "def foo():\n",
    "    a = 2  # lokalne a z pkt widzenia foo\n",
    "    b = 3\n",
    "    print(a)\n",
    "\n",
    "    \n",
    "foo()\n",
    "print(a)\n",
    "# print(b)"
   ]
  },
  {
   "cell_type": "code",
   "execution_count": 607,
   "id": "eed9cb98",
   "metadata": {},
   "outputs": [
    {
     "name": "stdout",
     "output_type": "stream",
     "text": [
      "2\r\n",
      "1\r\n"
     ]
    }
   ],
   "source": [
    "!python przestrzenie_nazw_3.py"
   ]
  },
  {
   "cell_type": "code",
   "execution_count": 608,
   "id": "56f3604d",
   "metadata": {},
   "outputs": [
    {
     "name": "stdout",
     "output_type": "stream",
     "text": [
      "Writing przestrzenie_nazw_4.py\n"
     ]
    }
   ],
   "source": [
    "%%writefile przestrzenie_nazw_4.py\n",
    "\n",
    "a = 1  # globalne a z pkt widzenia foo\n",
    "\n",
    "def foo():\n",
    "    global a\n",
    "    a = 2  # lokalne a z pkt widzenia foo\n",
    "    b = 3\n",
    "    print(a)\n",
    "\n",
    "    \n",
    "foo()\n",
    "print(a)\n",
    "# print(b)"
   ]
  },
  {
   "cell_type": "code",
   "execution_count": 609,
   "id": "b6649c32",
   "metadata": {},
   "outputs": [
    {
     "name": "stdout",
     "output_type": "stream",
     "text": [
      "2\r\n",
      "2\r\n"
     ]
    }
   ],
   "source": [
    "!python przestrzenie_nazw_4.py"
   ]
  },
  {
   "cell_type": "code",
   "execution_count": 625,
   "id": "c5d38b2d",
   "metadata": {},
   "outputs": [
    {
     "name": "stdout",
     "output_type": "stream",
     "text": [
      "Overwriting przestrzenie_nazw_5.py\n"
     ]
    }
   ],
   "source": [
    "%%writefile przestrzenie_nazw_5.py\n",
    "\n",
    "a = 1  # globalne a z pkt widzenia foo\n",
    "\n",
    "def foo():\n",
    "    b = 2  # b z przestrzeni domykającej (nielojalnej) z pkt widzenia bar\n",
    "    \n",
    "    def bar():\n",
    "        global b\n",
    "        b = 4  # lokalne a z pkt widzenia foo\n",
    "        print(b, \"z bar\")\n",
    "    \n",
    "\n",
    "    bar()\n",
    "    print(b, \"z foo\")\n",
    "    \n",
    "foo()\n"
   ]
  },
  {
   "cell_type": "code",
   "execution_count": 626,
   "id": "43b863c1",
   "metadata": {},
   "outputs": [
    {
     "name": "stdout",
     "output_type": "stream",
     "text": [
      "4 z bar\r\n",
      "2 z foo\r\n"
     ]
    }
   ],
   "source": [
    "!python3 przestrzenie_nazw_5.py"
   ]
  },
  {
   "cell_type": "code",
   "execution_count": 633,
   "id": "67869e57",
   "metadata": {},
   "outputs": [],
   "source": [
    "# __bultin__, globalna, domykajaca (enclosing scope), lokalna"
   ]
  },
  {
   "cell_type": "code",
   "execution_count": 627,
   "id": "6484e507",
   "metadata": {},
   "outputs": [],
   "source": [
    "print = 1"
   ]
  },
  {
   "cell_type": "code",
   "execution_count": 631,
   "id": "3bfd3907",
   "metadata": {},
   "outputs": [],
   "source": [
    "print = __builtin__.print"
   ]
  },
  {
   "cell_type": "code",
   "execution_count": 632,
   "id": "623a1125",
   "metadata": {},
   "outputs": [
    {
     "data": {
      "text/plain": [
       "<function print>"
      ]
     },
     "execution_count": 632,
     "metadata": {},
     "output_type": "execute_result"
    }
   ],
   "source": [
    "print"
   ]
  },
  {
   "cell_type": "markdown",
   "id": "502605e9",
   "metadata": {},
   "source": [
    "## PCEP-30-02 4.3 – Python Built-In Exceptions Hierarchy\n",
    "\n",
    "    BaseException\n",
    "    Exception\n",
    "    SystemExit\n",
    "    KeyboardInterrupt\n",
    "    abstract exceptions\n",
    "    ArithmeticError\n",
    "    LookupError\n",
    "    IndexError\n",
    "    KeyError\n",
    "    TypeError\n",
    "    ValueError"
   ]
  },
  {
   "cell_type": "code",
   "execution_count": 657,
   "id": "7d5c2323",
   "metadata": {},
   "outputs": [
    {
     "data": {
      "text/plain": [
       "[ValueError, Exception, BaseException, object]"
      ]
     },
     "execution_count": 657,
     "metadata": {},
     "output_type": "execute_result"
    }
   ],
   "source": [
    "ValueError.mro()"
   ]
  },
  {
   "cell_type": "code",
   "execution_count": 658,
   "id": "84d9770b",
   "metadata": {},
   "outputs": [
    {
     "data": {
      "text/plain": [
       "ValueError()"
      ]
     },
     "execution_count": 658,
     "metadata": {},
     "output_type": "execute_result"
    }
   ],
   "source": [
    "ValueError()"
   ]
  },
  {
   "cell_type": "code",
   "execution_count": 662,
   "id": "1f194f69",
   "metadata": {},
   "outputs": [
    {
     "data": {
      "text/plain": [
       "True"
      ]
     },
     "execution_count": 662,
     "metadata": {},
     "output_type": "execute_result"
    }
   ],
   "source": [
    "isinstance(ValueError(), object)"
   ]
  },
  {
   "cell_type": "code",
   "execution_count": 663,
   "id": "bc8d623e",
   "metadata": {},
   "outputs": [
    {
     "data": {
      "text/plain": [
       "[IndexError, LookupError, Exception, BaseException, object]"
      ]
     },
     "execution_count": 663,
     "metadata": {},
     "output_type": "execute_result"
    }
   ],
   "source": [
    "IndexError.mro()"
   ]
  },
  {
   "cell_type": "code",
   "execution_count": 664,
   "id": "beaaea6f",
   "metadata": {},
   "outputs": [
    {
     "data": {
      "text/plain": [
       "[KeyError, LookupError, Exception, BaseException, object]"
      ]
     },
     "execution_count": 664,
     "metadata": {},
     "output_type": "execute_result"
    }
   ],
   "source": [
    "KeyError.mro()"
   ]
  },
  {
   "cell_type": "markdown",
   "id": "016f663a",
   "metadata": {},
   "source": [
    "## PCEP-30-02 4.4 – Basics of Python Exception Handling"
   ]
  },
  {
   "cell_type": "code",
   "execution_count": null,
   "id": "006331d4",
   "metadata": {},
   "outputs": [],
   "source": []
  },
  {
   "cell_type": "markdown",
   "id": "bd8d9452",
   "metadata": {},
   "source": [
    "### try-except / the try-except Exception"
   ]
  },
  {
   "cell_type": "code",
   "execution_count": 643,
   "id": "e910da35",
   "metadata": {},
   "outputs": [
    {
     "ename": "NameError",
     "evalue": "name 'ddd' is not defined",
     "output_type": "error",
     "traceback": [
      "\u001b[0;31m---------------------------------------------------------------------------\u001b[0m",
      "\u001b[0;31mNameError\u001b[0m                                 Traceback (most recent call last)",
      "Cell \u001b[0;32mIn[643], line 2\u001b[0m\n\u001b[1;32m      1\u001b[0m \u001b[38;5;28;01mtry\u001b[39;00m:\n\u001b[0;32m----> 2\u001b[0m     \u001b[38;5;241m1\u001b[39m \u001b[38;5;241m/\u001b[39m \u001b[43mddd\u001b[49m\n\u001b[1;32m      3\u001b[0m \u001b[38;5;28;01mexcept\u001b[39;00m \u001b[38;5;167;01mZeroDivisionError\u001b[39;00m:\n\u001b[1;32m      4\u001b[0m     \u001b[38;5;28mprint\u001b[39m(\u001b[38;5;124m\"\u001b[39m\u001b[38;5;124mByło dzielenie przez 0\u001b[39m\u001b[38;5;124m\"\u001b[39m)\n",
      "\u001b[0;31mNameError\u001b[0m: name 'ddd' is not defined"
     ]
    }
   ],
   "source": [
    "try:\n",
    "    1 / 0\n",
    "except ZeroDivisionError:\n",
    "    print(\"Było dzielenie przez 0\")"
   ]
  },
  {
   "cell_type": "code",
   "execution_count": null,
   "id": "1a1d010f",
   "metadata": {},
   "outputs": [],
   "source": [
    "try:\n",
    "    1 / dsdsdsdsdsdsdsd\n",
    "except Exception as e:\n",
    "    print(\"Był jakiś wyjątek, ale nie wiem jaki: \", e)"
   ]
  },
  {
   "cell_type": "markdown",
   "id": "e8dc7417",
   "metadata": {},
   "source": [
    "### ordering the except branches"
   ]
  },
  {
   "cell_type": "code",
   "execution_count": 653,
   "id": "a3e7a78a",
   "metadata": {},
   "outputs": [
    {
     "name": "stdout",
     "output_type": "stream",
     "text": [
      "Cos innego\n",
      "Zawsze sprzątam\n"
     ]
    }
   ],
   "source": [
    "try:\n",
    "    1 / 0\n",
    "except Exception:\n",
    "    print(\"Cos innego\")\n",
    "except ZeroDivisionError:\n",
    "    print(\"Było dzielenie przez 0\")\n",
    "except NameError:\n",
    "    print(\"Zła nazwa\")\n",
    "\n",
    "finally:\n",
    "    print(\"Zawsze sprzątam\")"
   ]
  },
  {
   "cell_type": "code",
   "execution_count": null,
   "id": "f7187f63",
   "metadata": {},
   "outputs": [],
   "source": [
    "try:\n",
    "    1 / 0\n",
    "except ZeroDivisionError:\n",
    "    print(\"Było dzielenie przez 0\")\n",
    "except NameError:\n",
    "    print(\"Zła nazwa\")\n",
    "except Exception:\n",
    "    print(\"Cos innego\")\n",
    "finally:\n",
    "    print(\"Zawsze sprzątam\")"
   ]
  },
  {
   "cell_type": "code",
   "execution_count": null,
   "id": "d1bcae32",
   "metadata": {},
   "outputs": [],
   "source": []
  },
  {
   "cell_type": "markdown",
   "id": "33bb3ef9",
   "metadata": {},
   "source": [
    "### propagating exceptions through function boundaries"
   ]
  },
  {
   "cell_type": "code",
   "execution_count": 656,
   "id": "2055328b",
   "metadata": {},
   "outputs": [
    {
     "name": "stdout",
     "output_type": "stream",
     "text": [
      "złe dane\n"
     ]
    },
    {
     "ename": "ValueError",
     "evalue": "b nie powinno być 0",
     "output_type": "error",
     "traceback": [
      "\u001b[0;31m---------------------------------------------------------------------------\u001b[0m",
      "\u001b[0;31mValueError\u001b[0m                                Traceback (most recent call last)",
      "Cell \u001b[0;32mIn[656], line 15\u001b[0m\n\u001b[1;32m     12\u001b[0m         \u001b[38;5;28mprint\u001b[39m(\u001b[38;5;124m\"\u001b[39m\u001b[38;5;124mzłe dane\u001b[39m\u001b[38;5;124m\"\u001b[39m)\n\u001b[1;32m     13\u001b[0m         \u001b[38;5;28;01mraise\u001b[39;00m e\n\u001b[0;32m---> 15\u001b[0m \u001b[43mbar\u001b[49m\u001b[43m(\u001b[49m\u001b[43m)\u001b[49m\n",
      "Cell \u001b[0;32mIn[656], line 13\u001b[0m, in \u001b[0;36mbar\u001b[0;34m()\u001b[0m\n\u001b[1;32m     11\u001b[0m \u001b[38;5;28;01mexcept\u001b[39;00m \u001b[38;5;167;01mValueError\u001b[39;00m \u001b[38;5;28;01mas\u001b[39;00m e:\n\u001b[1;32m     12\u001b[0m     \u001b[38;5;28mprint\u001b[39m(\u001b[38;5;124m\"\u001b[39m\u001b[38;5;124mzłe dane\u001b[39m\u001b[38;5;124m\"\u001b[39m)\n\u001b[0;32m---> 13\u001b[0m     \u001b[38;5;28;01mraise\u001b[39;00m e\n",
      "Cell \u001b[0;32mIn[656], line 10\u001b[0m, in \u001b[0;36mbar\u001b[0;34m()\u001b[0m\n\u001b[1;32m      7\u001b[0m a, b \u001b[38;5;241m=\u001b[39m \u001b[38;5;241m1\u001b[39m, \u001b[38;5;241m0\u001b[39m\n\u001b[1;32m      9\u001b[0m \u001b[38;5;28;01mtry\u001b[39;00m:\n\u001b[0;32m---> 10\u001b[0m     \u001b[43mfoo\u001b[49m\u001b[43m(\u001b[49m\u001b[43ma\u001b[49m\u001b[43m,\u001b[49m\u001b[43m \u001b[49m\u001b[43mb\u001b[49m\u001b[43m)\u001b[49m\n\u001b[1;32m     11\u001b[0m \u001b[38;5;28;01mexcept\u001b[39;00m \u001b[38;5;167;01mValueError\u001b[39;00m \u001b[38;5;28;01mas\u001b[39;00m e:\n\u001b[1;32m     12\u001b[0m     \u001b[38;5;28mprint\u001b[39m(\u001b[38;5;124m\"\u001b[39m\u001b[38;5;124mzłe dane\u001b[39m\u001b[38;5;124m\"\u001b[39m)\n",
      "Cell \u001b[0;32mIn[656], line 3\u001b[0m, in \u001b[0;36mfoo\u001b[0;34m(a, b)\u001b[0m\n\u001b[1;32m      1\u001b[0m \u001b[38;5;28;01mdef\u001b[39;00m \u001b[38;5;21mfoo\u001b[39m(a, b):\n\u001b[1;32m      2\u001b[0m     \u001b[38;5;28;01mif\u001b[39;00m b \u001b[38;5;241m==\u001b[39m \u001b[38;5;241m0\u001b[39m:\n\u001b[0;32m----> 3\u001b[0m         \u001b[38;5;28;01mraise\u001b[39;00m \u001b[38;5;167;01mValueError\u001b[39;00m(\u001b[38;5;124m\"\u001b[39m\u001b[38;5;124mb nie powinno być 0\u001b[39m\u001b[38;5;124m\"\u001b[39m)\n\u001b[1;32m      4\u001b[0m     \u001b[38;5;28;01mreturn\u001b[39;00m a \u001b[38;5;241m/\u001b[39m b\n",
      "\u001b[0;31mValueError\u001b[0m: b nie powinno być 0"
     ]
    }
   ],
   "source": [
    "def foo(a, b):\n",
    "    if b == 0:\n",
    "        raise ValueError(\"b nie powinno być 0\")\n",
    "    return a / b\n",
    "\n",
    "def bar():\n",
    "    a, b = 1, 0\n",
    "    \n",
    "    try:\n",
    "        foo(a, b)\n",
    "    except ValueError as e:\n",
    "        print(\"złe dane\")\n",
    "        raise e\n",
    "    \n",
    "bar()\n",
    "    "
   ]
  },
  {
   "cell_type": "markdown",
   "id": "d241a58e",
   "metadata": {},
   "source": [
    "### delegating responsibility for handling exceptions"
   ]
  },
  {
   "cell_type": "code",
   "execution_count": null,
   "id": "bfd02e18",
   "metadata": {},
   "outputs": [],
   "source": []
  },
  {
   "cell_type": "code",
   "execution_count": 665,
   "id": "66c26763",
   "metadata": {},
   "outputs": [
    {
     "data": {
      "text/plain": [
       "['ArithmeticError',\n",
       " 'AssertionError',\n",
       " 'AttributeError',\n",
       " 'BaseException',\n",
       " 'BlockingIOError',\n",
       " 'BrokenPipeError',\n",
       " 'BufferError',\n",
       " 'BytesWarning',\n",
       " 'ChildProcessError',\n",
       " 'ConnectionAbortedError',\n",
       " 'ConnectionError',\n",
       " 'ConnectionRefusedError',\n",
       " 'ConnectionResetError',\n",
       " 'DeprecationWarning',\n",
       " 'EOFError',\n",
       " 'Ellipsis',\n",
       " 'EncodingWarning',\n",
       " 'EnvironmentError',\n",
       " 'Exception',\n",
       " 'False',\n",
       " 'FileExistsError',\n",
       " 'FileNotFoundError',\n",
       " 'FloatingPointError',\n",
       " 'FutureWarning',\n",
       " 'GeneratorExit',\n",
       " 'IOError',\n",
       " 'ImportError',\n",
       " 'ImportWarning',\n",
       " 'IndentationError',\n",
       " 'IndexError',\n",
       " 'InterruptedError',\n",
       " 'IsADirectoryError',\n",
       " 'KeyError',\n",
       " 'KeyboardInterrupt',\n",
       " 'LookupError',\n",
       " 'MemoryError',\n",
       " 'ModuleNotFoundError',\n",
       " 'NameError',\n",
       " 'None',\n",
       " 'NotADirectoryError',\n",
       " 'NotImplemented',\n",
       " 'NotImplementedError',\n",
       " 'OSError',\n",
       " 'OverflowError',\n",
       " 'PendingDeprecationWarning',\n",
       " 'PermissionError',\n",
       " 'ProcessLookupError',\n",
       " 'RecursionError',\n",
       " 'ReferenceError',\n",
       " 'ResourceWarning',\n",
       " 'RuntimeError',\n",
       " 'RuntimeWarning',\n",
       " 'StopAsyncIteration',\n",
       " 'StopIteration',\n",
       " 'SyntaxError',\n",
       " 'SyntaxWarning',\n",
       " 'SystemError',\n",
       " 'SystemExit',\n",
       " 'TabError',\n",
       " 'TimeoutError',\n",
       " 'True',\n",
       " 'TypeError',\n",
       " 'UnboundLocalError',\n",
       " 'UnicodeDecodeError',\n",
       " 'UnicodeEncodeError',\n",
       " 'UnicodeError',\n",
       " 'UnicodeTranslateError',\n",
       " 'UnicodeWarning',\n",
       " 'UserWarning',\n",
       " 'ValueError',\n",
       " 'Warning',\n",
       " 'ZeroDivisionError',\n",
       " '__IPYTHON__',\n",
       " '__build_class__',\n",
       " '__debug__',\n",
       " '__doc__',\n",
       " '__import__',\n",
       " '__loader__',\n",
       " '__name__',\n",
       " '__package__',\n",
       " '__spec__',\n",
       " 'abs',\n",
       " 'aiter',\n",
       " 'all',\n",
       " 'anext',\n",
       " 'any',\n",
       " 'ascii',\n",
       " 'bin',\n",
       " 'bool',\n",
       " 'breakpoint',\n",
       " 'bytearray',\n",
       " 'bytes',\n",
       " 'callable',\n",
       " 'chr',\n",
       " 'classmethod',\n",
       " 'compile',\n",
       " 'complex',\n",
       " 'copyright',\n",
       " 'credits',\n",
       " 'delattr',\n",
       " 'dict',\n",
       " 'dir',\n",
       " 'display',\n",
       " 'divmod',\n",
       " 'enumerate',\n",
       " 'eval',\n",
       " 'exec',\n",
       " 'execfile',\n",
       " 'filter',\n",
       " 'float',\n",
       " 'format',\n",
       " 'frozenset',\n",
       " 'get_ipython',\n",
       " 'getattr',\n",
       " 'globals',\n",
       " 'hasattr',\n",
       " 'hash',\n",
       " 'help',\n",
       " 'hex',\n",
       " 'id',\n",
       " 'input',\n",
       " 'int',\n",
       " 'isinstance',\n",
       " 'issubclass',\n",
       " 'iter',\n",
       " 'len',\n",
       " 'license',\n",
       " 'list',\n",
       " 'locals',\n",
       " 'map',\n",
       " 'max',\n",
       " 'memoryview',\n",
       " 'min',\n",
       " 'next',\n",
       " 'object',\n",
       " 'oct',\n",
       " 'open',\n",
       " 'ord',\n",
       " 'pow',\n",
       " 'print',\n",
       " 'property',\n",
       " 'range',\n",
       " 'repr',\n",
       " 'reversed',\n",
       " 'round',\n",
       " 'runfile',\n",
       " 'set',\n",
       " 'setattr',\n",
       " 'slice',\n",
       " 'sorted',\n",
       " 'staticmethod',\n",
       " 'str',\n",
       " 'sum',\n",
       " 'super',\n",
       " 'tuple',\n",
       " 'type',\n",
       " 'vars',\n",
       " 'zip']"
      ]
     },
     "execution_count": 665,
     "metadata": {},
     "output_type": "execute_result"
    }
   ],
   "source": [
    "dir(__builtin__)"
   ]
  },
  {
   "cell_type": "code",
   "execution_count": 668,
   "id": "485a7ca9",
   "metadata": {},
   "outputs": [
    {
     "name": "stdout",
     "output_type": "stream",
     "text": [
      "Help on built-in function sorted in module builtins:\n",
      "\n",
      "sorted(iterable, /, *, key=None, reverse=False)\n",
      "    Return a new list containing all items from the iterable in ascending order.\n",
      "    \n",
      "    A custom key function can be supplied to customize the sort order, and the\n",
      "    reverse flag can be set to request the result in descending order.\n",
      "\n"
     ]
    }
   ],
   "source": [
    "help(sorted)"
   ]
  },
  {
   "cell_type": "code",
   "execution_count": 669,
   "id": "6367d288",
   "metadata": {},
   "outputs": [],
   "source": [
    "dane = [\"c3\", \"a4\", \"b1\"]"
   ]
  },
  {
   "cell_type": "code",
   "execution_count": 670,
   "id": "666abc2a",
   "metadata": {},
   "outputs": [
    {
     "data": {
      "text/plain": [
       "['a4', 'b1', 'c3']"
      ]
     },
     "execution_count": 670,
     "metadata": {},
     "output_type": "execute_result"
    }
   ],
   "source": [
    "sorted(dane)"
   ]
  },
  {
   "cell_type": "code",
   "execution_count": 671,
   "id": "67aae113",
   "metadata": {},
   "outputs": [],
   "source": [
    "def wez_drugi(x):\n",
    "    return x[1]"
   ]
  },
  {
   "cell_type": "code",
   "execution_count": 672,
   "id": "153d1f96",
   "metadata": {},
   "outputs": [
    {
     "data": {
      "text/plain": [
       "['b1', 'c3', 'a4']"
      ]
     },
     "execution_count": 672,
     "metadata": {},
     "output_type": "execute_result"
    }
   ],
   "source": [
    "sorted(dane, key=wez_drugi)"
   ]
  },
  {
   "cell_type": "code",
   "execution_count": 673,
   "id": "79d23721",
   "metadata": {},
   "outputs": [
    {
     "data": {
      "text/plain": [
       "['b1', 'c3', 'a4']"
      ]
     },
     "execution_count": 673,
     "metadata": {},
     "output_type": "execute_result"
    }
   ],
   "source": [
    "sorted(dane, key=lambda x: x[1])"
   ]
  },
  {
   "cell_type": "code",
   "execution_count": null,
   "id": "e1d3f272",
   "metadata": {},
   "outputs": [],
   "source": []
  },
  {
   "cell_type": "code",
   "execution_count": 674,
   "id": "904c1296",
   "metadata": {},
   "outputs": [],
   "source": [
    "def add(a, b):\n",
    "    return a+b\n",
    "\n",
    "def sub(a, b):\n",
    "    return a-b\n",
    "\n",
    "operacje = [add, sub]"
   ]
  },
  {
   "cell_type": "code",
   "execution_count": 675,
   "id": "aa0aef8d",
   "metadata": {},
   "outputs": [],
   "source": [
    "a, b = 1, 2"
   ]
  },
  {
   "cell_type": "code",
   "execution_count": 676,
   "id": "8c0eb721",
   "metadata": {},
   "outputs": [
    {
     "name": "stdout",
     "output_type": "stream",
     "text": [
      "3\n",
      "-1\n"
     ]
    }
   ],
   "source": [
    "for f in operacje:\n",
    "    print(f(a, b))"
   ]
  },
  {
   "cell_type": "code",
   "execution_count": 679,
   "id": "45639e57",
   "metadata": {},
   "outputs": [
    {
     "data": {
      "text/plain": [
       "3"
      ]
     },
     "execution_count": 679,
     "metadata": {},
     "output_type": "execute_result"
    }
   ],
   "source": [
    "operacje = {\n",
    "    \"+\": add,\n",
    "    \"-\": sub\n",
    "}\n",
    "\n",
    "op = \"+\"\n",
    "operacje[op](a, b)"
   ]
  },
  {
   "cell_type": "code",
   "execution_count": 680,
   "id": "ac35e29f",
   "metadata": {},
   "outputs": [
    {
     "data": {
      "text/plain": [
       "3"
      ]
     },
     "execution_count": 680,
     "metadata": {},
     "output_type": "execute_result"
    }
   ],
   "source": [
    "if op == \"+\":\n",
    "    r = add(a, b)\n",
    "elif op == \"-\":\n",
    "    r = sub(a, b)\n",
    "    \n",
    "r "
   ]
  },
  {
   "cell_type": "code",
   "execution_count": null,
   "id": "0f234631",
   "metadata": {},
   "outputs": [],
   "source": []
  }
 ],
 "metadata": {
  "kernelspec": {
   "display_name": "Python 3 (ipykernel)",
   "language": "python",
   "name": "python3"
  },
  "language_info": {
   "codemirror_mode": {
    "name": "ipython",
    "version": 3
   },
   "file_extension": ".py",
   "mimetype": "text/x-python",
   "name": "python",
   "nbconvert_exporter": "python",
   "pygments_lexer": "ipython3",
   "version": "3.10.7"
  },
  "toc": {
   "base_numbering": 1,
   "nav_menu": {},
   "number_sections": true,
   "sideBar": true,
   "skip_h1_title": false,
   "title_cell": "Table of Contents",
   "title_sidebar": "Contents",
   "toc_cell": false,
   "toc_position": {},
   "toc_section_display": true,
   "toc_window_display": false
  }
 },
 "nbformat": 4,
 "nbformat_minor": 5
}
